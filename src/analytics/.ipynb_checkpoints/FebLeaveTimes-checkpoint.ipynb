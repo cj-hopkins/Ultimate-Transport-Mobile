{
 "cells": [
  {
   "cell_type": "code",
   "execution_count": 1,
   "metadata": {},
   "outputs": [
    {
     "name": "stderr",
     "output_type": "stream",
     "text": [
      "/home/student/miniconda3/envs/BigData/lib/python3.6/site-packages/sklearn/cross_validation.py:41: DeprecationWarning: This module was deprecated in version 0.18 in favor of the model_selection module into which all the refactored classes and functions are moved. Also note that the interface of the new CV iterators are different from that of this module. This module will be removed in 0.20.\n",
      "  \"This module will be removed in 0.20.\", DeprecationWarning)\n"
     ]
    }
   ],
   "source": [
    "import pandas as pd\n",
    "import numpy as np \n",
    "import matplotlib.pyplot as plt\n",
    "import matplotlib.patches as mpatches\n",
    "import datetime\n",
    "from sklearn import metrics\n",
    "import statsmodels.formula.api as sm\n",
    "# from sklearn.cross_validation import cross_val_score #get deprecation warning \n",
    "from sklearn.linear_model import LogisticRegression\n",
    "from sklearn.linear_model import LinearRegression\n",
    "%matplotlib inline\n",
    "import seaborn as sns\n",
    "from sklearn.utils import shuffle\n",
    "from sklearn.cross_validation import train_test_split\n",
    "from sklearn.cross_validation import cross_val_score,cross_val_predict\n",
    "from sklearn.model_selection import KFold,train_test_split\n",
    "from sklearn.tree import export_graphviz\n",
    "from sklearn.tree import DecisionTreeClassifier\n",
    "from sklearn.ensemble import RandomForestClassifier\n",
    "from sklearn import datasets\n",
    "from sklearn import svm"
   ]
  },
  {
   "cell_type": "markdown",
   "metadata": {},
   "source": [
    "### Read in the February 2017 data for Dublin Bus"
   ]
  },
  {
   "cell_type": "code",
   "execution_count": 2,
   "metadata": {
    "collapsed": true
   },
   "outputs": [],
   "source": [
    "df1 = pd.read_csv('../../../files/feb_leave_with_lineid.csv', sep=\",\",header=None)"
   ]
  },
  {
   "cell_type": "code",
   "execution_count": 3,
   "metadata": {},
   "outputs": [
    {
     "data": {
      "text/html": [
       "<div>\n",
       "<style scoped>\n",
       "    .dataframe tbody tr th:only-of-type {\n",
       "        vertical-align: middle;\n",
       "    }\n",
       "\n",
       "    .dataframe tbody tr th {\n",
       "        vertical-align: top;\n",
       "    }\n",
       "\n",
       "    .dataframe thead th {\n",
       "        text-align: right;\n",
       "    }\n",
       "</style>\n",
       "<table border=\"1\" class=\"dataframe\">\n",
       "  <thead>\n",
       "    <tr style=\"text-align: right;\">\n",
       "      <th></th>\n",
       "      <th>0</th>\n",
       "      <th>1</th>\n",
       "      <th>2</th>\n",
       "      <th>3</th>\n",
       "      <th>4</th>\n",
       "      <th>5</th>\n",
       "      <th>6</th>\n",
       "      <th>7</th>\n",
       "      <th>8</th>\n",
       "      <th>9</th>\n",
       "      <th>10</th>\n",
       "    </tr>\n",
       "  </thead>\n",
       "  <tbody>\n",
       "    <tr>\n",
       "      <th>0</th>\n",
       "      <td>05-FEB-17 00:00:00</td>\n",
       "      <td>4343560</td>\n",
       "      <td>22</td>\n",
       "      <td>271</td>\n",
       "      <td>58672</td>\n",
       "      <td>58672</td>\n",
       "      <td>58835</td>\n",
       "      <td>58936</td>\n",
       "      <td>2534865 05-FEB-17 00:00:00</td>\n",
       "      <td>4343560</td>\n",
       "      <td>122</td>\n",
       "    </tr>\n",
       "    <tr>\n",
       "      <th>1</th>\n",
       "      <td>05-FEB-17 00:00:00</td>\n",
       "      <td>4343523</td>\n",
       "      <td>21</td>\n",
       "      <td>263</td>\n",
       "      <td>60876</td>\n",
       "      <td>60876</td>\n",
       "      <td>60899</td>\n",
       "      <td>60915</td>\n",
       "      <td>2693287 05-FEB-17 00:00:00</td>\n",
       "      <td>4343523</td>\n",
       "      <td>122</td>\n",
       "    </tr>\n",
       "    <tr>\n",
       "      <th>2</th>\n",
       "      <td>05-FEB-17 00:00:00</td>\n",
       "      <td>4343523</td>\n",
       "      <td>15</td>\n",
       "      <td>80</td>\n",
       "      <td>60225</td>\n",
       "      <td>60225</td>\n",
       "      <td>60217</td>\n",
       "      <td>60232</td>\n",
       "      <td>2693287 05-FEB-17 00:00:00</td>\n",
       "      <td>4343523</td>\n",
       "      <td>122</td>\n",
       "    </tr>\n",
       "    <tr>\n",
       "      <th>3</th>\n",
       "      <td>05-FEB-17 00:00:00</td>\n",
       "      <td>4343523</td>\n",
       "      <td>10</td>\n",
       "      <td>832</td>\n",
       "      <td>59956</td>\n",
       "      <td>59956</td>\n",
       "      <td>59937</td>\n",
       "      <td>59937</td>\n",
       "      <td>2693287 05-FEB-17 00:00:00</td>\n",
       "      <td>4343523</td>\n",
       "      <td>122</td>\n",
       "    </tr>\n",
       "    <tr>\n",
       "      <th>4</th>\n",
       "      <td>05-FEB-17 00:00:00</td>\n",
       "      <td>4343523</td>\n",
       "      <td>6</td>\n",
       "      <td>16</td>\n",
       "      <td>59730</td>\n",
       "      <td>59730</td>\n",
       "      <td>59698</td>\n",
       "      <td>59713</td>\n",
       "      <td>2693287 05-FEB-17 00:00:00</td>\n",
       "      <td>4343523</td>\n",
       "      <td>122</td>\n",
       "    </tr>\n",
       "  </tbody>\n",
       "</table>\n",
       "</div>"
      ],
      "text/plain": [
       "                   0        1   2    3      4      5      6      7   \\\n",
       "0  05-FEB-17 00:00:00  4343560  22  271  58672  58672  58835  58936   \n",
       "1  05-FEB-17 00:00:00  4343523  21  263  60876  60876  60899  60915   \n",
       "2  05-FEB-17 00:00:00  4343523  15   80  60225  60225  60217  60232   \n",
       "3  05-FEB-17 00:00:00  4343523  10  832  59956  59956  59937  59937   \n",
       "4  05-FEB-17 00:00:00  4343523   6   16  59730  59730  59698  59713   \n",
       "\n",
       "                           8        9    10  \n",
       "0  2534865 05-FEB-17 00:00:00  4343560  122  \n",
       "1  2693287 05-FEB-17 00:00:00  4343523  122  \n",
       "2  2693287 05-FEB-17 00:00:00  4343523  122  \n",
       "3  2693287 05-FEB-17 00:00:00  4343523  122  \n",
       "4  2693287 05-FEB-17 00:00:00  4343523  122  "
      ]
     },
     "execution_count": 3,
     "metadata": {},
     "output_type": "execute_result"
    }
   ],
   "source": [
    "df1.head()"
   ]
  },
  {
   "cell_type": "markdown",
   "metadata": {},
   "source": [
    "### Name the columns"
   ]
  },
  {
   "cell_type": "code",
   "execution_count": 4,
   "metadata": {
    "collapsed": true
   },
   "outputs": [],
   "source": [
    "df1.columns = ['dayofservice','tripid','progrnumber','stoppointid','plannedtime_arr','plannedtime_dep','actualtime_arr','actualtime_dep','vehicleid','trip2','lineid']"
   ]
  },
  {
   "cell_type": "markdown",
   "metadata": {},
   "source": [
    "### Drop 'vehicleid', which has no use, and 'trip2' , which is a duplicate"
   ]
  },
  {
   "cell_type": "code",
   "execution_count": 5,
   "metadata": {
    "collapsed": true
   },
   "outputs": [],
   "source": [
    "df1.drop(['vehicleid','trip2'], axis=1, inplace=True)"
   ]
  },
  {
   "cell_type": "code",
   "execution_count": 6,
   "metadata": {},
   "outputs": [
    {
     "data": {
      "text/html": [
       "<div>\n",
       "<style scoped>\n",
       "    .dataframe tbody tr th:only-of-type {\n",
       "        vertical-align: middle;\n",
       "    }\n",
       "\n",
       "    .dataframe tbody tr th {\n",
       "        vertical-align: top;\n",
       "    }\n",
       "\n",
       "    .dataframe thead th {\n",
       "        text-align: right;\n",
       "    }\n",
       "</style>\n",
       "<table border=\"1\" class=\"dataframe\">\n",
       "  <thead>\n",
       "    <tr style=\"text-align: right;\">\n",
       "      <th></th>\n",
       "      <th>dayofservice</th>\n",
       "      <th>tripid</th>\n",
       "      <th>progrnumber</th>\n",
       "      <th>stoppointid</th>\n",
       "      <th>plannedtime_arr</th>\n",
       "      <th>plannedtime_dep</th>\n",
       "      <th>actualtime_arr</th>\n",
       "      <th>actualtime_dep</th>\n",
       "      <th>lineid</th>\n",
       "    </tr>\n",
       "  </thead>\n",
       "  <tbody>\n",
       "    <tr>\n",
       "      <th>0</th>\n",
       "      <td>05-FEB-17 00:00:00</td>\n",
       "      <td>4343560</td>\n",
       "      <td>22</td>\n",
       "      <td>271</td>\n",
       "      <td>58672</td>\n",
       "      <td>58672</td>\n",
       "      <td>58835</td>\n",
       "      <td>58936</td>\n",
       "      <td>122</td>\n",
       "    </tr>\n",
       "    <tr>\n",
       "      <th>1</th>\n",
       "      <td>05-FEB-17 00:00:00</td>\n",
       "      <td>4343523</td>\n",
       "      <td>21</td>\n",
       "      <td>263</td>\n",
       "      <td>60876</td>\n",
       "      <td>60876</td>\n",
       "      <td>60899</td>\n",
       "      <td>60915</td>\n",
       "      <td>122</td>\n",
       "    </tr>\n",
       "    <tr>\n",
       "      <th>2</th>\n",
       "      <td>05-FEB-17 00:00:00</td>\n",
       "      <td>4343523</td>\n",
       "      <td>15</td>\n",
       "      <td>80</td>\n",
       "      <td>60225</td>\n",
       "      <td>60225</td>\n",
       "      <td>60217</td>\n",
       "      <td>60232</td>\n",
       "      <td>122</td>\n",
       "    </tr>\n",
       "    <tr>\n",
       "      <th>3</th>\n",
       "      <td>05-FEB-17 00:00:00</td>\n",
       "      <td>4343523</td>\n",
       "      <td>10</td>\n",
       "      <td>832</td>\n",
       "      <td>59956</td>\n",
       "      <td>59956</td>\n",
       "      <td>59937</td>\n",
       "      <td>59937</td>\n",
       "      <td>122</td>\n",
       "    </tr>\n",
       "    <tr>\n",
       "      <th>4</th>\n",
       "      <td>05-FEB-17 00:00:00</td>\n",
       "      <td>4343523</td>\n",
       "      <td>6</td>\n",
       "      <td>16</td>\n",
       "      <td>59730</td>\n",
       "      <td>59730</td>\n",
       "      <td>59698</td>\n",
       "      <td>59713</td>\n",
       "      <td>122</td>\n",
       "    </tr>\n",
       "  </tbody>\n",
       "</table>\n",
       "</div>"
      ],
      "text/plain": [
       "         dayofservice   tripid  progrnumber  stoppointid  plannedtime_arr  \\\n",
       "0  05-FEB-17 00:00:00  4343560           22          271            58672   \n",
       "1  05-FEB-17 00:00:00  4343523           21          263            60876   \n",
       "2  05-FEB-17 00:00:00  4343523           15           80            60225   \n",
       "3  05-FEB-17 00:00:00  4343523           10          832            59956   \n",
       "4  05-FEB-17 00:00:00  4343523            6           16            59730   \n",
       "\n",
       "   plannedtime_dep  actualtime_arr  actualtime_dep lineid  \n",
       "0            58672           58835           58936    122  \n",
       "1            60876           60899           60915    122  \n",
       "2            60225           60217           60232    122  \n",
       "3            59956           59937           59937    122  \n",
       "4            59730           59698           59713    122  "
      ]
     },
     "execution_count": 6,
     "metadata": {},
     "output_type": "execute_result"
    }
   ],
   "source": [
    "df1.head()"
   ]
  },
  {
   "cell_type": "code",
   "execution_count": 7,
   "metadata": {},
   "outputs": [
    {
     "data": {
      "text/plain": [
       "5139092"
      ]
     },
     "execution_count": 7,
     "metadata": {},
     "output_type": "execute_result"
    }
   ],
   "source": [
    "df1.shape[0]"
   ]
  },
  {
   "cell_type": "code",
   "execution_count": 8,
   "metadata": {},
   "outputs": [
    {
     "data": {
      "text/plain": [
       "5139092"
      ]
     },
     "execution_count": 8,
     "metadata": {},
     "output_type": "execute_result"
    }
   ],
   "source": [
    "#checked for duplicate rows, of which there are none\n",
    "df1.drop_duplicates\n",
    "df1.shape[0]"
   ]
  },
  {
   "cell_type": "code",
   "execution_count": 9,
   "metadata": {},
   "outputs": [
    {
     "data": {
      "text/plain": [
       "dayofservice       object\n",
       "tripid              int64\n",
       "progrnumber         int64\n",
       "stoppointid         int64\n",
       "plannedtime_arr     int64\n",
       "plannedtime_dep     int64\n",
       "actualtime_arr      int64\n",
       "actualtime_dep      int64\n",
       "lineid             object\n",
       "dtype: object"
      ]
     },
     "execution_count": 9,
     "metadata": {},
     "output_type": "execute_result"
    }
   ],
   "source": [
    "#Show the data type of each column\n",
    "df1.dtypes"
   ]
  },
  {
   "cell_type": "code",
   "execution_count": 10,
   "metadata": {},
   "outputs": [
    {
     "data": {
      "text/html": [
       "<div>\n",
       "<style scoped>\n",
       "    .dataframe tbody tr th:only-of-type {\n",
       "        vertical-align: middle;\n",
       "    }\n",
       "\n",
       "    .dataframe tbody tr th {\n",
       "        vertical-align: top;\n",
       "    }\n",
       "\n",
       "    .dataframe thead th {\n",
       "        text-align: right;\n",
       "    }\n",
       "</style>\n",
       "<table border=\"1\" class=\"dataframe\">\n",
       "  <thead>\n",
       "    <tr style=\"text-align: right;\">\n",
       "      <th></th>\n",
       "      <th>dayofservice</th>\n",
       "      <th>tripid</th>\n",
       "      <th>progrnumber</th>\n",
       "      <th>stoppointid</th>\n",
       "      <th>plannedtime_arr</th>\n",
       "      <th>plannedtime_dep</th>\n",
       "      <th>actualtime_arr</th>\n",
       "      <th>actualtime_dep</th>\n",
       "      <th>lineid</th>\n",
       "    </tr>\n",
       "  </thead>\n",
       "  <tbody>\n",
       "    <tr>\n",
       "      <th>5139087</th>\n",
       "      <td>28-FEB-17 00:00:00</td>\n",
       "      <td>4395439</td>\n",
       "      <td>20</td>\n",
       "      <td>4154</td>\n",
       "      <td>73113</td>\n",
       "      <td>73113</td>\n",
       "      <td>73188</td>\n",
       "      <td>73188</td>\n",
       "      <td>45A</td>\n",
       "    </tr>\n",
       "    <tr>\n",
       "      <th>5139088</th>\n",
       "      <td>28-FEB-17 00:00:00</td>\n",
       "      <td>4392804</td>\n",
       "      <td>20</td>\n",
       "      <td>4154</td>\n",
       "      <td>71313</td>\n",
       "      <td>71313</td>\n",
       "      <td>71454</td>\n",
       "      <td>71468</td>\n",
       "      <td>45A</td>\n",
       "    </tr>\n",
       "    <tr>\n",
       "      <th>5139089</th>\n",
       "      <td>28-FEB-17 00:00:00</td>\n",
       "      <td>4381544</td>\n",
       "      <td>21</td>\n",
       "      <td>4416</td>\n",
       "      <td>57471</td>\n",
       "      <td>57471</td>\n",
       "      <td>58487</td>\n",
       "      <td>58487</td>\n",
       "      <td>45A</td>\n",
       "    </tr>\n",
       "    <tr>\n",
       "      <th>5139090</th>\n",
       "      <td>28-FEB-17 00:00:00</td>\n",
       "      <td>4395441</td>\n",
       "      <td>21</td>\n",
       "      <td>4416</td>\n",
       "      <td>82031</td>\n",
       "      <td>82031</td>\n",
       "      <td>82214</td>\n",
       "      <td>82214</td>\n",
       "      <td>45A</td>\n",
       "    </tr>\n",
       "    <tr>\n",
       "      <th>5139091</th>\n",
       "      <td>28-FEB-17 00:00:00</td>\n",
       "      <td>4381816</td>\n",
       "      <td>55</td>\n",
       "      <td>797</td>\n",
       "      <td>33239</td>\n",
       "      <td>33239</td>\n",
       "      <td>33219</td>\n",
       "      <td>33231</td>\n",
       "      <td>46A</td>\n",
       "    </tr>\n",
       "  </tbody>\n",
       "</table>\n",
       "</div>"
      ],
      "text/plain": [
       "               dayofservice   tripid  progrnumber  stoppointid  \\\n",
       "5139087  28-FEB-17 00:00:00  4395439           20         4154   \n",
       "5139088  28-FEB-17 00:00:00  4392804           20         4154   \n",
       "5139089  28-FEB-17 00:00:00  4381544           21         4416   \n",
       "5139090  28-FEB-17 00:00:00  4395441           21         4416   \n",
       "5139091  28-FEB-17 00:00:00  4381816           55          797   \n",
       "\n",
       "         plannedtime_arr  plannedtime_dep  actualtime_arr  actualtime_dep  \\\n",
       "5139087            73113            73113           73188           73188   \n",
       "5139088            71313            71313           71454           71468   \n",
       "5139089            57471            57471           58487           58487   \n",
       "5139090            82031            82031           82214           82214   \n",
       "5139091            33239            33239           33219           33231   \n",
       "\n",
       "        lineid  \n",
       "5139087    45A  \n",
       "5139088    45A  \n",
       "5139089    45A  \n",
       "5139090    45A  \n",
       "5139091    46A  "
      ]
     },
     "execution_count": 10,
     "metadata": {},
     "output_type": "execute_result"
    }
   ],
   "source": [
    "df1.tail()"
   ]
  },
  {
   "cell_type": "code",
   "execution_count": 11,
   "metadata": {
    "collapsed": true
   },
   "outputs": [],
   "source": [
    "#Save the test dataframe to a csv\n",
    "#df1.to_csv('../../../files/cleanedfeb17.csv',index=False)"
   ]
  },
  {
   "cell_type": "markdown",
   "metadata": {},
   "source": [
    "### Create a dataframe for a single day, to make analysis easier\n",
    "(Smaller size should be easier to handle)"
   ]
  },
  {
   "cell_type": "code",
   "execution_count": 12,
   "metadata": {
    "collapsed": true
   },
   "outputs": [],
   "source": [
    "df_6thFeb = df1[df1['dayofservice'] == '06-FEB-17 00:00:00']"
   ]
  },
  {
   "cell_type": "code",
   "execution_count": 13,
   "metadata": {},
   "outputs": [
    {
     "data": {
      "text/plain": [
       "(356244, 9)"
      ]
     },
     "execution_count": 13,
     "metadata": {},
     "output_type": "execute_result"
    }
   ],
   "source": [
    "df_6thFeb.shape"
   ]
  },
  {
   "cell_type": "code",
   "execution_count": 14,
   "metadata": {},
   "outputs": [
    {
     "data": {
      "text/html": [
       "<div>\n",
       "<style scoped>\n",
       "    .dataframe tbody tr th:only-of-type {\n",
       "        vertical-align: middle;\n",
       "    }\n",
       "\n",
       "    .dataframe tbody tr th {\n",
       "        vertical-align: top;\n",
       "    }\n",
       "\n",
       "    .dataframe thead th {\n",
       "        text-align: right;\n",
       "    }\n",
       "</style>\n",
       "<table border=\"1\" class=\"dataframe\">\n",
       "  <thead>\n",
       "    <tr style=\"text-align: right;\">\n",
       "      <th></th>\n",
       "      <th>dayofservice</th>\n",
       "      <th>tripid</th>\n",
       "      <th>progrnumber</th>\n",
       "      <th>stoppointid</th>\n",
       "      <th>plannedtime_arr</th>\n",
       "      <th>plannedtime_dep</th>\n",
       "      <th>actualtime_arr</th>\n",
       "      <th>actualtime_dep</th>\n",
       "      <th>lineid</th>\n",
       "    </tr>\n",
       "  </thead>\n",
       "  <tbody>\n",
       "    <tr>\n",
       "      <th>1139</th>\n",
       "      <td>06-FEB-17 00:00:00</td>\n",
       "      <td>4334931</td>\n",
       "      <td>53</td>\n",
       "      <td>404</td>\n",
       "      <td>69447</td>\n",
       "      <td>69447</td>\n",
       "      <td>69347</td>\n",
       "      <td>69402</td>\n",
       "      <td>39A</td>\n",
       "    </tr>\n",
       "    <tr>\n",
       "      <th>1140</th>\n",
       "      <td>06-FEB-17 00:00:00</td>\n",
       "      <td>4334857</td>\n",
       "      <td>53</td>\n",
       "      <td>404</td>\n",
       "      <td>59053</td>\n",
       "      <td>59053</td>\n",
       "      <td>59135</td>\n",
       "      <td>59151</td>\n",
       "      <td>39A</td>\n",
       "    </tr>\n",
       "    <tr>\n",
       "      <th>1141</th>\n",
       "      <td>06-FEB-17 00:00:00</td>\n",
       "      <td>4334853</td>\n",
       "      <td>53</td>\n",
       "      <td>404</td>\n",
       "      <td>70647</td>\n",
       "      <td>70647</td>\n",
       "      <td>71145</td>\n",
       "      <td>71177</td>\n",
       "      <td>39A</td>\n",
       "    </tr>\n",
       "    <tr>\n",
       "      <th>1142</th>\n",
       "      <td>06-FEB-17 00:00:00</td>\n",
       "      <td>4334947</td>\n",
       "      <td>53</td>\n",
       "      <td>404</td>\n",
       "      <td>62053</td>\n",
       "      <td>62053</td>\n",
       "      <td>61823</td>\n",
       "      <td>61842</td>\n",
       "      <td>39A</td>\n",
       "    </tr>\n",
       "    <tr>\n",
       "      <th>1143</th>\n",
       "      <td>06-FEB-17 00:00:00</td>\n",
       "      <td>4334780</td>\n",
       "      <td>53</td>\n",
       "      <td>404</td>\n",
       "      <td>63853</td>\n",
       "      <td>63853</td>\n",
       "      <td>63624</td>\n",
       "      <td>63636</td>\n",
       "      <td>39A</td>\n",
       "    </tr>\n",
       "  </tbody>\n",
       "</table>\n",
       "</div>"
      ],
      "text/plain": [
       "            dayofservice   tripid  progrnumber  stoppointid  plannedtime_arr  \\\n",
       "1139  06-FEB-17 00:00:00  4334931           53          404            69447   \n",
       "1140  06-FEB-17 00:00:00  4334857           53          404            59053   \n",
       "1141  06-FEB-17 00:00:00  4334853           53          404            70647   \n",
       "1142  06-FEB-17 00:00:00  4334947           53          404            62053   \n",
       "1143  06-FEB-17 00:00:00  4334780           53          404            63853   \n",
       "\n",
       "      plannedtime_dep  actualtime_arr  actualtime_dep lineid  \n",
       "1139            69447           69347           69402    39A  \n",
       "1140            59053           59135           59151    39A  \n",
       "1141            70647           71145           71177    39A  \n",
       "1142            62053           61823           61842    39A  \n",
       "1143            63853           63624           63636    39A  "
      ]
     },
     "execution_count": 14,
     "metadata": {},
     "output_type": "execute_result"
    }
   ],
   "source": [
    "df_6thFeb.head()"
   ]
  },
  {
   "cell_type": "markdown",
   "metadata": {},
   "source": [
    "Convert 'dayofservice' to a datetime (drops the time) and convert the 'actualtime_arr' column to human-readable time format"
   ]
  },
  {
   "cell_type": "code",
   "execution_count": 15,
   "metadata": {},
   "outputs": [
    {
     "name": "stderr",
     "output_type": "stream",
     "text": [
      "/home/student/miniconda3/envs/BigData/lib/python3.6/site-packages/ipykernel_launcher.py:1: SettingWithCopyWarning: \n",
      "A value is trying to be set on a copy of a slice from a DataFrame.\n",
      "Try using .loc[row_indexer,col_indexer] = value instead\n",
      "\n",
      "See the caveats in the documentation: http://pandas.pydata.org/pandas-docs/stable/indexing.html#indexing-view-versus-copy\n",
      "  \"\"\"Entry point for launching an IPython kernel.\n",
      "/home/student/miniconda3/envs/BigData/lib/python3.6/site-packages/ipykernel_launcher.py:2: SettingWithCopyWarning: \n",
      "A value is trying to be set on a copy of a slice from a DataFrame.\n",
      "Try using .loc[row_indexer,col_indexer] = value instead\n",
      "\n",
      "See the caveats in the documentation: http://pandas.pydata.org/pandas-docs/stable/indexing.html#indexing-view-versus-copy\n",
      "  \n"
     ]
    }
   ],
   "source": [
    "df_6thFeb['dayofservice'] = df_6thFeb['dayofservice'].astype('datetime64[ns]')\n",
    "df_6thFeb['actualtime'] = pd.to_datetime(df_6thFeb['actualtime_arr'],unit='s').dt.time"
   ]
  },
  {
   "cell_type": "code",
   "execution_count": 16,
   "metadata": {},
   "outputs": [
    {
     "data": {
      "text/plain": [
       "dayofservice       datetime64[ns]\n",
       "tripid                      int64\n",
       "progrnumber                 int64\n",
       "stoppointid                 int64\n",
       "plannedtime_arr             int64\n",
       "plannedtime_dep             int64\n",
       "actualtime_arr              int64\n",
       "actualtime_dep              int64\n",
       "lineid                     object\n",
       "actualtime                 object\n",
       "dtype: object"
      ]
     },
     "execution_count": 16,
     "metadata": {},
     "output_type": "execute_result"
    }
   ],
   "source": [
    "df_6thFeb.dtypes"
   ]
  },
  {
   "cell_type": "code",
   "execution_count": 17,
   "metadata": {},
   "outputs": [
    {
     "data": {
      "text/html": [
       "<div>\n",
       "<style scoped>\n",
       "    .dataframe tbody tr th:only-of-type {\n",
       "        vertical-align: middle;\n",
       "    }\n",
       "\n",
       "    .dataframe tbody tr th {\n",
       "        vertical-align: top;\n",
       "    }\n",
       "\n",
       "    .dataframe thead th {\n",
       "        text-align: right;\n",
       "    }\n",
       "</style>\n",
       "<table border=\"1\" class=\"dataframe\">\n",
       "  <thead>\n",
       "    <tr style=\"text-align: right;\">\n",
       "      <th></th>\n",
       "      <th>dayofservice</th>\n",
       "      <th>tripid</th>\n",
       "      <th>progrnumber</th>\n",
       "      <th>stoppointid</th>\n",
       "      <th>plannedtime_arr</th>\n",
       "      <th>plannedtime_dep</th>\n",
       "      <th>actualtime_arr</th>\n",
       "      <th>actualtime_dep</th>\n",
       "      <th>lineid</th>\n",
       "      <th>actualtime</th>\n",
       "    </tr>\n",
       "  </thead>\n",
       "  <tbody>\n",
       "    <tr>\n",
       "      <th>1139</th>\n",
       "      <td>2017-02-06</td>\n",
       "      <td>4334931</td>\n",
       "      <td>53</td>\n",
       "      <td>404</td>\n",
       "      <td>69447</td>\n",
       "      <td>69447</td>\n",
       "      <td>69347</td>\n",
       "      <td>69402</td>\n",
       "      <td>39A</td>\n",
       "      <td>19:15:47</td>\n",
       "    </tr>\n",
       "    <tr>\n",
       "      <th>1140</th>\n",
       "      <td>2017-02-06</td>\n",
       "      <td>4334857</td>\n",
       "      <td>53</td>\n",
       "      <td>404</td>\n",
       "      <td>59053</td>\n",
       "      <td>59053</td>\n",
       "      <td>59135</td>\n",
       "      <td>59151</td>\n",
       "      <td>39A</td>\n",
       "      <td>16:25:35</td>\n",
       "    </tr>\n",
       "    <tr>\n",
       "      <th>1141</th>\n",
       "      <td>2017-02-06</td>\n",
       "      <td>4334853</td>\n",
       "      <td>53</td>\n",
       "      <td>404</td>\n",
       "      <td>70647</td>\n",
       "      <td>70647</td>\n",
       "      <td>71145</td>\n",
       "      <td>71177</td>\n",
       "      <td>39A</td>\n",
       "      <td>19:45:45</td>\n",
       "    </tr>\n",
       "    <tr>\n",
       "      <th>1142</th>\n",
       "      <td>2017-02-06</td>\n",
       "      <td>4334947</td>\n",
       "      <td>53</td>\n",
       "      <td>404</td>\n",
       "      <td>62053</td>\n",
       "      <td>62053</td>\n",
       "      <td>61823</td>\n",
       "      <td>61842</td>\n",
       "      <td>39A</td>\n",
       "      <td>17:10:23</td>\n",
       "    </tr>\n",
       "    <tr>\n",
       "      <th>1143</th>\n",
       "      <td>2017-02-06</td>\n",
       "      <td>4334780</td>\n",
       "      <td>53</td>\n",
       "      <td>404</td>\n",
       "      <td>63853</td>\n",
       "      <td>63853</td>\n",
       "      <td>63624</td>\n",
       "      <td>63636</td>\n",
       "      <td>39A</td>\n",
       "      <td>17:40:24</td>\n",
       "    </tr>\n",
       "  </tbody>\n",
       "</table>\n",
       "</div>"
      ],
      "text/plain": [
       "     dayofservice   tripid  progrnumber  stoppointid  plannedtime_arr  \\\n",
       "1139   2017-02-06  4334931           53          404            69447   \n",
       "1140   2017-02-06  4334857           53          404            59053   \n",
       "1141   2017-02-06  4334853           53          404            70647   \n",
       "1142   2017-02-06  4334947           53          404            62053   \n",
       "1143   2017-02-06  4334780           53          404            63853   \n",
       "\n",
       "      plannedtime_dep  actualtime_arr  actualtime_dep lineid actualtime  \n",
       "1139            69447           69347           69402    39A   19:15:47  \n",
       "1140            59053           59135           59151    39A   16:25:35  \n",
       "1141            70647           71145           71177    39A   19:45:45  \n",
       "1142            62053           61823           61842    39A   17:10:23  \n",
       "1143            63853           63624           63636    39A   17:40:24  "
      ]
     },
     "execution_count": 17,
     "metadata": {},
     "output_type": "execute_result"
    }
   ],
   "source": [
    "df_6thFeb.head()"
   ]
  },
  {
   "cell_type": "markdown",
   "metadata": {},
   "source": [
    "### Sort the columns by 'tripid' and 'dayofservice'"
   ]
  },
  {
   "cell_type": "code",
   "execution_count": 18,
   "metadata": {
    "collapsed": true
   },
   "outputs": [],
   "source": [
    "df_6thFeb = df_6thFeb.sort_values(by=['tripid','dayofservice'], ascending=False)"
   ]
  },
  {
   "cell_type": "code",
   "execution_count": 19,
   "metadata": {},
   "outputs": [
    {
     "data": {
      "text/html": [
       "<div>\n",
       "<style scoped>\n",
       "    .dataframe tbody tr th:only-of-type {\n",
       "        vertical-align: middle;\n",
       "    }\n",
       "\n",
       "    .dataframe tbody tr th {\n",
       "        vertical-align: top;\n",
       "    }\n",
       "\n",
       "    .dataframe thead th {\n",
       "        text-align: right;\n",
       "    }\n",
       "</style>\n",
       "<table border=\"1\" class=\"dataframe\">\n",
       "  <thead>\n",
       "    <tr style=\"text-align: right;\">\n",
       "      <th></th>\n",
       "      <th>dayofservice</th>\n",
       "      <th>tripid</th>\n",
       "      <th>progrnumber</th>\n",
       "      <th>stoppointid</th>\n",
       "      <th>plannedtime_arr</th>\n",
       "      <th>plannedtime_dep</th>\n",
       "      <th>actualtime_arr</th>\n",
       "      <th>actualtime_dep</th>\n",
       "      <th>lineid</th>\n",
       "      <th>actualtime</th>\n",
       "    </tr>\n",
       "  </thead>\n",
       "  <tbody>\n",
       "    <tr>\n",
       "      <th>97795</th>\n",
       "      <td>2017-02-06</td>\n",
       "      <td>4344615</td>\n",
       "      <td>37</td>\n",
       "      <td>375</td>\n",
       "      <td>35342</td>\n",
       "      <td>35342</td>\n",
       "      <td>35317</td>\n",
       "      <td>35317</td>\n",
       "      <td>1</td>\n",
       "      <td>09:48:37</td>\n",
       "    </tr>\n",
       "    <tr>\n",
       "      <th>97797</th>\n",
       "      <td>2017-02-06</td>\n",
       "      <td>4344615</td>\n",
       "      <td>32</td>\n",
       "      <td>357</td>\n",
       "      <td>35088</td>\n",
       "      <td>35088</td>\n",
       "      <td>35130</td>\n",
       "      <td>35144</td>\n",
       "      <td>1</td>\n",
       "      <td>09:45:30</td>\n",
       "    </tr>\n",
       "    <tr>\n",
       "      <th>97798</th>\n",
       "      <td>2017-02-06</td>\n",
       "      <td>4344615</td>\n",
       "      <td>21</td>\n",
       "      <td>52</td>\n",
       "      <td>33745</td>\n",
       "      <td>33745</td>\n",
       "      <td>33844</td>\n",
       "      <td>33844</td>\n",
       "      <td>1</td>\n",
       "      <td>09:24:04</td>\n",
       "    </tr>\n",
       "    <tr>\n",
       "      <th>97799</th>\n",
       "      <td>2017-02-06</td>\n",
       "      <td>4344615</td>\n",
       "      <td>18</td>\n",
       "      <td>48</td>\n",
       "      <td>33484</td>\n",
       "      <td>33484</td>\n",
       "      <td>33561</td>\n",
       "      <td>33599</td>\n",
       "      <td>1</td>\n",
       "      <td>09:19:21</td>\n",
       "    </tr>\n",
       "    <tr>\n",
       "      <th>97800</th>\n",
       "      <td>2017-02-06</td>\n",
       "      <td>4344615</td>\n",
       "      <td>14</td>\n",
       "      <td>7603</td>\n",
       "      <td>33218</td>\n",
       "      <td>33218</td>\n",
       "      <td>33291</td>\n",
       "      <td>33291</td>\n",
       "      <td>1</td>\n",
       "      <td>09:14:51</td>\n",
       "    </tr>\n",
       "  </tbody>\n",
       "</table>\n",
       "</div>"
      ],
      "text/plain": [
       "      dayofservice   tripid  progrnumber  stoppointid  plannedtime_arr  \\\n",
       "97795   2017-02-06  4344615           37          375            35342   \n",
       "97797   2017-02-06  4344615           32          357            35088   \n",
       "97798   2017-02-06  4344615           21           52            33745   \n",
       "97799   2017-02-06  4344615           18           48            33484   \n",
       "97800   2017-02-06  4344615           14         7603            33218   \n",
       "\n",
       "       plannedtime_dep  actualtime_arr  actualtime_dep lineid actualtime  \n",
       "97795            35342           35317           35317      1   09:48:37  \n",
       "97797            35088           35130           35144      1   09:45:30  \n",
       "97798            33745           33844           33844      1   09:24:04  \n",
       "97799            33484           33561           33599      1   09:19:21  \n",
       "97800            33218           33291           33291      1   09:14:51  "
      ]
     },
     "execution_count": 19,
     "metadata": {},
     "output_type": "execute_result"
    }
   ],
   "source": [
    "df_6thFeb.head()"
   ]
  },
  {
   "cell_type": "markdown",
   "metadata": {},
   "source": [
    "### Create a column for the day of the week and the hour to which the data relates"
   ]
  },
  {
   "cell_type": "code",
   "execution_count": 20,
   "metadata": {
    "collapsed": true
   },
   "outputs": [],
   "source": [
    "df_6thFeb['day_of_week'] =df_6thFeb.dayofservice.dt.weekday_name\n",
    "df_6thFeb['hour'] = df_6thFeb['actualtime'].apply(lambda x: x.replace(minute=0, second=0))"
   ]
  },
  {
   "cell_type": "code",
   "execution_count": 21,
   "metadata": {},
   "outputs": [
    {
     "data": {
      "text/html": [
       "<div>\n",
       "<style scoped>\n",
       "    .dataframe tbody tr th:only-of-type {\n",
       "        vertical-align: middle;\n",
       "    }\n",
       "\n",
       "    .dataframe tbody tr th {\n",
       "        vertical-align: top;\n",
       "    }\n",
       "\n",
       "    .dataframe thead th {\n",
       "        text-align: right;\n",
       "    }\n",
       "</style>\n",
       "<table border=\"1\" class=\"dataframe\">\n",
       "  <thead>\n",
       "    <tr style=\"text-align: right;\">\n",
       "      <th></th>\n",
       "      <th>dayofservice</th>\n",
       "      <th>tripid</th>\n",
       "      <th>progrnumber</th>\n",
       "      <th>stoppointid</th>\n",
       "      <th>plannedtime_arr</th>\n",
       "      <th>plannedtime_dep</th>\n",
       "      <th>actualtime_arr</th>\n",
       "      <th>actualtime_dep</th>\n",
       "      <th>lineid</th>\n",
       "      <th>actualtime</th>\n",
       "      <th>day_of_week</th>\n",
       "      <th>hour</th>\n",
       "    </tr>\n",
       "  </thead>\n",
       "  <tbody>\n",
       "    <tr>\n",
       "      <th>97795</th>\n",
       "      <td>2017-02-06</td>\n",
       "      <td>4344615</td>\n",
       "      <td>37</td>\n",
       "      <td>375</td>\n",
       "      <td>35342</td>\n",
       "      <td>35342</td>\n",
       "      <td>35317</td>\n",
       "      <td>35317</td>\n",
       "      <td>1</td>\n",
       "      <td>09:48:37</td>\n",
       "      <td>Monday</td>\n",
       "      <td>09:00:00</td>\n",
       "    </tr>\n",
       "    <tr>\n",
       "      <th>97797</th>\n",
       "      <td>2017-02-06</td>\n",
       "      <td>4344615</td>\n",
       "      <td>32</td>\n",
       "      <td>357</td>\n",
       "      <td>35088</td>\n",
       "      <td>35088</td>\n",
       "      <td>35130</td>\n",
       "      <td>35144</td>\n",
       "      <td>1</td>\n",
       "      <td>09:45:30</td>\n",
       "      <td>Monday</td>\n",
       "      <td>09:00:00</td>\n",
       "    </tr>\n",
       "    <tr>\n",
       "      <th>97798</th>\n",
       "      <td>2017-02-06</td>\n",
       "      <td>4344615</td>\n",
       "      <td>21</td>\n",
       "      <td>52</td>\n",
       "      <td>33745</td>\n",
       "      <td>33745</td>\n",
       "      <td>33844</td>\n",
       "      <td>33844</td>\n",
       "      <td>1</td>\n",
       "      <td>09:24:04</td>\n",
       "      <td>Monday</td>\n",
       "      <td>09:00:00</td>\n",
       "    </tr>\n",
       "    <tr>\n",
       "      <th>97799</th>\n",
       "      <td>2017-02-06</td>\n",
       "      <td>4344615</td>\n",
       "      <td>18</td>\n",
       "      <td>48</td>\n",
       "      <td>33484</td>\n",
       "      <td>33484</td>\n",
       "      <td>33561</td>\n",
       "      <td>33599</td>\n",
       "      <td>1</td>\n",
       "      <td>09:19:21</td>\n",
       "      <td>Monday</td>\n",
       "      <td>09:00:00</td>\n",
       "    </tr>\n",
       "    <tr>\n",
       "      <th>97800</th>\n",
       "      <td>2017-02-06</td>\n",
       "      <td>4344615</td>\n",
       "      <td>14</td>\n",
       "      <td>7603</td>\n",
       "      <td>33218</td>\n",
       "      <td>33218</td>\n",
       "      <td>33291</td>\n",
       "      <td>33291</td>\n",
       "      <td>1</td>\n",
       "      <td>09:14:51</td>\n",
       "      <td>Monday</td>\n",
       "      <td>09:00:00</td>\n",
       "    </tr>\n",
       "  </tbody>\n",
       "</table>\n",
       "</div>"
      ],
      "text/plain": [
       "      dayofservice   tripid  progrnumber  stoppointid  plannedtime_arr  \\\n",
       "97795   2017-02-06  4344615           37          375            35342   \n",
       "97797   2017-02-06  4344615           32          357            35088   \n",
       "97798   2017-02-06  4344615           21           52            33745   \n",
       "97799   2017-02-06  4344615           18           48            33484   \n",
       "97800   2017-02-06  4344615           14         7603            33218   \n",
       "\n",
       "       plannedtime_dep  actualtime_arr  actualtime_dep lineid actualtime  \\\n",
       "97795            35342           35317           35317      1   09:48:37   \n",
       "97797            35088           35130           35144      1   09:45:30   \n",
       "97798            33745           33844           33844      1   09:24:04   \n",
       "97799            33484           33561           33599      1   09:19:21   \n",
       "97800            33218           33291           33291      1   09:14:51   \n",
       "\n",
       "      day_of_week      hour  \n",
       "97795      Monday  09:00:00  \n",
       "97797      Monday  09:00:00  \n",
       "97798      Monday  09:00:00  \n",
       "97799      Monday  09:00:00  \n",
       "97800      Monday  09:00:00  "
      ]
     },
     "execution_count": 21,
     "metadata": {},
     "output_type": "execute_result"
    }
   ],
   "source": [
    "df_6thFeb.head()"
   ]
  },
  {
   "cell_type": "markdown",
   "metadata": {},
   "source": [
    "### Load in the relevant weather data to be added to the main dataframe"
   ]
  },
  {
   "cell_type": "code",
   "execution_count": 22,
   "metadata": {
    "collapsed": true
   },
   "outputs": [],
   "source": [
    "df_weather = pd.read_csv('relevant_weather.csv',sep=',')"
   ]
  },
  {
   "cell_type": "code",
   "execution_count": 23,
   "metadata": {},
   "outputs": [
    {
     "data": {
      "text/html": [
       "<div>\n",
       "<style scoped>\n",
       "    .dataframe tbody tr th:only-of-type {\n",
       "        vertical-align: middle;\n",
       "    }\n",
       "\n",
       "    .dataframe tbody tr th {\n",
       "        vertical-align: top;\n",
       "    }\n",
       "\n",
       "    .dataframe thead th {\n",
       "        text-align: right;\n",
       "    }\n",
       "</style>\n",
       "<table border=\"1\" class=\"dataframe\">\n",
       "  <thead>\n",
       "    <tr style=\"text-align: right;\">\n",
       "      <th></th>\n",
       "      <th>Unnamed: 0</th>\n",
       "      <th>date</th>\n",
       "      <th>ind</th>\n",
       "      <th>rain</th>\n",
       "      <th>ind.1</th>\n",
       "      <th>temp</th>\n",
       "      <th>ind.2</th>\n",
       "      <th>wetb</th>\n",
       "      <th>dewpt</th>\n",
       "      <th>vappr</th>\n",
       "      <th>rhum</th>\n",
       "      <th>msl</th>\n",
       "    </tr>\n",
       "  </thead>\n",
       "  <tbody>\n",
       "    <tr>\n",
       "      <th>0</th>\n",
       "      <td>73487</td>\n",
       "      <td>2016-01-01 00:00:00</td>\n",
       "      <td>0</td>\n",
       "      <td>0</td>\n",
       "      <td>0</td>\n",
       "      <td>1.2</td>\n",
       "      <td>0</td>\n",
       "      <td>0.7</td>\n",
       "      <td>-0.2</td>\n",
       "      <td>6.0</td>\n",
       "      <td>90</td>\n",
       "      <td>1016.2</td>\n",
       "    </tr>\n",
       "    <tr>\n",
       "      <th>1</th>\n",
       "      <td>73488</td>\n",
       "      <td>2016-01-01 01:00:00</td>\n",
       "      <td>0</td>\n",
       "      <td>0</td>\n",
       "      <td>0</td>\n",
       "      <td>1.5</td>\n",
       "      <td>0</td>\n",
       "      <td>0.8</td>\n",
       "      <td>-0.7</td>\n",
       "      <td>5.8</td>\n",
       "      <td>85</td>\n",
       "      <td>1016.2</td>\n",
       "    </tr>\n",
       "    <tr>\n",
       "      <th>2</th>\n",
       "      <td>73489</td>\n",
       "      <td>2016-01-01 02:00:00</td>\n",
       "      <td>0</td>\n",
       "      <td>0</td>\n",
       "      <td>0</td>\n",
       "      <td>-0.2</td>\n",
       "      <td>0</td>\n",
       "      <td>-0.6</td>\n",
       "      <td>-1.3</td>\n",
       "      <td>5.6</td>\n",
       "      <td>92</td>\n",
       "      <td>1016.4</td>\n",
       "    </tr>\n",
       "    <tr>\n",
       "      <th>3</th>\n",
       "      <td>73490</td>\n",
       "      <td>2016-01-01 03:00:00</td>\n",
       "      <td>0</td>\n",
       "      <td>0</td>\n",
       "      <td>0</td>\n",
       "      <td>-0.7</td>\n",
       "      <td>0</td>\n",
       "      <td>-1.0</td>\n",
       "      <td>-1.4</td>\n",
       "      <td>5.5</td>\n",
       "      <td>95</td>\n",
       "      <td>1016.3</td>\n",
       "    </tr>\n",
       "    <tr>\n",
       "      <th>4</th>\n",
       "      <td>73491</td>\n",
       "      <td>2016-01-01 04:00:00</td>\n",
       "      <td>0</td>\n",
       "      <td>0</td>\n",
       "      <td>0</td>\n",
       "      <td>-0.3</td>\n",
       "      <td>0</td>\n",
       "      <td>-0.6</td>\n",
       "      <td>-1.2</td>\n",
       "      <td>5.6</td>\n",
       "      <td>94</td>\n",
       "      <td>1016.2</td>\n",
       "    </tr>\n",
       "  </tbody>\n",
       "</table>\n",
       "</div>"
      ],
      "text/plain": [
       "   Unnamed: 0                 date  ind rain  ind.1  temp  ind.2  wetb  dewpt  \\\n",
       "0       73487  2016-01-01 00:00:00    0    0      0   1.2      0   0.7   -0.2   \n",
       "1       73488  2016-01-01 01:00:00    0    0      0   1.5      0   0.8   -0.7   \n",
       "2       73489  2016-01-01 02:00:00    0    0      0  -0.2      0  -0.6   -1.3   \n",
       "3       73490  2016-01-01 03:00:00    0    0      0  -0.7      0  -1.0   -1.4   \n",
       "4       73491  2016-01-01 04:00:00    0    0      0  -0.3      0  -0.6   -1.2   \n",
       "\n",
       "   vappr  rhum     msl  \n",
       "0    6.0    90  1016.2  \n",
       "1    5.8    85  1016.2  \n",
       "2    5.6    92  1016.4  \n",
       "3    5.5    95  1016.3  \n",
       "4    5.6    94  1016.2  "
      ]
     },
     "execution_count": 23,
     "metadata": {},
     "output_type": "execute_result"
    }
   ],
   "source": [
    "df_weather.head()"
   ]
  },
  {
   "cell_type": "markdown",
   "metadata": {},
   "source": [
    "### Drop columns that will not be useful for our analysis of the Dublin Bus data"
   ]
  },
  {
   "cell_type": "code",
   "execution_count": 24,
   "metadata": {
    "collapsed": true
   },
   "outputs": [],
   "source": [
    "df_weather.drop(['Unnamed: 0','ind', 'ind.1', 'ind.2', 'wetb', 'dewpt', 'vappr', 'msl'], axis=1, inplace=True) "
   ]
  },
  {
   "cell_type": "markdown",
   "metadata": {},
   "source": [
    "Rename the weather columns"
   ]
  },
  {
   "cell_type": "code",
   "execution_count": 25,
   "metadata": {},
   "outputs": [
    {
     "data": {
      "text/html": [
       "<div>\n",
       "<style scoped>\n",
       "    .dataframe tbody tr th:only-of-type {\n",
       "        vertical-align: middle;\n",
       "    }\n",
       "\n",
       "    .dataframe tbody tr th {\n",
       "        vertical-align: top;\n",
       "    }\n",
       "\n",
       "    .dataframe thead th {\n",
       "        text-align: right;\n",
       "    }\n",
       "</style>\n",
       "<table border=\"1\" class=\"dataframe\">\n",
       "  <thead>\n",
       "    <tr style=\"text-align: right;\">\n",
       "      <th></th>\n",
       "      <th>DateTime</th>\n",
       "      <th>Precipitation</th>\n",
       "      <th>Temperature</th>\n",
       "      <th>Relative Humidity</th>\n",
       "    </tr>\n",
       "  </thead>\n",
       "  <tbody>\n",
       "    <tr>\n",
       "      <th>0</th>\n",
       "      <td>2016-01-01 00:00:00</td>\n",
       "      <td>0</td>\n",
       "      <td>1.2</td>\n",
       "      <td>90</td>\n",
       "    </tr>\n",
       "    <tr>\n",
       "      <th>1</th>\n",
       "      <td>2016-01-01 01:00:00</td>\n",
       "      <td>0</td>\n",
       "      <td>1.5</td>\n",
       "      <td>85</td>\n",
       "    </tr>\n",
       "    <tr>\n",
       "      <th>2</th>\n",
       "      <td>2016-01-01 02:00:00</td>\n",
       "      <td>0</td>\n",
       "      <td>-0.2</td>\n",
       "      <td>92</td>\n",
       "    </tr>\n",
       "    <tr>\n",
       "      <th>3</th>\n",
       "      <td>2016-01-01 03:00:00</td>\n",
       "      <td>0</td>\n",
       "      <td>-0.7</td>\n",
       "      <td>95</td>\n",
       "    </tr>\n",
       "    <tr>\n",
       "      <th>4</th>\n",
       "      <td>2016-01-01 04:00:00</td>\n",
       "      <td>0</td>\n",
       "      <td>-0.3</td>\n",
       "      <td>94</td>\n",
       "    </tr>\n",
       "  </tbody>\n",
       "</table>\n",
       "</div>"
      ],
      "text/plain": [
       "              DateTime Precipitation  Temperature  Relative Humidity\n",
       "0  2016-01-01 00:00:00             0          1.2                 90\n",
       "1  2016-01-01 01:00:00             0          1.5                 85\n",
       "2  2016-01-01 02:00:00             0         -0.2                 92\n",
       "3  2016-01-01 03:00:00             0         -0.7                 95\n",
       "4  2016-01-01 04:00:00             0         -0.3                 94"
      ]
     },
     "execution_count": 25,
     "metadata": {},
     "output_type": "execute_result"
    }
   ],
   "source": [
    "df_weather.columns = 'DateTime', 'Precipitation', 'Temperature', 'Relative Humidity'\n",
    "df_weather.head()"
   ]
  },
  {
   "cell_type": "code",
   "execution_count": 26,
   "metadata": {},
   "outputs": [
    {
     "data": {
      "text/plain": [
       "DateTime              object\n",
       "Precipitation         object\n",
       "Temperature          float64\n",
       "Relative Humidity      int64\n",
       "dtype: object"
      ]
     },
     "execution_count": 26,
     "metadata": {},
     "output_type": "execute_result"
    }
   ],
   "source": [
    "df_weather.dtypes"
   ]
  },
  {
   "cell_type": "code",
   "execution_count": 27,
   "metadata": {},
   "outputs": [
    {
     "data": {
      "text/html": [
       "<div>\n",
       "<style scoped>\n",
       "    .dataframe tbody tr th:only-of-type {\n",
       "        vertical-align: middle;\n",
       "    }\n",
       "\n",
       "    .dataframe tbody tr th {\n",
       "        vertical-align: top;\n",
       "    }\n",
       "\n",
       "    .dataframe thead th {\n",
       "        text-align: right;\n",
       "    }\n",
       "</style>\n",
       "<table border=\"1\" class=\"dataframe\">\n",
       "  <thead>\n",
       "    <tr style=\"text-align: right;\">\n",
       "      <th></th>\n",
       "      <th>DateTime</th>\n",
       "      <th>Precipitation</th>\n",
       "      <th>Temperature</th>\n",
       "      <th>Relative Humidity</th>\n",
       "    </tr>\n",
       "  </thead>\n",
       "  <tbody>\n",
       "    <tr>\n",
       "      <th>11194</th>\n",
       "      <td>2017-04-11 10:00:00</td>\n",
       "      <td></td>\n",
       "      <td>11.0</td>\n",
       "      <td>68</td>\n",
       "    </tr>\n",
       "    <tr>\n",
       "      <th>11195</th>\n",
       "      <td>2017-04-11 11:00:00</td>\n",
       "      <td></td>\n",
       "      <td>10.7</td>\n",
       "      <td>65</td>\n",
       "    </tr>\n",
       "  </tbody>\n",
       "</table>\n",
       "</div>"
      ],
      "text/plain": [
       "                  DateTime Precipitation  Temperature  Relative Humidity\n",
       "11194  2017-04-11 10:00:00                       11.0                 68\n",
       "11195  2017-04-11 11:00:00                       10.7                 65"
      ]
     },
     "execution_count": 27,
     "metadata": {},
     "output_type": "execute_result"
    }
   ],
   "source": [
    "df_weather.loc[df_weather['Precipitation']==' ']"
   ]
  },
  {
   "cell_type": "code",
   "execution_count": 28,
   "metadata": {
    "collapsed": true
   },
   "outputs": [],
   "source": [
    "df_weather.Precipitation = df_weather.Precipitation.replace(' ', 0)"
   ]
  },
  {
   "cell_type": "markdown",
   "metadata": {},
   "source": [
    "### Convert 'Precipitation' to a float"
   ]
  },
  {
   "cell_type": "code",
   "execution_count": 29,
   "metadata": {},
   "outputs": [
    {
     "data": {
      "text/html": [
       "<div>\n",
       "<style scoped>\n",
       "    .dataframe tbody tr th:only-of-type {\n",
       "        vertical-align: middle;\n",
       "    }\n",
       "\n",
       "    .dataframe tbody tr th {\n",
       "        vertical-align: top;\n",
       "    }\n",
       "\n",
       "    .dataframe thead th {\n",
       "        text-align: right;\n",
       "    }\n",
       "</style>\n",
       "<table border=\"1\" class=\"dataframe\">\n",
       "  <thead>\n",
       "    <tr style=\"text-align: right;\">\n",
       "      <th></th>\n",
       "      <th>DateTime</th>\n",
       "      <th>Precipitation</th>\n",
       "      <th>Temperature</th>\n",
       "      <th>Relative Humidity</th>\n",
       "    </tr>\n",
       "  </thead>\n",
       "  <tbody>\n",
       "    <tr>\n",
       "      <th>0</th>\n",
       "      <td>2016-01-01 00:00:00</td>\n",
       "      <td>0.0</td>\n",
       "      <td>1.2</td>\n",
       "      <td>90</td>\n",
       "    </tr>\n",
       "    <tr>\n",
       "      <th>1</th>\n",
       "      <td>2016-01-01 01:00:00</td>\n",
       "      <td>0.0</td>\n",
       "      <td>1.5</td>\n",
       "      <td>85</td>\n",
       "    </tr>\n",
       "    <tr>\n",
       "      <th>2</th>\n",
       "      <td>2016-01-01 02:00:00</td>\n",
       "      <td>0.0</td>\n",
       "      <td>-0.2</td>\n",
       "      <td>92</td>\n",
       "    </tr>\n",
       "    <tr>\n",
       "      <th>3</th>\n",
       "      <td>2016-01-01 03:00:00</td>\n",
       "      <td>0.0</td>\n",
       "      <td>-0.7</td>\n",
       "      <td>95</td>\n",
       "    </tr>\n",
       "    <tr>\n",
       "      <th>4</th>\n",
       "      <td>2016-01-01 04:00:00</td>\n",
       "      <td>0.0</td>\n",
       "      <td>-0.3</td>\n",
       "      <td>94</td>\n",
       "    </tr>\n",
       "  </tbody>\n",
       "</table>\n",
       "</div>"
      ],
      "text/plain": [
       "              DateTime  Precipitation  Temperature  Relative Humidity\n",
       "0  2016-01-01 00:00:00            0.0          1.2                 90\n",
       "1  2016-01-01 01:00:00            0.0          1.5                 85\n",
       "2  2016-01-01 02:00:00            0.0         -0.2                 92\n",
       "3  2016-01-01 03:00:00            0.0         -0.7                 95\n",
       "4  2016-01-01 04:00:00            0.0         -0.3                 94"
      ]
     },
     "execution_count": 29,
     "metadata": {},
     "output_type": "execute_result"
    }
   ],
   "source": [
    "# Select columns containing continuous data\n",
    "df_weather.Precipitation = df_weather['Precipitation'].astype('float64')\n",
    "df_weather.head()"
   ]
  },
  {
   "cell_type": "code",
   "execution_count": 30,
   "metadata": {
    "collapsed": true
   },
   "outputs": [],
   "source": [
    "df_weather['Precipitation'] = pd.cut(df_weather['Precipitation'], [0,0.01,0.5,4,50], labels=['None','Slight','Moderate','Heavy'])                                                                                                                                                              \n"
   ]
  },
  {
   "cell_type": "code",
   "execution_count": 31,
   "metadata": {},
   "outputs": [
    {
     "data": {
      "text/html": [
       "<div>\n",
       "<style scoped>\n",
       "    .dataframe tbody tr th:only-of-type {\n",
       "        vertical-align: middle;\n",
       "    }\n",
       "\n",
       "    .dataframe tbody tr th {\n",
       "        vertical-align: top;\n",
       "    }\n",
       "\n",
       "    .dataframe thead th {\n",
       "        text-align: right;\n",
       "    }\n",
       "</style>\n",
       "<table border=\"1\" class=\"dataframe\">\n",
       "  <thead>\n",
       "    <tr style=\"text-align: right;\">\n",
       "      <th></th>\n",
       "      <th>DateTime</th>\n",
       "      <th>Precipitation</th>\n",
       "      <th>Temperature</th>\n",
       "      <th>Relative Humidity</th>\n",
       "    </tr>\n",
       "  </thead>\n",
       "  <tbody>\n",
       "    <tr>\n",
       "      <th>0</th>\n",
       "      <td>2016-01-01 00:00:00</td>\n",
       "      <td>None</td>\n",
       "      <td>1.2</td>\n",
       "      <td>90</td>\n",
       "    </tr>\n",
       "    <tr>\n",
       "      <th>1</th>\n",
       "      <td>2016-01-01 01:00:00</td>\n",
       "      <td>None</td>\n",
       "      <td>1.5</td>\n",
       "      <td>85</td>\n",
       "    </tr>\n",
       "    <tr>\n",
       "      <th>2</th>\n",
       "      <td>2016-01-01 02:00:00</td>\n",
       "      <td>None</td>\n",
       "      <td>-0.2</td>\n",
       "      <td>92</td>\n",
       "    </tr>\n",
       "    <tr>\n",
       "      <th>3</th>\n",
       "      <td>2016-01-01 03:00:00</td>\n",
       "      <td>None</td>\n",
       "      <td>-0.7</td>\n",
       "      <td>95</td>\n",
       "    </tr>\n",
       "    <tr>\n",
       "      <th>4</th>\n",
       "      <td>2016-01-01 04:00:00</td>\n",
       "      <td>None</td>\n",
       "      <td>-0.3</td>\n",
       "      <td>94</td>\n",
       "    </tr>\n",
       "  </tbody>\n",
       "</table>\n",
       "</div>"
      ],
      "text/plain": [
       "              DateTime Precipitation  Temperature  Relative Humidity\n",
       "0  2016-01-01 00:00:00          None          1.2                 90\n",
       "1  2016-01-01 01:00:00          None          1.5                 85\n",
       "2  2016-01-01 02:00:00          None         -0.2                 92\n",
       "3  2016-01-01 03:00:00          None         -0.7                 95\n",
       "4  2016-01-01 04:00:00          None         -0.3                 94"
      ]
     },
     "execution_count": 31,
     "metadata": {},
     "output_type": "execute_result"
    }
   ],
   "source": [
    "df_weather.Precipitation.fillna(\"None\",inplace=True) \n",
    "df_weather.head()"
   ]
  },
  {
   "cell_type": "code",
   "execution_count": 32,
   "metadata": {},
   "outputs": [
    {
     "data": {
      "text/plain": [
       "DateTime             32\n",
       "Precipitation        32\n",
       "Temperature          32\n",
       "Relative Humidity    32\n",
       "dtype: int64"
      ]
     },
     "execution_count": 32,
     "metadata": {},
     "output_type": "execute_result"
    }
   ],
   "source": [
    "df_weather.loc[df_weather['Precipitation']=='Heavy'].count()"
   ]
  },
  {
   "cell_type": "code",
   "execution_count": 33,
   "metadata": {},
   "outputs": [
    {
     "data": {
      "text/plain": [
       "DateTime             1508\n",
       "Precipitation        1508\n",
       "Temperature          1508\n",
       "Relative Humidity    1508\n",
       "dtype: int64"
      ]
     },
     "execution_count": 33,
     "metadata": {},
     "output_type": "execute_result"
    }
   ],
   "source": [
    "df_weather.loc[df_weather['Precipitation']=='Slight'].count()"
   ]
  },
  {
   "cell_type": "code",
   "execution_count": 34,
   "metadata": {},
   "outputs": [
    {
     "data": {
      "text/plain": [
       "DateTime             737\n",
       "Precipitation        737\n",
       "Temperature          737\n",
       "Relative Humidity    737\n",
       "dtype: int64"
      ]
     },
     "execution_count": 34,
     "metadata": {},
     "output_type": "execute_result"
    }
   ],
   "source": [
    "df_weather.loc[df_weather['Precipitation']=='Moderate'].count()"
   ]
  },
  {
   "cell_type": "code",
   "execution_count": 35,
   "metadata": {},
   "outputs": [
    {
     "data": {
      "text/plain": [
       "DateTime             15268\n",
       "Precipitation        15268\n",
       "Temperature          15268\n",
       "Relative Humidity    15268\n",
       "dtype: int64"
      ]
     },
     "execution_count": 35,
     "metadata": {},
     "output_type": "execute_result"
    }
   ],
   "source": [
    "df_weather.loc[df_weather['Precipitation']=='None'].count()"
   ]
  },
  {
   "cell_type": "markdown",
   "metadata": {},
   "source": [
    "Conver the 'DateTime' data to a date-time object"
   ]
  },
  {
   "cell_type": "code",
   "execution_count": 36,
   "metadata": {
    "collapsed": true
   },
   "outputs": [],
   "source": [
    "df_weather['DateTime'] = pd.to_datetime(df_weather['DateTime'])\n",
    "df_weather['Precipitation'] = df_weather['Precipitation'].astype('category')"
   ]
  },
  {
   "cell_type": "code",
   "execution_count": 37,
   "metadata": {},
   "outputs": [
    {
     "data": {
      "text/plain": [
       "DateTime             datetime64[ns]\n",
       "Precipitation              category\n",
       "Temperature                 float64\n",
       "Relative Humidity             int64\n",
       "dtype: object"
      ]
     },
     "execution_count": 37,
     "metadata": {},
     "output_type": "execute_result"
    }
   ],
   "source": [
    "df_weather.dtypes"
   ]
  },
  {
   "cell_type": "markdown",
   "metadata": {},
   "source": [
    "### Split the date-time into a date column and a time column so that the two dataframes can be merged together"
   ]
  },
  {
   "cell_type": "code",
   "execution_count": 38,
   "metadata": {
    "collapsed": true
   },
   "outputs": [],
   "source": [
    "df_weather['date'] = df_weather['DateTime'].dt.date\n",
    "df_weather['time'] = df_weather['DateTime'].dt.time"
   ]
  },
  {
   "cell_type": "markdown",
   "metadata": {},
   "source": [
    "Drop the original 'DateTime' column"
   ]
  },
  {
   "cell_type": "code",
   "execution_count": 39,
   "metadata": {
    "collapsed": true
   },
   "outputs": [],
   "source": [
    "df_weather.drop(['DateTime'], axis=1, inplace=True)"
   ]
  },
  {
   "cell_type": "markdown",
   "metadata": {},
   "source": [
    "Rename the two columns to match that of the Dublin Bus data frame"
   ]
  },
  {
   "cell_type": "code",
   "execution_count": 40,
   "metadata": {
    "collapsed": true
   },
   "outputs": [],
   "source": [
    "df_weather.rename(columns = {'date':'dayofservice', 'time':'hour'}, inplace=True)"
   ]
  },
  {
   "cell_type": "code",
   "execution_count": 41,
   "metadata": {},
   "outputs": [
    {
     "data": {
      "text/plain": [
       "Precipitation        category\n",
       "Temperature           float64\n",
       "Relative Humidity       int64\n",
       "dayofservice           object\n",
       "hour                   object\n",
       "dtype: object"
      ]
     },
     "execution_count": 41,
     "metadata": {},
     "output_type": "execute_result"
    }
   ],
   "source": [
    "df_weather.dtypes"
   ]
  },
  {
   "cell_type": "markdown",
   "metadata": {},
   "source": [
    "### Ensure the data types will be compatible for merging"
   ]
  },
  {
   "cell_type": "code",
   "execution_count": 42,
   "metadata": {},
   "outputs": [
    {
     "data": {
      "text/plain": [
       "dayofservice       datetime64[ns]\n",
       "tripid                      int64\n",
       "progrnumber                 int64\n",
       "stoppointid                 int64\n",
       "plannedtime_arr             int64\n",
       "plannedtime_dep             int64\n",
       "actualtime_arr              int64\n",
       "actualtime_dep              int64\n",
       "lineid                     object\n",
       "actualtime                 object\n",
       "day_of_week                object\n",
       "hour                       object\n",
       "dtype: object"
      ]
     },
     "execution_count": 42,
     "metadata": {},
     "output_type": "execute_result"
    }
   ],
   "source": [
    "df_6thFeb.dtypes"
   ]
  },
  {
   "cell_type": "code",
   "execution_count": 43,
   "metadata": {},
   "outputs": [
    {
     "data": {
      "text/plain": [
       "Precipitation              category\n",
       "Temperature                 float64\n",
       "Relative Humidity             int64\n",
       "dayofservice         datetime64[ns]\n",
       "hour                         object\n",
       "dtype: object"
      ]
     },
     "execution_count": 43,
     "metadata": {},
     "output_type": "execute_result"
    }
   ],
   "source": [
    "df_weather['dayofservice']=pd.to_datetime(df_weather['dayofservice'] )\n",
    "df_weather.dtypes"
   ]
  },
  {
   "cell_type": "code",
   "execution_count": 44,
   "metadata": {},
   "outputs": [
    {
     "data": {
      "text/html": [
       "<div>\n",
       "<style scoped>\n",
       "    .dataframe tbody tr th:only-of-type {\n",
       "        vertical-align: middle;\n",
       "    }\n",
       "\n",
       "    .dataframe tbody tr th {\n",
       "        vertical-align: top;\n",
       "    }\n",
       "\n",
       "    .dataframe thead th {\n",
       "        text-align: right;\n",
       "    }\n",
       "</style>\n",
       "<table border=\"1\" class=\"dataframe\">\n",
       "  <thead>\n",
       "    <tr style=\"text-align: right;\">\n",
       "      <th></th>\n",
       "      <th>Precipitation</th>\n",
       "      <th>Temperature</th>\n",
       "      <th>Relative Humidity</th>\n",
       "      <th>dayofservice</th>\n",
       "      <th>hour</th>\n",
       "    </tr>\n",
       "  </thead>\n",
       "  <tbody>\n",
       "    <tr>\n",
       "      <th>0</th>\n",
       "      <td>None</td>\n",
       "      <td>1.2</td>\n",
       "      <td>90</td>\n",
       "      <td>2016-01-01</td>\n",
       "      <td>00:00:00</td>\n",
       "    </tr>\n",
       "    <tr>\n",
       "      <th>1</th>\n",
       "      <td>None</td>\n",
       "      <td>1.5</td>\n",
       "      <td>85</td>\n",
       "      <td>2016-01-01</td>\n",
       "      <td>01:00:00</td>\n",
       "    </tr>\n",
       "    <tr>\n",
       "      <th>2</th>\n",
       "      <td>None</td>\n",
       "      <td>-0.2</td>\n",
       "      <td>92</td>\n",
       "      <td>2016-01-01</td>\n",
       "      <td>02:00:00</td>\n",
       "    </tr>\n",
       "    <tr>\n",
       "      <th>3</th>\n",
       "      <td>None</td>\n",
       "      <td>-0.7</td>\n",
       "      <td>95</td>\n",
       "      <td>2016-01-01</td>\n",
       "      <td>03:00:00</td>\n",
       "    </tr>\n",
       "    <tr>\n",
       "      <th>4</th>\n",
       "      <td>None</td>\n",
       "      <td>-0.3</td>\n",
       "      <td>94</td>\n",
       "      <td>2016-01-01</td>\n",
       "      <td>04:00:00</td>\n",
       "    </tr>\n",
       "  </tbody>\n",
       "</table>\n",
       "</div>"
      ],
      "text/plain": [
       "  Precipitation  Temperature  Relative Humidity dayofservice      hour\n",
       "0          None          1.2                 90   2016-01-01  00:00:00\n",
       "1          None          1.5                 85   2016-01-01  01:00:00\n",
       "2          None         -0.2                 92   2016-01-01  02:00:00\n",
       "3          None         -0.7                 95   2016-01-01  03:00:00\n",
       "4          None         -0.3                 94   2016-01-01  04:00:00"
      ]
     },
     "execution_count": 44,
     "metadata": {},
     "output_type": "execute_result"
    }
   ],
   "source": [
    "df_weather.head()"
   ]
  },
  {
   "cell_type": "code",
   "execution_count": 45,
   "metadata": {
    "collapsed": true
   },
   "outputs": [],
   "source": [
    "#Save the weather dataframe to a csv\n",
    "#df_weather.to_csv('../../../files/cleanedweather.csv',index=False)"
   ]
  },
  {
   "cell_type": "markdown",
   "metadata": {},
   "source": [
    "### Merge the data frames on columns 'dayofservice' and 'hour"
   ]
  },
  {
   "cell_type": "code",
   "execution_count": 46,
   "metadata": {
    "collapsed": true
   },
   "outputs": [],
   "source": [
    "df_6thFeb = df_6thFeb.merge(df_weather, on=['dayofservice','hour'])"
   ]
  },
  {
   "cell_type": "code",
   "execution_count": 47,
   "metadata": {},
   "outputs": [
    {
     "data": {
      "text/html": [
       "<div>\n",
       "<style scoped>\n",
       "    .dataframe tbody tr th:only-of-type {\n",
       "        vertical-align: middle;\n",
       "    }\n",
       "\n",
       "    .dataframe tbody tr th {\n",
       "        vertical-align: top;\n",
       "    }\n",
       "\n",
       "    .dataframe thead th {\n",
       "        text-align: right;\n",
       "    }\n",
       "</style>\n",
       "<table border=\"1\" class=\"dataframe\">\n",
       "  <thead>\n",
       "    <tr style=\"text-align: right;\">\n",
       "      <th></th>\n",
       "      <th>dayofservice</th>\n",
       "      <th>tripid</th>\n",
       "      <th>progrnumber</th>\n",
       "      <th>stoppointid</th>\n",
       "      <th>plannedtime_arr</th>\n",
       "      <th>plannedtime_dep</th>\n",
       "      <th>actualtime_arr</th>\n",
       "      <th>actualtime_dep</th>\n",
       "      <th>lineid</th>\n",
       "      <th>actualtime</th>\n",
       "      <th>day_of_week</th>\n",
       "      <th>hour</th>\n",
       "      <th>Precipitation</th>\n",
       "      <th>Temperature</th>\n",
       "      <th>Relative Humidity</th>\n",
       "    </tr>\n",
       "  </thead>\n",
       "  <tbody>\n",
       "    <tr>\n",
       "      <th>0</th>\n",
       "      <td>2017-02-06</td>\n",
       "      <td>4344615</td>\n",
       "      <td>37</td>\n",
       "      <td>375</td>\n",
       "      <td>35342</td>\n",
       "      <td>35342</td>\n",
       "      <td>35317</td>\n",
       "      <td>35317</td>\n",
       "      <td>1</td>\n",
       "      <td>09:48:37</td>\n",
       "      <td>Monday</td>\n",
       "      <td>09:00:00</td>\n",
       "      <td>Slight</td>\n",
       "      <td>6.4</td>\n",
       "      <td>81</td>\n",
       "    </tr>\n",
       "    <tr>\n",
       "      <th>1</th>\n",
       "      <td>2017-02-06</td>\n",
       "      <td>4344615</td>\n",
       "      <td>32</td>\n",
       "      <td>357</td>\n",
       "      <td>35088</td>\n",
       "      <td>35088</td>\n",
       "      <td>35130</td>\n",
       "      <td>35144</td>\n",
       "      <td>1</td>\n",
       "      <td>09:45:30</td>\n",
       "      <td>Monday</td>\n",
       "      <td>09:00:00</td>\n",
       "      <td>Slight</td>\n",
       "      <td>6.4</td>\n",
       "      <td>81</td>\n",
       "    </tr>\n",
       "    <tr>\n",
       "      <th>2</th>\n",
       "      <td>2017-02-06</td>\n",
       "      <td>4344615</td>\n",
       "      <td>21</td>\n",
       "      <td>52</td>\n",
       "      <td>33745</td>\n",
       "      <td>33745</td>\n",
       "      <td>33844</td>\n",
       "      <td>33844</td>\n",
       "      <td>1</td>\n",
       "      <td>09:24:04</td>\n",
       "      <td>Monday</td>\n",
       "      <td>09:00:00</td>\n",
       "      <td>Slight</td>\n",
       "      <td>6.4</td>\n",
       "      <td>81</td>\n",
       "    </tr>\n",
       "    <tr>\n",
       "      <th>3</th>\n",
       "      <td>2017-02-06</td>\n",
       "      <td>4344615</td>\n",
       "      <td>18</td>\n",
       "      <td>48</td>\n",
       "      <td>33484</td>\n",
       "      <td>33484</td>\n",
       "      <td>33561</td>\n",
       "      <td>33599</td>\n",
       "      <td>1</td>\n",
       "      <td>09:19:21</td>\n",
       "      <td>Monday</td>\n",
       "      <td>09:00:00</td>\n",
       "      <td>Slight</td>\n",
       "      <td>6.4</td>\n",
       "      <td>81</td>\n",
       "    </tr>\n",
       "    <tr>\n",
       "      <th>4</th>\n",
       "      <td>2017-02-06</td>\n",
       "      <td>4344615</td>\n",
       "      <td>14</td>\n",
       "      <td>7603</td>\n",
       "      <td>33218</td>\n",
       "      <td>33218</td>\n",
       "      <td>33291</td>\n",
       "      <td>33291</td>\n",
       "      <td>1</td>\n",
       "      <td>09:14:51</td>\n",
       "      <td>Monday</td>\n",
       "      <td>09:00:00</td>\n",
       "      <td>Slight</td>\n",
       "      <td>6.4</td>\n",
       "      <td>81</td>\n",
       "    </tr>\n",
       "  </tbody>\n",
       "</table>\n",
       "</div>"
      ],
      "text/plain": [
       "  dayofservice   tripid  progrnumber  stoppointid  plannedtime_arr  \\\n",
       "0   2017-02-06  4344615           37          375            35342   \n",
       "1   2017-02-06  4344615           32          357            35088   \n",
       "2   2017-02-06  4344615           21           52            33745   \n",
       "3   2017-02-06  4344615           18           48            33484   \n",
       "4   2017-02-06  4344615           14         7603            33218   \n",
       "\n",
       "   plannedtime_dep  actualtime_arr  actualtime_dep lineid actualtime  \\\n",
       "0            35342           35317           35317      1   09:48:37   \n",
       "1            35088           35130           35144      1   09:45:30   \n",
       "2            33745           33844           33844      1   09:24:04   \n",
       "3            33484           33561           33599      1   09:19:21   \n",
       "4            33218           33291           33291      1   09:14:51   \n",
       "\n",
       "  day_of_week      hour Precipitation  Temperature  Relative Humidity  \n",
       "0      Monday  09:00:00        Slight          6.4                 81  \n",
       "1      Monday  09:00:00        Slight          6.4                 81  \n",
       "2      Monday  09:00:00        Slight          6.4                 81  \n",
       "3      Monday  09:00:00        Slight          6.4                 81  \n",
       "4      Monday  09:00:00        Slight          6.4                 81  "
      ]
     },
     "execution_count": 47,
     "metadata": {},
     "output_type": "execute_result"
    }
   ],
   "source": [
    "df_6thFeb.head()"
   ]
  },
  {
   "cell_type": "markdown",
   "metadata": {},
   "source": [
    "### Drop 'dayofservice' and 'day_of_week' columns as only the 6th Feb 2017, a Monday, is being looked at so they are constant columns"
   ]
  },
  {
   "cell_type": "code",
   "execution_count": 48,
   "metadata": {
    "collapsed": true
   },
   "outputs": [],
   "source": [
    "df_6thFeb.drop(['dayofservice', 'day_of_week'], axis=1, inplace=True)"
   ]
  },
  {
   "cell_type": "markdown",
   "metadata": {},
   "source": [
    "### Convert 'hour' and 'lineid' to categorical columns"
   ]
  },
  {
   "cell_type": "code",
   "execution_count": 49,
   "metadata": {
    "collapsed": true
   },
   "outputs": [],
   "source": [
    "# Select columns containing categorical data\n",
    "df_6thFeb['hour'] = df_6thFeb['hour'].astype('category')\n",
    "df_6thFeb['lineid'] = df_6thFeb['lineid'].astype('category')"
   ]
  },
  {
   "cell_type": "code",
   "execution_count": 50,
   "metadata": {},
   "outputs": [
    {
     "data": {
      "text/html": [
       "<div>\n",
       "<style scoped>\n",
       "    .dataframe tbody tr th:only-of-type {\n",
       "        vertical-align: middle;\n",
       "    }\n",
       "\n",
       "    .dataframe tbody tr th {\n",
       "        vertical-align: top;\n",
       "    }\n",
       "\n",
       "    .dataframe thead th {\n",
       "        text-align: right;\n",
       "    }\n",
       "</style>\n",
       "<table border=\"1\" class=\"dataframe\">\n",
       "  <thead>\n",
       "    <tr style=\"text-align: right;\">\n",
       "      <th></th>\n",
       "      <th>count</th>\n",
       "      <th>mean</th>\n",
       "      <th>std</th>\n",
       "      <th>min</th>\n",
       "      <th>25%</th>\n",
       "      <th>50%</th>\n",
       "      <th>75%</th>\n",
       "      <th>max</th>\n",
       "    </tr>\n",
       "  </thead>\n",
       "  <tbody>\n",
       "    <tr>\n",
       "      <th>tripid</th>\n",
       "      <td>356244.0</td>\n",
       "      <td>4.335707e+06</td>\n",
       "      <td>4668.612987</td>\n",
       "      <td>4327283.0</td>\n",
       "      <td>4332088.00</td>\n",
       "      <td>4335604.0</td>\n",
       "      <td>4339718.0</td>\n",
       "      <td>4344615.0</td>\n",
       "    </tr>\n",
       "    <tr>\n",
       "      <th>progrnumber</th>\n",
       "      <td>356244.0</td>\n",
       "      <td>3.141396e+01</td>\n",
       "      <td>20.103151</td>\n",
       "      <td>1.0</td>\n",
       "      <td>15.00</td>\n",
       "      <td>29.0</td>\n",
       "      <td>45.0</td>\n",
       "      <td>109.0</td>\n",
       "    </tr>\n",
       "    <tr>\n",
       "      <th>stoppointid</th>\n",
       "      <td>356244.0</td>\n",
       "      <td>2.522094e+03</td>\n",
       "      <td>1992.527822</td>\n",
       "      <td>2.0</td>\n",
       "      <td>1015.00</td>\n",
       "      <td>2002.0</td>\n",
       "      <td>3752.0</td>\n",
       "      <td>7654.0</td>\n",
       "    </tr>\n",
       "    <tr>\n",
       "      <th>plannedtime_arr</th>\n",
       "      <td>356244.0</td>\n",
       "      <td>5.285063e+04</td>\n",
       "      <td>17635.030937</td>\n",
       "      <td>16341.0</td>\n",
       "      <td>37004.00</td>\n",
       "      <td>53049.5</td>\n",
       "      <td>67078.0</td>\n",
       "      <td>91146.0</td>\n",
       "    </tr>\n",
       "    <tr>\n",
       "      <th>plannedtime_dep</th>\n",
       "      <td>356244.0</td>\n",
       "      <td>5.285063e+04</td>\n",
       "      <td>17635.030937</td>\n",
       "      <td>16341.0</td>\n",
       "      <td>37004.00</td>\n",
       "      <td>53049.5</td>\n",
       "      <td>67078.0</td>\n",
       "      <td>91146.0</td>\n",
       "    </tr>\n",
       "    <tr>\n",
       "      <th>actualtime_arr</th>\n",
       "      <td>356244.0</td>\n",
       "      <td>5.283614e+04</td>\n",
       "      <td>17606.409702</td>\n",
       "      <td>16187.0</td>\n",
       "      <td>37017.75</td>\n",
       "      <td>53010.0</td>\n",
       "      <td>67046.0</td>\n",
       "      <td>90201.0</td>\n",
       "    </tr>\n",
       "    <tr>\n",
       "      <th>actualtime_dep</th>\n",
       "      <td>356244.0</td>\n",
       "      <td>5.284803e+04</td>\n",
       "      <td>17605.138631</td>\n",
       "      <td>16187.0</td>\n",
       "      <td>37028.00</td>\n",
       "      <td>53022.0</td>\n",
       "      <td>67057.0</td>\n",
       "      <td>90201.0</td>\n",
       "    </tr>\n",
       "    <tr>\n",
       "      <th>Temperature</th>\n",
       "      <td>356244.0</td>\n",
       "      <td>7.041326e+00</td>\n",
       "      <td>1.146654</td>\n",
       "      <td>-0.6</td>\n",
       "      <td>6.10</td>\n",
       "      <td>6.6</td>\n",
       "      <td>8.3</td>\n",
       "      <td>8.6</td>\n",
       "    </tr>\n",
       "    <tr>\n",
       "      <th>Relative Humidity</th>\n",
       "      <td>356244.0</td>\n",
       "      <td>8.317260e+01</td>\n",
       "      <td>7.682454</td>\n",
       "      <td>69.0</td>\n",
       "      <td>79.00</td>\n",
       "      <td>81.0</td>\n",
       "      <td>86.0</td>\n",
       "      <td>97.0</td>\n",
       "    </tr>\n",
       "  </tbody>\n",
       "</table>\n",
       "</div>"
      ],
      "text/plain": [
       "                      count          mean           std        min  \\\n",
       "tripid             356244.0  4.335707e+06   4668.612987  4327283.0   \n",
       "progrnumber        356244.0  3.141396e+01     20.103151        1.0   \n",
       "stoppointid        356244.0  2.522094e+03   1992.527822        2.0   \n",
       "plannedtime_arr    356244.0  5.285063e+04  17635.030937    16341.0   \n",
       "plannedtime_dep    356244.0  5.285063e+04  17635.030937    16341.0   \n",
       "actualtime_arr     356244.0  5.283614e+04  17606.409702    16187.0   \n",
       "actualtime_dep     356244.0  5.284803e+04  17605.138631    16187.0   \n",
       "Temperature        356244.0  7.041326e+00      1.146654       -0.6   \n",
       "Relative Humidity  356244.0  8.317260e+01      7.682454       69.0   \n",
       "\n",
       "                          25%        50%        75%        max  \n",
       "tripid             4332088.00  4335604.0  4339718.0  4344615.0  \n",
       "progrnumber             15.00       29.0       45.0      109.0  \n",
       "stoppointid           1015.00     2002.0     3752.0     7654.0  \n",
       "plannedtime_arr      37004.00    53049.5    67078.0    91146.0  \n",
       "plannedtime_dep      37004.00    53049.5    67078.0    91146.0  \n",
       "actualtime_arr       37017.75    53010.0    67046.0    90201.0  \n",
       "actualtime_dep       37028.00    53022.0    67057.0    90201.0  \n",
       "Temperature              6.10        6.6        8.3        8.6  \n",
       "Relative Humidity       79.00       81.0       86.0       97.0  "
      ]
     },
     "execution_count": 50,
     "metadata": {},
     "output_type": "execute_result"
    }
   ],
   "source": [
    "df_6thFeb.describe().T"
   ]
  },
  {
   "cell_type": "code",
   "execution_count": 51,
   "metadata": {},
   "outputs": [
    {
     "data": {
      "text/html": [
       "<div>\n",
       "<style scoped>\n",
       "    .dataframe tbody tr th:only-of-type {\n",
       "        vertical-align: middle;\n",
       "    }\n",
       "\n",
       "    .dataframe tbody tr th {\n",
       "        vertical-align: top;\n",
       "    }\n",
       "\n",
       "    .dataframe thead th {\n",
       "        text-align: right;\n",
       "    }\n",
       "</style>\n",
       "<table border=\"1\" class=\"dataframe\">\n",
       "  <thead>\n",
       "    <tr style=\"text-align: right;\">\n",
       "      <th></th>\n",
       "      <th>tripid</th>\n",
       "      <th>progrnumber</th>\n",
       "      <th>stoppointid</th>\n",
       "      <th>plannedtime_arr</th>\n",
       "      <th>plannedtime_dep</th>\n",
       "      <th>actualtime_arr</th>\n",
       "      <th>actualtime_dep</th>\n",
       "      <th>Temperature</th>\n",
       "      <th>Relative Humidity</th>\n",
       "    </tr>\n",
       "  </thead>\n",
       "  <tbody>\n",
       "    <tr>\n",
       "      <th>tripid</th>\n",
       "      <td>1.000000</td>\n",
       "      <td>0.013306</td>\n",
       "      <td>-0.045944</td>\n",
       "      <td>-0.016047</td>\n",
       "      <td>-0.016047</td>\n",
       "      <td>-0.016274</td>\n",
       "      <td>-0.016241</td>\n",
       "      <td>0.011584</td>\n",
       "      <td>-0.014646</td>\n",
       "    </tr>\n",
       "    <tr>\n",
       "      <th>progrnumber</th>\n",
       "      <td>0.013306</td>\n",
       "      <td>1.000000</td>\n",
       "      <td>-0.010090</td>\n",
       "      <td>0.062876</td>\n",
       "      <td>0.062876</td>\n",
       "      <td>0.062351</td>\n",
       "      <td>0.062343</td>\n",
       "      <td>0.029279</td>\n",
       "      <td>0.078342</td>\n",
       "    </tr>\n",
       "    <tr>\n",
       "      <th>stoppointid</th>\n",
       "      <td>-0.045944</td>\n",
       "      <td>-0.010090</td>\n",
       "      <td>1.000000</td>\n",
       "      <td>0.006613</td>\n",
       "      <td>0.006613</td>\n",
       "      <td>0.006975</td>\n",
       "      <td>0.006905</td>\n",
       "      <td>-0.005462</td>\n",
       "      <td>0.003565</td>\n",
       "    </tr>\n",
       "    <tr>\n",
       "      <th>plannedtime_arr</th>\n",
       "      <td>-0.016047</td>\n",
       "      <td>0.062876</td>\n",
       "      <td>0.006613</td>\n",
       "      <td>1.000000</td>\n",
       "      <td>1.000000</td>\n",
       "      <td>0.999824</td>\n",
       "      <td>0.999822</td>\n",
       "      <td>0.688757</td>\n",
       "      <td>0.850929</td>\n",
       "    </tr>\n",
       "    <tr>\n",
       "      <th>plannedtime_dep</th>\n",
       "      <td>-0.016047</td>\n",
       "      <td>0.062876</td>\n",
       "      <td>0.006613</td>\n",
       "      <td>1.000000</td>\n",
       "      <td>1.000000</td>\n",
       "      <td>0.999824</td>\n",
       "      <td>0.999822</td>\n",
       "      <td>0.688757</td>\n",
       "      <td>0.850929</td>\n",
       "    </tr>\n",
       "    <tr>\n",
       "      <th>actualtime_arr</th>\n",
       "      <td>-0.016274</td>\n",
       "      <td>0.062351</td>\n",
       "      <td>0.006975</td>\n",
       "      <td>0.999824</td>\n",
       "      <td>0.999824</td>\n",
       "      <td>1.000000</td>\n",
       "      <td>0.999998</td>\n",
       "      <td>0.689450</td>\n",
       "      <td>0.851943</td>\n",
       "    </tr>\n",
       "    <tr>\n",
       "      <th>actualtime_dep</th>\n",
       "      <td>-0.016241</td>\n",
       "      <td>0.062343</td>\n",
       "      <td>0.006905</td>\n",
       "      <td>0.999822</td>\n",
       "      <td>0.999822</td>\n",
       "      <td>0.999998</td>\n",
       "      <td>1.000000</td>\n",
       "      <td>0.689523</td>\n",
       "      <td>0.851899</td>\n",
       "    </tr>\n",
       "    <tr>\n",
       "      <th>Temperature</th>\n",
       "      <td>0.011584</td>\n",
       "      <td>0.029279</td>\n",
       "      <td>-0.005462</td>\n",
       "      <td>0.688757</td>\n",
       "      <td>0.688757</td>\n",
       "      <td>0.689450</td>\n",
       "      <td>0.689523</td>\n",
       "      <td>1.000000</td>\n",
       "      <td>0.437540</td>\n",
       "    </tr>\n",
       "    <tr>\n",
       "      <th>Relative Humidity</th>\n",
       "      <td>-0.014646</td>\n",
       "      <td>0.078342</td>\n",
       "      <td>0.003565</td>\n",
       "      <td>0.850929</td>\n",
       "      <td>0.850929</td>\n",
       "      <td>0.851943</td>\n",
       "      <td>0.851899</td>\n",
       "      <td>0.437540</td>\n",
       "      <td>1.000000</td>\n",
       "    </tr>\n",
       "  </tbody>\n",
       "</table>\n",
       "</div>"
      ],
      "text/plain": [
       "                     tripid  progrnumber  stoppointid  plannedtime_arr  \\\n",
       "tripid             1.000000     0.013306    -0.045944        -0.016047   \n",
       "progrnumber        0.013306     1.000000    -0.010090         0.062876   \n",
       "stoppointid       -0.045944    -0.010090     1.000000         0.006613   \n",
       "plannedtime_arr   -0.016047     0.062876     0.006613         1.000000   \n",
       "plannedtime_dep   -0.016047     0.062876     0.006613         1.000000   \n",
       "actualtime_arr    -0.016274     0.062351     0.006975         0.999824   \n",
       "actualtime_dep    -0.016241     0.062343     0.006905         0.999822   \n",
       "Temperature        0.011584     0.029279    -0.005462         0.688757   \n",
       "Relative Humidity -0.014646     0.078342     0.003565         0.850929   \n",
       "\n",
       "                   plannedtime_dep  actualtime_arr  actualtime_dep  \\\n",
       "tripid                   -0.016047       -0.016274       -0.016241   \n",
       "progrnumber               0.062876        0.062351        0.062343   \n",
       "stoppointid               0.006613        0.006975        0.006905   \n",
       "plannedtime_arr           1.000000        0.999824        0.999822   \n",
       "plannedtime_dep           1.000000        0.999824        0.999822   \n",
       "actualtime_arr            0.999824        1.000000        0.999998   \n",
       "actualtime_dep            0.999822        0.999998        1.000000   \n",
       "Temperature               0.688757        0.689450        0.689523   \n",
       "Relative Humidity         0.850929        0.851943        0.851899   \n",
       "\n",
       "                   Temperature  Relative Humidity  \n",
       "tripid                0.011584          -0.014646  \n",
       "progrnumber           0.029279           0.078342  \n",
       "stoppointid          -0.005462           0.003565  \n",
       "plannedtime_arr       0.688757           0.850929  \n",
       "plannedtime_dep       0.688757           0.850929  \n",
       "actualtime_arr        0.689450           0.851943  \n",
       "actualtime_dep        0.689523           0.851899  \n",
       "Temperature           1.000000           0.437540  \n",
       "Relative Humidity     0.437540           1.000000  "
      ]
     },
     "execution_count": 51,
     "metadata": {},
     "output_type": "execute_result"
    }
   ],
   "source": [
    "# Look at correlations for all the features.\n",
    "df_6thFeb.corr()"
   ]
  },
  {
   "cell_type": "markdown",
   "metadata": {},
   "source": [
    "### Check the number of uniquie tripids for the given day"
   ]
  },
  {
   "cell_type": "code",
   "execution_count": 52,
   "metadata": {},
   "outputs": [
    {
     "data": {
      "text/plain": [
       "6960"
      ]
     },
     "execution_count": 52,
     "metadata": {},
     "output_type": "execute_result"
    }
   ],
   "source": [
    "df_6thFeb.tripid.nunique()"
   ]
  },
  {
   "cell_type": "markdown",
   "metadata": {},
   "source": [
    "Sort the dataframe by 'tripid' and the 'progrnumber'"
   ]
  },
  {
   "cell_type": "code",
   "execution_count": 53,
   "metadata": {
    "collapsed": true
   },
   "outputs": [],
   "source": [
    "df_6thFeb = df_6thFeb.sort_values(by=['tripid','progrnumber'], ascending=True)"
   ]
  },
  {
   "cell_type": "code",
   "execution_count": 54,
   "metadata": {},
   "outputs": [
    {
     "data": {
      "text/html": [
       "<div>\n",
       "<style scoped>\n",
       "    .dataframe tbody tr th:only-of-type {\n",
       "        vertical-align: middle;\n",
       "    }\n",
       "\n",
       "    .dataframe tbody tr th {\n",
       "        vertical-align: top;\n",
       "    }\n",
       "\n",
       "    .dataframe thead th {\n",
       "        text-align: right;\n",
       "    }\n",
       "</style>\n",
       "<table border=\"1\" class=\"dataframe\">\n",
       "  <thead>\n",
       "    <tr style=\"text-align: right;\">\n",
       "      <th></th>\n",
       "      <th>tripid</th>\n",
       "      <th>progrnumber</th>\n",
       "      <th>stoppointid</th>\n",
       "      <th>plannedtime_arr</th>\n",
       "      <th>plannedtime_dep</th>\n",
       "      <th>actualtime_arr</th>\n",
       "      <th>actualtime_dep</th>\n",
       "      <th>lineid</th>\n",
       "      <th>actualtime</th>\n",
       "      <th>hour</th>\n",
       "      <th>Precipitation</th>\n",
       "      <th>Temperature</th>\n",
       "      <th>Relative Humidity</th>\n",
       "    </tr>\n",
       "  </thead>\n",
       "  <tbody>\n",
       "    <tr>\n",
       "      <th>182494</th>\n",
       "      <td>4327283</td>\n",
       "      <td>1</td>\n",
       "      <td>4392</td>\n",
       "      <td>82800</td>\n",
       "      <td>82800</td>\n",
       "      <td>82850</td>\n",
       "      <td>82850</td>\n",
       "      <td>9</td>\n",
       "      <td>23:00:50</td>\n",
       "      <td>23:00:00</td>\n",
       "      <td>Moderate</td>\n",
       "      <td>7.4</td>\n",
       "      <td>95</td>\n",
       "    </tr>\n",
       "    <tr>\n",
       "      <th>182493</th>\n",
       "      <td>4327283</td>\n",
       "      <td>2</td>\n",
       "      <td>2458</td>\n",
       "      <td>82831</td>\n",
       "      <td>82831</td>\n",
       "      <td>82875</td>\n",
       "      <td>82875</td>\n",
       "      <td>9</td>\n",
       "      <td>23:01:15</td>\n",
       "      <td>23:00:00</td>\n",
       "      <td>Moderate</td>\n",
       "      <td>7.4</td>\n",
       "      <td>95</td>\n",
       "    </tr>\n",
       "    <tr>\n",
       "      <th>182492</th>\n",
       "      <td>4327283</td>\n",
       "      <td>3</td>\n",
       "      <td>2446</td>\n",
       "      <td>82862</td>\n",
       "      <td>82862</td>\n",
       "      <td>82904</td>\n",
       "      <td>82904</td>\n",
       "      <td>9</td>\n",
       "      <td>23:01:44</td>\n",
       "      <td>23:00:00</td>\n",
       "      <td>Moderate</td>\n",
       "      <td>7.4</td>\n",
       "      <td>95</td>\n",
       "    </tr>\n",
       "    <tr>\n",
       "      <th>182491</th>\n",
       "      <td>4327283</td>\n",
       "      <td>4</td>\n",
       "      <td>2459</td>\n",
       "      <td>82894</td>\n",
       "      <td>82894</td>\n",
       "      <td>82926</td>\n",
       "      <td>82926</td>\n",
       "      <td>9</td>\n",
       "      <td>23:02:06</td>\n",
       "      <td>23:00:00</td>\n",
       "      <td>Moderate</td>\n",
       "      <td>7.4</td>\n",
       "      <td>95</td>\n",
       "    </tr>\n",
       "    <tr>\n",
       "      <th>182490</th>\n",
       "      <td>4327283</td>\n",
       "      <td>5</td>\n",
       "      <td>2460</td>\n",
       "      <td>82931</td>\n",
       "      <td>82931</td>\n",
       "      <td>82951</td>\n",
       "      <td>82951</td>\n",
       "      <td>9</td>\n",
       "      <td>23:02:31</td>\n",
       "      <td>23:00:00</td>\n",
       "      <td>Moderate</td>\n",
       "      <td>7.4</td>\n",
       "      <td>95</td>\n",
       "    </tr>\n",
       "  </tbody>\n",
       "</table>\n",
       "</div>"
      ],
      "text/plain": [
       "         tripid  progrnumber  stoppointid  plannedtime_arr  plannedtime_dep  \\\n",
       "182494  4327283            1         4392            82800            82800   \n",
       "182493  4327283            2         2458            82831            82831   \n",
       "182492  4327283            3         2446            82862            82862   \n",
       "182491  4327283            4         2459            82894            82894   \n",
       "182490  4327283            5         2460            82931            82931   \n",
       "\n",
       "        actualtime_arr  actualtime_dep lineid actualtime      hour  \\\n",
       "182494           82850           82850      9   23:00:50  23:00:00   \n",
       "182493           82875           82875      9   23:01:15  23:00:00   \n",
       "182492           82904           82904      9   23:01:44  23:00:00   \n",
       "182491           82926           82926      9   23:02:06  23:00:00   \n",
       "182490           82951           82951      9   23:02:31  23:00:00   \n",
       "\n",
       "       Precipitation  Temperature  Relative Humidity  \n",
       "182494      Moderate          7.4                 95  \n",
       "182493      Moderate          7.4                 95  \n",
       "182492      Moderate          7.4                 95  \n",
       "182491      Moderate          7.4                 95  \n",
       "182490      Moderate          7.4                 95  "
      ]
     },
     "execution_count": 54,
     "metadata": {},
     "output_type": "execute_result"
    }
   ],
   "source": [
    "df_6thFeb.head()"
   ]
  },
  {
   "cell_type": "markdown",
   "metadata": {},
   "source": [
    "### Set the index to be 'tripid' and 'progrnumber'"
   ]
  },
  {
   "cell_type": "code",
   "execution_count": 55,
   "metadata": {
    "collapsed": true
   },
   "outputs": [],
   "source": [
    "df_6thFeb.set_index(['tripid', 'progrnumber'], inplace=True)"
   ]
  },
  {
   "cell_type": "markdown",
   "metadata": {},
   "source": [
    "### Create a column which represents the time between stops for each trip"
   ]
  },
  {
   "cell_type": "code",
   "execution_count": 56,
   "metadata": {
    "collapsed": true
   },
   "outputs": [],
   "source": [
    "df_6thFeb['time_between_stops'] = df_6thFeb.groupby(level=0)['actualtime_arr'].diff()"
   ]
  },
  {
   "cell_type": "code",
   "execution_count": 57,
   "metadata": {},
   "outputs": [
    {
     "data": {
      "text/html": [
       "<div>\n",
       "<style scoped>\n",
       "    .dataframe tbody tr th:only-of-type {\n",
       "        vertical-align: middle;\n",
       "    }\n",
       "\n",
       "    .dataframe tbody tr th {\n",
       "        vertical-align: top;\n",
       "    }\n",
       "\n",
       "    .dataframe thead th {\n",
       "        text-align: right;\n",
       "    }\n",
       "</style>\n",
       "<table border=\"1\" class=\"dataframe\">\n",
       "  <thead>\n",
       "    <tr style=\"text-align: right;\">\n",
       "      <th></th>\n",
       "      <th></th>\n",
       "      <th>stoppointid</th>\n",
       "      <th>plannedtime_arr</th>\n",
       "      <th>plannedtime_dep</th>\n",
       "      <th>actualtime_arr</th>\n",
       "      <th>actualtime_dep</th>\n",
       "      <th>lineid</th>\n",
       "      <th>actualtime</th>\n",
       "      <th>hour</th>\n",
       "      <th>Precipitation</th>\n",
       "      <th>Temperature</th>\n",
       "      <th>Relative Humidity</th>\n",
       "      <th>time_between_stops</th>\n",
       "    </tr>\n",
       "    <tr>\n",
       "      <th>tripid</th>\n",
       "      <th>progrnumber</th>\n",
       "      <th></th>\n",
       "      <th></th>\n",
       "      <th></th>\n",
       "      <th></th>\n",
       "      <th></th>\n",
       "      <th></th>\n",
       "      <th></th>\n",
       "      <th></th>\n",
       "      <th></th>\n",
       "      <th></th>\n",
       "      <th></th>\n",
       "      <th></th>\n",
       "    </tr>\n",
       "  </thead>\n",
       "  <tbody>\n",
       "    <tr>\n",
       "      <th rowspan=\"10\" valign=\"top\">4327283</th>\n",
       "      <th>1</th>\n",
       "      <td>4392</td>\n",
       "      <td>82800</td>\n",
       "      <td>82800</td>\n",
       "      <td>82850</td>\n",
       "      <td>82850</td>\n",
       "      <td>9</td>\n",
       "      <td>23:00:50</td>\n",
       "      <td>23:00:00</td>\n",
       "      <td>Moderate</td>\n",
       "      <td>7.4</td>\n",
       "      <td>95</td>\n",
       "      <td>NaN</td>\n",
       "    </tr>\n",
       "    <tr>\n",
       "      <th>2</th>\n",
       "      <td>2458</td>\n",
       "      <td>82831</td>\n",
       "      <td>82831</td>\n",
       "      <td>82875</td>\n",
       "      <td>82875</td>\n",
       "      <td>9</td>\n",
       "      <td>23:01:15</td>\n",
       "      <td>23:00:00</td>\n",
       "      <td>Moderate</td>\n",
       "      <td>7.4</td>\n",
       "      <td>95</td>\n",
       "      <td>25.0</td>\n",
       "    </tr>\n",
       "    <tr>\n",
       "      <th>3</th>\n",
       "      <td>2446</td>\n",
       "      <td>82862</td>\n",
       "      <td>82862</td>\n",
       "      <td>82904</td>\n",
       "      <td>82904</td>\n",
       "      <td>9</td>\n",
       "      <td>23:01:44</td>\n",
       "      <td>23:00:00</td>\n",
       "      <td>Moderate</td>\n",
       "      <td>7.4</td>\n",
       "      <td>95</td>\n",
       "      <td>29.0</td>\n",
       "    </tr>\n",
       "    <tr>\n",
       "      <th>4</th>\n",
       "      <td>2459</td>\n",
       "      <td>82894</td>\n",
       "      <td>82894</td>\n",
       "      <td>82926</td>\n",
       "      <td>82926</td>\n",
       "      <td>9</td>\n",
       "      <td>23:02:06</td>\n",
       "      <td>23:00:00</td>\n",
       "      <td>Moderate</td>\n",
       "      <td>7.4</td>\n",
       "      <td>95</td>\n",
       "      <td>22.0</td>\n",
       "    </tr>\n",
       "    <tr>\n",
       "      <th>5</th>\n",
       "      <td>2460</td>\n",
       "      <td>82931</td>\n",
       "      <td>82931</td>\n",
       "      <td>82951</td>\n",
       "      <td>82951</td>\n",
       "      <td>9</td>\n",
       "      <td>23:02:31</td>\n",
       "      <td>23:00:00</td>\n",
       "      <td>Moderate</td>\n",
       "      <td>7.4</td>\n",
       "      <td>95</td>\n",
       "      <td>25.0</td>\n",
       "    </tr>\n",
       "    <tr>\n",
       "      <th>6</th>\n",
       "      <td>2461</td>\n",
       "      <td>82969</td>\n",
       "      <td>82969</td>\n",
       "      <td>82983</td>\n",
       "      <td>82983</td>\n",
       "      <td>9</td>\n",
       "      <td>23:03:03</td>\n",
       "      <td>23:00:00</td>\n",
       "      <td>Moderate</td>\n",
       "      <td>7.4</td>\n",
       "      <td>95</td>\n",
       "      <td>32.0</td>\n",
       "    </tr>\n",
       "    <tr>\n",
       "      <th>7</th>\n",
       "      <td>2462</td>\n",
       "      <td>82996</td>\n",
       "      <td>82996</td>\n",
       "      <td>83007</td>\n",
       "      <td>83007</td>\n",
       "      <td>9</td>\n",
       "      <td>23:03:27</td>\n",
       "      <td>23:00:00</td>\n",
       "      <td>Moderate</td>\n",
       "      <td>7.4</td>\n",
       "      <td>95</td>\n",
       "      <td>24.0</td>\n",
       "    </tr>\n",
       "    <tr>\n",
       "      <th>8</th>\n",
       "      <td>2463</td>\n",
       "      <td>83020</td>\n",
       "      <td>83020</td>\n",
       "      <td>83026</td>\n",
       "      <td>83026</td>\n",
       "      <td>9</td>\n",
       "      <td>23:03:46</td>\n",
       "      <td>23:00:00</td>\n",
       "      <td>Moderate</td>\n",
       "      <td>7.4</td>\n",
       "      <td>95</td>\n",
       "      <td>19.0</td>\n",
       "    </tr>\n",
       "    <tr>\n",
       "      <th>9</th>\n",
       "      <td>2431</td>\n",
       "      <td>83074</td>\n",
       "      <td>83074</td>\n",
       "      <td>83074</td>\n",
       "      <td>83126</td>\n",
       "      <td>9</td>\n",
       "      <td>23:04:34</td>\n",
       "      <td>23:00:00</td>\n",
       "      <td>Moderate</td>\n",
       "      <td>7.4</td>\n",
       "      <td>95</td>\n",
       "      <td>48.0</td>\n",
       "    </tr>\n",
       "    <tr>\n",
       "      <th>10</th>\n",
       "      <td>2432</td>\n",
       "      <td>83105</td>\n",
       "      <td>83105</td>\n",
       "      <td>83157</td>\n",
       "      <td>83157</td>\n",
       "      <td>9</td>\n",
       "      <td>23:05:57</td>\n",
       "      <td>23:00:00</td>\n",
       "      <td>Moderate</td>\n",
       "      <td>7.4</td>\n",
       "      <td>95</td>\n",
       "      <td>83.0</td>\n",
       "    </tr>\n",
       "  </tbody>\n",
       "</table>\n",
       "</div>"
      ],
      "text/plain": [
       "                     stoppointid  plannedtime_arr  plannedtime_dep  \\\n",
       "tripid  progrnumber                                                  \n",
       "4327283 1                   4392            82800            82800   \n",
       "        2                   2458            82831            82831   \n",
       "        3                   2446            82862            82862   \n",
       "        4                   2459            82894            82894   \n",
       "        5                   2460            82931            82931   \n",
       "        6                   2461            82969            82969   \n",
       "        7                   2462            82996            82996   \n",
       "        8                   2463            83020            83020   \n",
       "        9                   2431            83074            83074   \n",
       "        10                  2432            83105            83105   \n",
       "\n",
       "                     actualtime_arr  actualtime_dep lineid actualtime  \\\n",
       "tripid  progrnumber                                                     \n",
       "4327283 1                     82850           82850      9   23:00:50   \n",
       "        2                     82875           82875      9   23:01:15   \n",
       "        3                     82904           82904      9   23:01:44   \n",
       "        4                     82926           82926      9   23:02:06   \n",
       "        5                     82951           82951      9   23:02:31   \n",
       "        6                     82983           82983      9   23:03:03   \n",
       "        7                     83007           83007      9   23:03:27   \n",
       "        8                     83026           83026      9   23:03:46   \n",
       "        9                     83074           83126      9   23:04:34   \n",
       "        10                    83157           83157      9   23:05:57   \n",
       "\n",
       "                         hour Precipitation  Temperature  Relative Humidity  \\\n",
       "tripid  progrnumber                                                           \n",
       "4327283 1            23:00:00      Moderate          7.4                 95   \n",
       "        2            23:00:00      Moderate          7.4                 95   \n",
       "        3            23:00:00      Moderate          7.4                 95   \n",
       "        4            23:00:00      Moderate          7.4                 95   \n",
       "        5            23:00:00      Moderate          7.4                 95   \n",
       "        6            23:00:00      Moderate          7.4                 95   \n",
       "        7            23:00:00      Moderate          7.4                 95   \n",
       "        8            23:00:00      Moderate          7.4                 95   \n",
       "        9            23:00:00      Moderate          7.4                 95   \n",
       "        10           23:00:00      Moderate          7.4                 95   \n",
       "\n",
       "                     time_between_stops  \n",
       "tripid  progrnumber                      \n",
       "4327283 1                           NaN  \n",
       "        2                          25.0  \n",
       "        3                          29.0  \n",
       "        4                          22.0  \n",
       "        5                          25.0  \n",
       "        6                          32.0  \n",
       "        7                          24.0  \n",
       "        8                          19.0  \n",
       "        9                          48.0  \n",
       "        10                         83.0  "
      ]
     },
     "execution_count": 57,
     "metadata": {},
     "output_type": "execute_result"
    }
   ],
   "source": [
    "df_6thFeb.head(10)"
   ]
  },
  {
   "cell_type": "markdown",
   "metadata": {},
   "source": [
    "### Reset the index so that the data frame can be shuffled and then stored with the 'tripid' and 'progrnumber' columns contained in it"
   ]
  },
  {
   "cell_type": "code",
   "execution_count": 58,
   "metadata": {
    "collapsed": true
   },
   "outputs": [],
   "source": [
    "df_6thFeb = df_6thFeb.reset_index()"
   ]
  },
  {
   "cell_type": "code",
   "execution_count": 59,
   "metadata": {},
   "outputs": [
    {
     "data": {
      "text/html": [
       "<div>\n",
       "<style scoped>\n",
       "    .dataframe tbody tr th:only-of-type {\n",
       "        vertical-align: middle;\n",
       "    }\n",
       "\n",
       "    .dataframe tbody tr th {\n",
       "        vertical-align: top;\n",
       "    }\n",
       "\n",
       "    .dataframe thead th {\n",
       "        text-align: right;\n",
       "    }\n",
       "</style>\n",
       "<table border=\"1\" class=\"dataframe\">\n",
       "  <thead>\n",
       "    <tr style=\"text-align: right;\">\n",
       "      <th></th>\n",
       "      <th>tripid</th>\n",
       "      <th>progrnumber</th>\n",
       "      <th>stoppointid</th>\n",
       "      <th>plannedtime_arr</th>\n",
       "      <th>plannedtime_dep</th>\n",
       "      <th>actualtime_arr</th>\n",
       "      <th>actualtime_dep</th>\n",
       "      <th>lineid</th>\n",
       "      <th>actualtime</th>\n",
       "      <th>hour</th>\n",
       "      <th>Precipitation</th>\n",
       "      <th>Temperature</th>\n",
       "      <th>Relative Humidity</th>\n",
       "      <th>time_between_stops</th>\n",
       "    </tr>\n",
       "  </thead>\n",
       "  <tbody>\n",
       "    <tr>\n",
       "      <th>0</th>\n",
       "      <td>4327283</td>\n",
       "      <td>1</td>\n",
       "      <td>4392</td>\n",
       "      <td>82800</td>\n",
       "      <td>82800</td>\n",
       "      <td>82850</td>\n",
       "      <td>82850</td>\n",
       "      <td>9</td>\n",
       "      <td>23:00:50</td>\n",
       "      <td>23:00:00</td>\n",
       "      <td>Moderate</td>\n",
       "      <td>7.4</td>\n",
       "      <td>95</td>\n",
       "      <td>NaN</td>\n",
       "    </tr>\n",
       "    <tr>\n",
       "      <th>1</th>\n",
       "      <td>4327283</td>\n",
       "      <td>2</td>\n",
       "      <td>2458</td>\n",
       "      <td>82831</td>\n",
       "      <td>82831</td>\n",
       "      <td>82875</td>\n",
       "      <td>82875</td>\n",
       "      <td>9</td>\n",
       "      <td>23:01:15</td>\n",
       "      <td>23:00:00</td>\n",
       "      <td>Moderate</td>\n",
       "      <td>7.4</td>\n",
       "      <td>95</td>\n",
       "      <td>25.0</td>\n",
       "    </tr>\n",
       "    <tr>\n",
       "      <th>2</th>\n",
       "      <td>4327283</td>\n",
       "      <td>3</td>\n",
       "      <td>2446</td>\n",
       "      <td>82862</td>\n",
       "      <td>82862</td>\n",
       "      <td>82904</td>\n",
       "      <td>82904</td>\n",
       "      <td>9</td>\n",
       "      <td>23:01:44</td>\n",
       "      <td>23:00:00</td>\n",
       "      <td>Moderate</td>\n",
       "      <td>7.4</td>\n",
       "      <td>95</td>\n",
       "      <td>29.0</td>\n",
       "    </tr>\n",
       "    <tr>\n",
       "      <th>3</th>\n",
       "      <td>4327283</td>\n",
       "      <td>4</td>\n",
       "      <td>2459</td>\n",
       "      <td>82894</td>\n",
       "      <td>82894</td>\n",
       "      <td>82926</td>\n",
       "      <td>82926</td>\n",
       "      <td>9</td>\n",
       "      <td>23:02:06</td>\n",
       "      <td>23:00:00</td>\n",
       "      <td>Moderate</td>\n",
       "      <td>7.4</td>\n",
       "      <td>95</td>\n",
       "      <td>22.0</td>\n",
       "    </tr>\n",
       "    <tr>\n",
       "      <th>4</th>\n",
       "      <td>4327283</td>\n",
       "      <td>5</td>\n",
       "      <td>2460</td>\n",
       "      <td>82931</td>\n",
       "      <td>82931</td>\n",
       "      <td>82951</td>\n",
       "      <td>82951</td>\n",
       "      <td>9</td>\n",
       "      <td>23:02:31</td>\n",
       "      <td>23:00:00</td>\n",
       "      <td>Moderate</td>\n",
       "      <td>7.4</td>\n",
       "      <td>95</td>\n",
       "      <td>25.0</td>\n",
       "    </tr>\n",
       "  </tbody>\n",
       "</table>\n",
       "</div>"
      ],
      "text/plain": [
       "    tripid  progrnumber  stoppointid  plannedtime_arr  plannedtime_dep  \\\n",
       "0  4327283            1         4392            82800            82800   \n",
       "1  4327283            2         2458            82831            82831   \n",
       "2  4327283            3         2446            82862            82862   \n",
       "3  4327283            4         2459            82894            82894   \n",
       "4  4327283            5         2460            82931            82931   \n",
       "\n",
       "   actualtime_arr  actualtime_dep lineid actualtime      hour Precipitation  \\\n",
       "0           82850           82850      9   23:00:50  23:00:00      Moderate   \n",
       "1           82875           82875      9   23:01:15  23:00:00      Moderate   \n",
       "2           82904           82904      9   23:01:44  23:00:00      Moderate   \n",
       "3           82926           82926      9   23:02:06  23:00:00      Moderate   \n",
       "4           82951           82951      9   23:02:31  23:00:00      Moderate   \n",
       "\n",
       "   Temperature  Relative Humidity  time_between_stops  \n",
       "0          7.4                 95                 NaN  \n",
       "1          7.4                 95                25.0  \n",
       "2          7.4                 95                29.0  \n",
       "3          7.4                 95                22.0  \n",
       "4          7.4                 95                25.0  "
      ]
     },
     "execution_count": 59,
     "metadata": {},
     "output_type": "execute_result"
    }
   ],
   "source": [
    "df_6thFeb.head()"
   ]
  },
  {
   "cell_type": "code",
   "execution_count": 60,
   "metadata": {
    "collapsed": true
   },
   "outputs": [],
   "source": [
    "#Save dataframe to a csv\n",
    "# df_6thFeb.to_csv('../../../files/6thFeb.csv',index=False)"
   ]
  },
  {
   "cell_type": "markdown",
   "metadata": {},
   "source": [
    "### Shuffled the data and then split into training and test data (70:30)\n",
    "(Commented out to avoid reshuffling and overwriting the csv files everytime the kernel is run)"
   ]
  },
  {
   "cell_type": "code",
   "execution_count": 61,
   "metadata": {
    "collapsed": true
   },
   "outputs": [],
   "source": [
    "# shuffled = shuffle(df_6thFeb)\n",
    "# shuffled.to_csv('../../../files/Shuffled_Feb6th.csv', index=False)\n",
    "# #Split the dataset into two datasets: 70% training and 30% test.\n",
    "# y = shuffled[['time_between_stops']]\n",
    "# X_train, X_test, y_train, y_test = train_test_split(shuffled, y, test_size=0.3)\n",
    "# #Save the training dataframe to a csv\n",
    "# X_train.to_csv('../../../files/dftrain.csv',index=False)\n",
    "# #Save the test dataframe to a csv\n",
    "# X_test.to_csv('../../../files/dftest.csv',index=False)"
   ]
  },
  {
   "cell_type": "code",
   "execution_count": 62,
   "metadata": {},
   "outputs": [
    {
     "name": "stderr",
     "output_type": "stream",
     "text": [
      "/home/student/miniconda3/envs/BigData/lib/python3.6/site-packages/ipykernel_launcher.py:2: FutureWarning: Method .as_matrix will be removed in a future version. Use .values instead.\n",
      "  \n",
      "/home/student/miniconda3/envs/BigData/lib/python3.6/site-packages/ipykernel_launcher.py:3: FutureWarning: Method .as_matrix will be removed in a future version. Use .values instead.\n",
      "  This is separate from the ipykernel package so we can avoid doing imports until\n"
     ]
    },
    {
     "data": {
      "text/plain": [
       "<matplotlib.axes._subplots.AxesSubplot at 0x7f94ca7066d8>"
      ]
     },
     "execution_count": 62,
     "metadata": {},
     "output_type": "execute_result"
    },
    {
     "data": {
      "image/png": "[encoded data removed]",
      "text/plain": [
       "<Figure size 360x360 with 1 Axes>"
      ]
     },
     "metadata": {},
     "output_type": "display_data"
    },
    {
     "data": {
      "image/png": "[encoded data removed]",
      "text/plain": [
       "<Figure size 360x360 with 1 Axes>"
      ]
     },
     "metadata": {},
     "output_type": "display_data"
    }
   ],
   "source": [
    "# Scatterplots for correlation between some continuous features and time_between_stop\n",
    "df_6thFeb.plot(kind='scatter', x='Temperature', y='time_between_stops', label=\"%.3f\" % df_6thFeb[['Temperature', 'time_between_stops']].corr().as_matrix()[0,1], figsize=(5, 5))\n",
    "df_6thFeb.plot(kind='scatter', x='Relative Humidity', y='time_between_stops', label=\"%.3f\" % df_6thFeb[['Relative Humidity', 'time_between_stops']].corr().as_matrix()[0,1], figsize=(5, 5))"
   ]
  },
  {
   "cell_type": "markdown",
   "metadata": {},
   "source": [
    "### Load in the training data to train a linear model on"
   ]
  },
  {
   "cell_type": "code",
   "execution_count": 63,
   "metadata": {
    "collapsed": true
   },
   "outputs": [],
   "source": [
    "# Convert the training csv file into dataframe\n",
    "dftrain = pd.read_csv('../../../files/dftrain.csv',keep_default_na=True, sep=',\\s+', delimiter=',', skipinitialspace=True)"
   ]
  },
  {
   "cell_type": "code",
   "execution_count": 64,
   "metadata": {},
   "outputs": [
    {
     "data": {
      "text/html": [
       "<div>\n",
       "<style scoped>\n",
       "    .dataframe tbody tr th:only-of-type {\n",
       "        vertical-align: middle;\n",
       "    }\n",
       "\n",
       "    .dataframe tbody tr th {\n",
       "        vertical-align: top;\n",
       "    }\n",
       "\n",
       "    .dataframe thead th {\n",
       "        text-align: right;\n",
       "    }\n",
       "</style>\n",
       "<table border=\"1\" class=\"dataframe\">\n",
       "  <thead>\n",
       "    <tr style=\"text-align: right;\">\n",
       "      <th></th>\n",
       "      <th>tripid</th>\n",
       "      <th>progrnumber</th>\n",
       "      <th>stoppointid</th>\n",
       "      <th>plannedtime_arr</th>\n",
       "      <th>plannedtime_dep</th>\n",
       "      <th>actualtime_arr</th>\n",
       "      <th>actualtime_dep</th>\n",
       "      <th>lineid</th>\n",
       "      <th>actualtime</th>\n",
       "      <th>hour</th>\n",
       "      <th>Precipitation</th>\n",
       "      <th>Temperature</th>\n",
       "      <th>Relative Humidity</th>\n",
       "      <th>time_between_stops</th>\n",
       "    </tr>\n",
       "  </thead>\n",
       "  <tbody>\n",
       "    <tr>\n",
       "      <th>249365</th>\n",
       "      <td>4330965</td>\n",
       "      <td>14</td>\n",
       "      <td>4000</td>\n",
       "      <td>48340</td>\n",
       "      <td>48340</td>\n",
       "      <td>48222</td>\n",
       "      <td>48222</td>\n",
       "      <td>66</td>\n",
       "      <td>13:23:42</td>\n",
       "      <td>13:00:00</td>\n",
       "      <td>Slight</td>\n",
       "      <td>6.4</td>\n",
       "      <td>80</td>\n",
       "      <td>46.0</td>\n",
       "    </tr>\n",
       "    <tr>\n",
       "      <th>249366</th>\n",
       "      <td>4336438</td>\n",
       "      <td>47</td>\n",
       "      <td>614</td>\n",
       "      <td>81251</td>\n",
       "      <td>81251</td>\n",
       "      <td>81253</td>\n",
       "      <td>81253</td>\n",
       "      <td>31</td>\n",
       "      <td>22:34:13</td>\n",
       "      <td>22:00:00</td>\n",
       "      <td>Slight</td>\n",
       "      <td>7.3</td>\n",
       "      <td>97</td>\n",
       "      <td>73.0</td>\n",
       "    </tr>\n",
       "    <tr>\n",
       "      <th>249367</th>\n",
       "      <td>4331217</td>\n",
       "      <td>27</td>\n",
       "      <td>4066</td>\n",
       "      <td>27060</td>\n",
       "      <td>27060</td>\n",
       "      <td>27145</td>\n",
       "      <td>27145</td>\n",
       "      <td>65</td>\n",
       "      <td>07:32:25</td>\n",
       "      <td>07:00:00</td>\n",
       "      <td>None</td>\n",
       "      <td>5.9</td>\n",
       "      <td>72</td>\n",
       "      <td>110.0</td>\n",
       "    </tr>\n",
       "    <tr>\n",
       "      <th>249368</th>\n",
       "      <td>4342760</td>\n",
       "      <td>44</td>\n",
       "      <td>1944</td>\n",
       "      <td>62245</td>\n",
       "      <td>62245</td>\n",
       "      <td>61435</td>\n",
       "      <td>61435</td>\n",
       "      <td>13</td>\n",
       "      <td>17:03:55</td>\n",
       "      <td>17:00:00</td>\n",
       "      <td>None</td>\n",
       "      <td>8.4</td>\n",
       "      <td>83</td>\n",
       "      <td>29.0</td>\n",
       "    </tr>\n",
       "    <tr>\n",
       "      <th>249369</th>\n",
       "      <td>4340100</td>\n",
       "      <td>37</td>\n",
       "      <td>2499</td>\n",
       "      <td>38923</td>\n",
       "      <td>38923</td>\n",
       "      <td>38957</td>\n",
       "      <td>38957</td>\n",
       "      <td>15A</td>\n",
       "      <td>10:49:17</td>\n",
       "      <td>10:00:00</td>\n",
       "      <td>Slight</td>\n",
       "      <td>5.9</td>\n",
       "      <td>85</td>\n",
       "      <td>56.0</td>\n",
       "    </tr>\n",
       "  </tbody>\n",
       "</table>\n",
       "</div>"
      ],
      "text/plain": [
       "         tripid  progrnumber  stoppointid  plannedtime_arr  plannedtime_dep  \\\n",
       "249365  4330965           14         4000            48340            48340   \n",
       "249366  4336438           47          614            81251            81251   \n",
       "249367  4331217           27         4066            27060            27060   \n",
       "249368  4342760           44         1944            62245            62245   \n",
       "249369  4340100           37         2499            38923            38923   \n",
       "\n",
       "        actualtime_arr  actualtime_dep lineid actualtime      hour  \\\n",
       "249365           48222           48222     66   13:23:42  13:00:00   \n",
       "249366           81253           81253     31   22:34:13  22:00:00   \n",
       "249367           27145           27145     65   07:32:25  07:00:00   \n",
       "249368           61435           61435     13   17:03:55  17:00:00   \n",
       "249369           38957           38957    15A   10:49:17  10:00:00   \n",
       "\n",
       "       Precipitation  Temperature  Relative Humidity  time_between_stops  \n",
       "249365        Slight          6.4                 80                46.0  \n",
       "249366        Slight          7.3                 97                73.0  \n",
       "249367          None          5.9                 72               110.0  \n",
       "249368          None          8.4                 83                29.0  \n",
       "249369        Slight          5.9                 85                56.0  "
      ]
     },
     "execution_count": 64,
     "metadata": {},
     "output_type": "execute_result"
    }
   ],
   "source": [
    "dftrain.tail()"
   ]
  },
  {
   "cell_type": "code",
   "execution_count": 65,
   "metadata": {},
   "outputs": [
    {
     "data": {
      "text/plain": [
       "(249370, 14)"
      ]
     },
     "execution_count": 65,
     "metadata": {},
     "output_type": "execute_result"
    }
   ],
   "source": [
    "dftrain.shape"
   ]
  },
  {
   "cell_type": "code",
   "execution_count": 66,
   "metadata": {
    "collapsed": true
   },
   "outputs": [],
   "source": [
    "dftrain = dftrain[dftrain.time_between_stops >= 0.1]\n",
    "dftrain.time_between_stops.fillna(dftrain.time_between_stops.median(),inplace=True)\n",
    "\n",
    "dftrain = dftrain[dftrain['time_between_stops']<2000]"
   ]
  },
  {
   "cell_type": "code",
   "execution_count": 67,
   "metadata": {},
   "outputs": [
    {
     "data": {
      "text/plain": [
       "(244419, 14)"
      ]
     },
     "execution_count": 67,
     "metadata": {},
     "output_type": "execute_result"
    }
   ],
   "source": [
    "#dftrain = dftrain.dropna()\n",
    "dftrain.shape"
   ]
  },
  {
   "cell_type": "code",
   "execution_count": 68,
   "metadata": {},
   "outputs": [
    {
     "name": "stdout",
     "output_type": "stream",
     "text": [
      "Intercept                 -6.192511e+11\n",
      "hour[T.01:00:00]           9.692599e+01\n",
      "hour[T.04:00:00]           1.808406e+02\n",
      "hour[T.05:00:00]           5.434435e+00\n",
      "hour[T.06:00:00]           8.471241e+00\n",
      "hour[T.07:00:00]           2.008463e+01\n",
      "hour[T.08:00:00]           4.154965e+01\n",
      "hour[T.09:00:00]           6.765347e+11\n",
      "hour[T.10:00:00]           6.765347e+11\n",
      "hour[T.11:00:00]           1.718367e+01\n",
      "hour[T.12:00:00]           2.024733e+01\n",
      "hour[T.13:00:00]           6.765347e+11\n",
      "hour[T.14:00:00]           2.123527e+01\n",
      "hour[T.15:00:00]           2.297700e+01\n",
      "hour[T.16:00:00]           3.015144e+01\n",
      "hour[T.17:00:00]           3.160114e+01\n",
      "hour[T.18:00:00]           2.492615e+01\n",
      "hour[T.19:00:00]           6.765347e+11\n",
      "hour[T.20:00:00]           6.765347e+11\n",
      "hour[T.21:00:00]           8.153690e+00\n",
      "hour[T.22:00:00]           6.765347e+11\n",
      "hour[T.23:00:00]           6.192511e+11\n",
      "lineid[T.102]             -3.469748e+01\n",
      "lineid[T.104]              6.037396e+01\n",
      "lineid[T.11]              -3.110786e+01\n",
      "lineid[T.111]             -7.988688e+01\n",
      "lineid[T.114]             -8.259187e+01\n",
      "lineid[T.116]             -4.222455e+01\n",
      "lineid[T.118]              4.729715e+02\n",
      "lineid[T.120]              1.150551e+02\n",
      "                               ...     \n",
      "lineid[T.66X]             -7.138423e+01\n",
      "lineid[T.67]              -1.067557e+02\n",
      "lineid[T.67X]             -8.403961e+01\n",
      "lineid[T.68]              -1.194977e+02\n",
      "lineid[T.68A]             -9.844798e+01\n",
      "lineid[T.68X]             -1.014311e+02\n",
      "lineid[T.69]              -1.109175e+02\n",
      "lineid[T.69X]              7.124092e+01\n",
      "lineid[T.7]               -9.734128e+01\n",
      "lineid[T.70]              -8.379562e+01\n",
      "lineid[T.70D]             -9.810522e+01\n",
      "lineid[T.75]              -1.147945e+02\n",
      "lineid[T.757]              5.970754e+01\n",
      "lineid[T.76]              -8.994839e+01\n",
      "lineid[T.76A]             -7.329089e+01\n",
      "lineid[T.77A]             -1.062219e+02\n",
      "lineid[T.77X]             -9.621865e+01\n",
      "lineid[T.79]              -1.023218e+02\n",
      "lineid[T.79A]             -1.042307e+02\n",
      "lineid[T.7A]              -1.074154e+02\n",
      "lineid[T.7B]              -9.133212e+01\n",
      "lineid[T.7D]              -1.006425e+02\n",
      "lineid[T.83]              -9.991293e+01\n",
      "lineid[T.83A]             -1.030441e+02\n",
      "lineid[T.84]              -1.126388e+02\n",
      "lineid[T.84A]             -1.174598e+02\n",
      "lineid[T.84X]             -2.918360e+01\n",
      "lineid[T.9]               -1.017685e+02\n",
      "Precipitation[T.None]      6.192511e+11\n",
      "Precipitation[T.Slight]   -5.728352e+10\n",
      "Length: 147, dtype: float64\n"
     ]
    }
   ],
   "source": [
    "# Build a learning machine using the subset of features chosen in part 1\n",
    "lm = sm.ols(formula=\"time_between_stops ~ hour + lineid + Precipitation\", data=dftrain).fit()\n",
    "\n",
    "# Print the model parameters (e.g coefficients)\n",
    "print(lm.params)"
   ]
  },
  {
   "cell_type": "code",
   "execution_count": 69,
   "metadata": {},
   "outputs": [
    {
     "name": "stdout",
     "output_type": "stream",
     "text": [
      "                            OLS Regression Results                            \n",
      "==============================================================================\n",
      "Dep. Variable:     time_between_stops   R-squared:                       0.082\n",
      "Model:                            OLS   Adj. R-squared:                  0.081\n",
      "Method:                 Least Squares   F-statistic:                     150.1\n",
      "Date:                Wed, 04 Jul 2018   Prob (F-statistic):               0.00\n",
      "Time:                        16:41:03   Log-Likelihood:            -1.4037e+06\n",
      "No. Observations:              244419   AIC:                         2.808e+06\n",
      "Df Residuals:                  244273   BIC:                         2.809e+06\n",
      "Df Model:                         145                                         \n",
      "Covariance Type:            nonrobust                                         \n",
      "===========================================================================================\n",
      "                              coef    std err          t      P>|t|      [0.025      0.975]\n",
      "-------------------------------------------------------------------------------------------\n",
      "Intercept               -6.193e+11   2.19e+12     -0.283      0.777   -4.91e+12    3.67e+12\n",
      "hour[T.01:00:00]           96.9260     53.698      1.805      0.071      -8.321     202.172\n",
      "hour[T.04:00:00]          180.8406     24.086      7.508      0.000     133.632     228.049\n",
      "hour[T.05:00:00]            5.4344      4.301      1.263      0.206      -2.996      13.865\n",
      "hour[T.06:00:00]            8.4712      3.150      2.689      0.007       2.298      14.645\n",
      "hour[T.07:00:00]           20.0846      3.030      6.628      0.000      14.145      26.024\n",
      "hour[T.08:00:00]           41.5497      3.033     13.700      0.000      35.605      47.494\n",
      "hour[T.09:00:00]         6.765e+11   1.09e+12      0.619      0.536   -1.46e+12    2.82e+12\n",
      "hour[T.10:00:00]         6.765e+11   1.09e+12      0.619      0.536   -1.46e+12    2.82e+12\n",
      "hour[T.11:00:00]           17.1837      3.048      5.638      0.000      11.210      23.158\n",
      "hour[T.12:00:00]           20.2473      3.040      6.660      0.000      14.288      26.206\n",
      "hour[T.13:00:00]         6.765e+11   1.09e+12      0.619      0.536   -1.46e+12    2.82e+12\n",
      "hour[T.14:00:00]           21.2353      3.042      6.981      0.000      15.274      27.197\n",
      "hour[T.15:00:00]           22.9770      3.044      7.548      0.000      17.011      28.943\n",
      "hour[T.16:00:00]           30.1514      3.031      9.948      0.000      24.211      36.092\n",
      "hour[T.17:00:00]           31.6011      3.039     10.398      0.000      25.644      37.558\n",
      "hour[T.18:00:00]           24.9261      3.036      8.209      0.000      18.975      30.877\n",
      "hour[T.19:00:00]         6.765e+11   1.09e+12      0.619      0.536   -1.46e+12    2.82e+12\n",
      "hour[T.20:00:00]         6.765e+11   1.09e+12      0.619      0.536   -1.46e+12    2.82e+12\n",
      "hour[T.21:00:00]            8.1537      3.062      2.663      0.008       2.152      14.156\n",
      "hour[T.22:00:00]         6.765e+11   1.09e+12      0.619      0.536   -1.46e+12    2.82e+12\n",
      "hour[T.23:00:00]         6.193e+11   2.19e+12      0.283      0.777   -3.67e+12    4.91e+12\n",
      "lineid[T.102]             -34.6975      4.218     -8.226      0.000     -42.964     -26.431\n",
      "lineid[T.104]              60.3740      8.197      7.365      0.000      44.308      76.440\n",
      "lineid[T.11]              -31.1079      3.804     -8.178      0.000     -38.564     -23.652\n",
      "lineid[T.111]             -79.8869      5.465    -14.617      0.000     -90.599     -69.175\n",
      "lineid[T.114]             -82.5919      5.578    -14.808      0.000     -93.524     -71.660\n",
      "lineid[T.116]             -42.2246     12.487     -3.382      0.001     -66.698     -17.751\n",
      "lineid[T.118]             472.9715     75.607      6.256      0.000     324.785     621.158\n",
      "lineid[T.120]             115.0551      7.048     16.324      0.000     101.241     128.870\n",
      "lineid[T.122]             179.3086      5.066     35.395      0.000     169.380     189.238\n",
      "lineid[T.123]             -89.2849      3.277    -27.244      0.000     -95.708     -82.861\n",
      "lineid[T.13]             -105.4960      3.202    -32.948      0.000    -111.772     -99.220\n",
      "lineid[T.130]            -123.6700      3.282    -37.680      0.000    -130.103    -117.237\n",
      "lineid[T.14]             -106.6097      3.241    -32.893      0.000    -112.962    -100.257\n",
      "lineid[T.140]             -93.0493      3.326    -27.973      0.000     -99.569     -86.530\n",
      "lineid[T.142]             -79.3916      4.906    -16.183      0.000     -89.007     -69.776\n",
      "lineid[T.145]            -101.9904      3.178    -32.096      0.000    -108.219     -95.762\n",
      "lineid[T.14C]            -116.1881      9.285    -12.513      0.000    -134.387     -97.989\n",
      "lineid[T.15]             -100.1127      3.186    -31.426      0.000    -106.356     -93.869\n",
      "lineid[T.150]            -108.9291      3.433    -31.728      0.000    -115.658    -102.200\n",
      "lineid[T.151]             -96.4437      3.355    -28.746      0.000    -103.020     -89.868\n",
      "lineid[T.15A]            -104.3682      3.412    -30.589      0.000    -111.056     -97.681\n",
      "lineid[T.15B]             -99.2817      3.339    -29.738      0.000    -105.825     -92.738\n",
      "lineid[T.16]             -101.3254      3.201    -31.650      0.000    -107.600     -95.051\n",
      "lineid[T.161]            -115.6588      6.756    -17.119      0.000    -128.901    -102.417\n",
      "lineid[T.16C]            -111.9432      7.285    -15.366      0.000    -126.222     -97.664\n",
      "lineid[T.17]             -113.5332      3.411    -33.282      0.000    -120.219    -106.847\n",
      "lineid[T.17A]            -102.8330      3.324    -30.933      0.000    -109.349     -96.317\n",
      "lineid[T.18]             -109.1113      3.332    -32.746      0.000    -115.642    -102.580\n",
      "lineid[T.184]            -102.9078      3.508    -29.333      0.000    -109.784     -96.032\n",
      "lineid[T.185]             -95.0102      4.567    -20.803      0.000    -103.962     -86.059\n",
      "lineid[T.220]            -116.4632      3.889    -29.946      0.000    -124.086    -108.841\n",
      "lineid[T.236]            -101.2842      8.092    -12.517      0.000    -117.144     -85.425\n",
      "lineid[T.238]            -105.8261      5.079    -20.835      0.000    -115.781     -95.871\n",
      "lineid[T.239]             -69.7711      4.617    -15.111      0.000     -78.821     -60.722\n",
      "lineid[T.25]             -100.3246      4.024    -24.933      0.000    -108.211     -92.438\n",
      "lineid[T.25A]             -86.5176      3.528    -24.521      0.000     -93.433     -79.602\n",
      "lineid[T.25B]             -78.9941      3.502    -22.554      0.000     -85.859     -72.129\n",
      "lineid[T.25D]             -51.4669      9.094     -5.659      0.000     -69.292     -33.642\n",
      "lineid[T.25X]             -79.3772      6.917    -11.475      0.000     -92.935     -65.820\n",
      "lineid[T.26]              -93.0488      3.924    -23.710      0.000    -100.741     -85.357\n",
      "lineid[T.27]             -104.8571      3.174    -33.037      0.000    -111.078     -98.636\n",
      "lineid[T.270]             -83.4281      5.196    -16.055      0.000     -93.613     -73.243\n",
      "lineid[T.27A]            -120.2699      3.636    -33.077      0.000    -127.397    -113.143\n",
      "lineid[T.27B]            -107.3790      3.374    -31.825      0.000    -113.992    -100.766\n",
      "lineid[T.27X]             -98.0216      7.455    -13.148      0.000    -112.633     -83.410\n",
      "lineid[T.29A]            -114.3567      3.384    -33.795      0.000    -120.989    -107.724\n",
      "lineid[T.31]             -123.1060      3.448    -35.705      0.000    -129.864    -116.348\n",
      "lineid[T.31A]            -130.5087      3.887    -33.578      0.000    -138.127    -122.891\n",
      "lineid[T.31B]            -132.1854      4.993    -26.476      0.000    -141.971    -122.400\n",
      "lineid[T.31D]            -114.2191     10.924    -10.456      0.000    -135.630     -92.808\n",
      "lineid[T.32]             -124.9895      3.544    -35.267      0.000    -131.936    -118.043\n",
      "lineid[T.32X]             -47.1259      7.288     -6.466      0.000     -61.411     -32.841\n",
      "lineid[T.33]             -117.3680      3.327    -35.277      0.000    -123.889    -110.847\n",
      "lineid[T.33A]            -119.6654      4.404    -27.174      0.000    -128.297    -111.034\n",
      "lineid[T.33B]             -98.2990      4.232    -23.226      0.000    -106.594     -90.004\n",
      "lineid[T.33X]            -100.3900      5.064    -19.826      0.000    -110.315     -90.465\n",
      "lineid[T.37]             -103.5322      3.320    -31.185      0.000    -110.039     -97.025\n",
      "lineid[T.38]              -92.1734      3.444    -26.767      0.000     -98.923     -85.424\n",
      "lineid[T.38A]             -87.0490      3.602    -24.167      0.000     -94.109     -79.989\n",
      "lineid[T.38B]             -90.4567      4.968    -18.207      0.000    -100.194     -80.719\n",
      "lineid[T.38D]             -78.7635     10.923     -7.211      0.000    -100.173     -57.354\n",
      "lineid[T.39]             -103.4320      3.327    -31.089      0.000    -109.953     -96.911\n",
      "lineid[T.39A]            -100.0445      3.190    -31.361      0.000    -106.297     -93.792\n",
      "lineid[T.4]               -97.9713      3.266    -29.996      0.000    -104.373     -91.570\n",
      "lineid[T.40]             -105.4781      3.180    -33.165      0.000    -111.712     -99.245\n",
      "lineid[T.40B]             -99.4747      5.372    -18.518      0.000    -110.003     -88.946\n",
      "lineid[T.40D]            -108.6962      3.423    -31.752      0.000    -115.406    -101.987\n",
      "lineid[T.41]             -102.6029      3.306    -31.033      0.000    -109.083     -96.123\n",
      "lineid[T.41A]            -109.1736      9.942    -10.981      0.000    -128.659     -89.688\n",
      "lineid[T.41B]            -105.4821      5.283    -19.965      0.000    -115.837     -95.127\n",
      "lineid[T.41C]            -107.2943      3.333    -32.191      0.000    -113.827    -100.762\n",
      "lineid[T.41X]             -56.6769      5.854     -9.681      0.000     -68.151     -45.202\n",
      "lineid[T.42]             -116.0128      3.395    -34.173      0.000    -122.667    -109.359\n",
      "lineid[T.42D]             -84.2000     11.021     -7.640      0.000    -105.802     -62.598\n",
      "lineid[T.43]             -113.5800      3.550    -31.996      0.000    -120.538    -106.622\n",
      "lineid[T.44]             -103.4014      3.534    -29.259      0.000    -110.328     -96.475\n",
      "lineid[T.44B]            -118.6094      6.316    -18.780      0.000    -130.988    -106.231\n",
      "lineid[T.45A]            -113.0860      3.420    -33.070      0.000    -119.788    -106.384\n",
      "lineid[T.46A]             -96.0006      3.170    -30.282      0.000    -102.214     -89.787\n",
      "lineid[T.46E]             -77.3610     10.650     -7.264      0.000     -98.234     -56.487\n",
      "lineid[T.47]             -100.7486      3.742    -26.921      0.000    -108.084     -93.414\n",
      "lineid[T.49]              -98.2010      3.483    -28.193      0.000    -105.028     -91.374\n",
      "lineid[T.51D]             -86.6351      6.937    -12.489      0.000    -100.231     -73.039\n",
      "lineid[T.51X]             -84.9417     13.512     -6.287      0.000    -111.424     -58.459\n",
      "lineid[T.53]              -80.0183      5.500    -14.550      0.000     -90.797     -69.239\n",
      "lineid[T.54A]             -95.9213      3.562    -26.928      0.000    -102.903     -88.940\n",
      "lineid[T.56A]            -107.1502      3.817    -28.073      0.000    -114.631     -99.669\n",
      "lineid[T.59]             -127.9182      4.503    -28.406      0.000    -136.744    -119.092\n",
      "lineid[T.61]             -107.1335      3.807    -28.142      0.000    -114.595     -99.672\n",
      "lineid[T.63]             -103.7542      3.693    -28.092      0.000    -110.993     -96.515\n",
      "lineid[T.65]             -114.0349      3.676    -31.024      0.000    -121.239    -106.831\n",
      "lineid[T.65B]            -105.9497      3.644    -29.076      0.000    -113.092     -98.808\n",
      "lineid[T.66]              -95.7410      3.414    -28.045      0.000    -102.432     -89.050\n",
      "lineid[T.66A]            -104.6893      3.823    -27.387      0.000    -112.181     -97.197\n",
      "lineid[T.66B]            -103.9063      3.807    -27.293      0.000    -111.368     -96.445\n",
      "lineid[T.66X]             -71.3842      4.584    -15.572      0.000     -80.369     -62.399\n",
      "lineid[T.67]             -106.7557      3.360    -31.777      0.000    -113.340    -100.171\n",
      "lineid[T.67X]             -84.0396      4.280    -19.637      0.000     -92.428     -75.652\n",
      "lineid[T.68]             -119.4977      3.615    -33.059      0.000    -126.582    -112.413\n",
      "lineid[T.68A]             -98.4480      7.663    -12.846      0.000    -113.468     -83.428\n",
      "lineid[T.68X]            -101.4311     14.613     -6.941      0.000    -130.072     -72.790\n",
      "lineid[T.69]             -110.9175      3.655    -30.349      0.000    -118.081    -103.754\n",
      "lineid[T.69X]              71.2409     18.072      3.942      0.000      35.821     106.661\n",
      "lineid[T.7]               -97.3413      3.395    -28.674      0.000    -103.995     -90.688\n",
      "lineid[T.70]              -83.7956      3.568    -23.485      0.000     -90.789     -76.802\n",
      "lineid[T.70D]             -98.1052     11.023     -8.900      0.000    -119.709     -76.501\n",
      "lineid[T.75]             -114.7945      3.319    -34.587      0.000    -121.300    -108.289\n",
      "lineid[T.757]              59.7075      4.138     14.428      0.000      51.597      67.818\n",
      "lineid[T.76]              -89.9484      3.580    -25.126      0.000     -96.965     -82.932\n",
      "lineid[T.76A]             -73.2909      6.708    -10.926      0.000     -86.438     -60.143\n",
      "lineid[T.77A]            -106.2219      3.270    -32.484      0.000    -112.631     -99.813\n",
      "lineid[T.77X]             -96.2186     12.200     -7.887      0.000    -120.130     -72.307\n",
      "lineid[T.79]             -102.3218      3.759    -27.224      0.000    -109.688     -94.955\n",
      "lineid[T.79A]            -104.2307      3.748    -27.813      0.000    -111.576     -96.886\n",
      "lineid[T.7A]             -107.4154      3.362    -31.951      0.000    -114.005    -100.826\n",
      "lineid[T.7B]              -91.3321      5.095    -17.926      0.000    -101.318     -81.346\n",
      "lineid[T.7D]             -100.6425      9.545    -10.544      0.000    -119.351     -81.934\n",
      "lineid[T.83]              -99.9129      3.273    -30.523      0.000    -106.329     -93.497\n",
      "lineid[T.83A]            -103.0441      3.765    -27.372      0.000    -110.423     -95.665\n",
      "lineid[T.84]             -112.6388      3.463    -32.523      0.000    -119.427    -105.851\n",
      "lineid[T.84A]            -117.4598      4.897    -23.988      0.000    -127.057    -107.863\n",
      "lineid[T.84X]             -29.1836      4.532     -6.439      0.000     -38.067     -20.300\n",
      "lineid[T.9]              -101.7685      3.234    -31.469      0.000    -108.107     -95.430\n",
      "Precipitation[T.None]    6.193e+11   2.19e+12      0.283      0.777   -3.67e+12    4.91e+12\n",
      "Precipitation[T.Slight] -5.728e+10   2.49e+12     -0.023      0.982   -4.94e+12    4.83e+12\n",
      "==============================================================================\n",
      "Omnibus:                   343066.699   Durbin-Watson:                   1.997\n",
      "Prob(Omnibus):                  0.000   Jarque-Bera (JB):        169441324.097\n",
      "Skew:                           8.122   Prob(JB):                         0.00\n",
      "Kurtosis:                     130.961   Cond. No.                     3.72e+13\n",
      "==============================================================================\n",
      "\n",
      "Warnings:\n",
      "[1] Standard Errors assume that the covariance matrix of the errors is correctly specified.\n",
      "[2] The smallest eigenvalue is 2.84e-22. This might indicate that there are\n",
      "strong multicollinearity problems or that the design matrix is singular.\n"
     ]
    }
   ],
   "source": [
    "#Print the learning machine summary which is a bit more detailed than just the coefficients\n",
    "print(lm.summary())"
   ]
  },
  {
   "cell_type": "code",
   "execution_count": 70,
   "metadata": {},
   "outputs": [
    {
     "data": {
      "text/plain": [
       "0    67.324463\n",
       "1    52.849491\n",
       "2    57.805054\n",
       "3    66.869141\n",
       "4    74.705811\n",
       "5    48.617966\n",
       "6    85.871948\n",
       "7    60.831177\n",
       "8    72.664307\n",
       "9    80.567261\n",
       "dtype: float64"
      ]
     },
     "execution_count": 70,
     "metadata": {},
     "output_type": "execute_result"
    }
   ],
   "source": [
    "dftrain_predict = lm.predict(dftrain)\n",
    "# Print the predicted target feature value for first 100 examples in the training dataset\n",
    "dftrain_predict[:10]"
   ]
  },
  {
   "cell_type": "code",
   "execution_count": 71,
   "metadata": {},
   "outputs": [
    {
     "data": {
      "text/plain": [
       "0     18.0\n",
       "1     74.0\n",
       "2     65.0\n",
       "3     36.0\n",
       "4    169.0\n",
       "5     22.0\n",
       "6     64.0\n",
       "7     38.0\n",
       "8     14.0\n",
       "9     43.0\n",
       "Name: time_between_stops, dtype: float64"
      ]
     },
     "execution_count": 71,
     "metadata": {},
     "output_type": "execute_result"
    }
   ],
   "source": [
    "dftrain['time_between_stops'][:10]"
   ]
  },
  {
   "cell_type": "code",
   "execution_count": 72,
   "metadata": {},
   "outputs": [
    {
     "name": "stdout",
     "output_type": "stream",
     "text": [
      "MSE: 5701.53\n",
      "MAE: 40.03422651477854\n",
      "MAPE: 91.49 %.\n",
      "Accuracy: 8.51 %.\n"
     ]
    }
   ],
   "source": [
    "predictions = lm.predict(dftrain)\n",
    "errors = abs(predictions - dftrain['time_between_stops'])            # absolute errors\n",
    "mae= np.mean(abs(errors))\n",
    "ape = (errors / dftrain['time_between_stops']) * 100      # MAPE\n",
    "accuracy = abs(100 - np.mean(ape))\n",
    "\n",
    "print('MSE:', round(np.mean(errors**2), 2))  #MSE\n",
    "print('MAE:',mae)\n",
    "print('MAPE:',round(np.mean(ape),2), '%.')\n",
    "print('Accuracy:', round(accuracy, 2), '%.')"
   ]
  },
  {
   "cell_type": "code",
   "execution_count": 73,
   "metadata": {
    "collapsed": true
   },
   "outputs": [],
   "source": [
    "# Print the Mean Squared Error of the model on the training set\n",
    "# mse = ((dftrain['time_between_stops'] - lm.predict(dftrain))** 2).mean()\n",
    "# print(\"\\nMean Squared Error:\\n\", mse)"
   ]
  },
  {
   "cell_type": "code",
   "execution_count": 74,
   "metadata": {
    "collapsed": true
   },
   "outputs": [],
   "source": [
    "# Print the Mean Absolute Error of the model on the training set\n",
    "# mae = abs(dftrain['time_between_stops'] - lm.predict(dftrain)).mean()\n",
    "# print(\"\\nMean Absolute Error:\\n\", mae)"
   ]
  },
  {
   "cell_type": "code",
   "execution_count": 75,
   "metadata": {
    "collapsed": true
   },
   "outputs": [],
   "source": [
    "import numpy as np\n",
    "\n",
    "def mean_absolute_percentage_error(y_true, y_pred): \n",
    "    y_true, y_pred = np.array(y_true), np.array(y_pred)\n",
    "    return np.mean(np.abs((y_true - y_pred) / y_true)) * 100"
   ]
  },
  {
   "cell_type": "code",
   "execution_count": 76,
   "metadata": {
    "collapsed": true
   },
   "outputs": [],
   "source": [
    "# mean_absolute_percentage_error(dftrain['time_between_stops'], dftrain_predict )"
   ]
  },
  {
   "cell_type": "markdown",
   "metadata": {},
   "source": [
    "### Load in the test data and run the prediction model on it"
   ]
  },
  {
   "cell_type": "code",
   "execution_count": 77,
   "metadata": {
    "collapsed": true
   },
   "outputs": [],
   "source": [
    "# Convert the training csv file into dataframe\n",
    "dftest = pd.read_csv('../../../files/dftest.csv',keep_default_na=True, sep=',\\s+', delimiter=',', skipinitialspace=True)"
   ]
  },
  {
   "cell_type": "code",
   "execution_count": 78,
   "metadata": {
    "collapsed": true
   },
   "outputs": [],
   "source": [
    "dftest = dftest[dftest.time_between_stops >= 0.1]\n",
    "dftest.time_between_stops.fillna(dftest.time_between_stops.median(),inplace=True)\n",
    "dftest = dftest[dftest['time_between_stops']<2000]"
   ]
  },
  {
   "cell_type": "code",
   "execution_count": 79,
   "metadata": {},
   "outputs": [
    {
     "data": {
      "text/html": [
       "<div>\n",
       "<style scoped>\n",
       "    .dataframe tbody tr th:only-of-type {\n",
       "        vertical-align: middle;\n",
       "    }\n",
       "\n",
       "    .dataframe tbody tr th {\n",
       "        vertical-align: top;\n",
       "    }\n",
       "\n",
       "    .dataframe thead th {\n",
       "        text-align: right;\n",
       "    }\n",
       "</style>\n",
       "<table border=\"1\" class=\"dataframe\">\n",
       "  <thead>\n",
       "    <tr style=\"text-align: right;\">\n",
       "      <th></th>\n",
       "      <th>tripid</th>\n",
       "      <th>progrnumber</th>\n",
       "      <th>stoppointid</th>\n",
       "      <th>plannedtime_arr</th>\n",
       "      <th>plannedtime_dep</th>\n",
       "      <th>actualtime_arr</th>\n",
       "      <th>actualtime_dep</th>\n",
       "      <th>lineid</th>\n",
       "      <th>actualtime</th>\n",
       "      <th>hour</th>\n",
       "      <th>Precipitation</th>\n",
       "      <th>Temperature</th>\n",
       "      <th>Relative Humidity</th>\n",
       "      <th>time_between_stops</th>\n",
       "    </tr>\n",
       "  </thead>\n",
       "  <tbody>\n",
       "    <tr>\n",
       "      <th>106869</th>\n",
       "      <td>4340356</td>\n",
       "      <td>7</td>\n",
       "      <td>3418</td>\n",
       "      <td>68898</td>\n",
       "      <td>68898</td>\n",
       "      <td>68888</td>\n",
       "      <td>68888</td>\n",
       "      <td>151</td>\n",
       "      <td>19:08:08</td>\n",
       "      <td>19:00:00</td>\n",
       "      <td>Slight</td>\n",
       "      <td>8.6</td>\n",
       "      <td>93</td>\n",
       "      <td>77.0</td>\n",
       "    </tr>\n",
       "    <tr>\n",
       "      <th>106870</th>\n",
       "      <td>4339748</td>\n",
       "      <td>68</td>\n",
       "      <td>2966</td>\n",
       "      <td>48140</td>\n",
       "      <td>48140</td>\n",
       "      <td>48111</td>\n",
       "      <td>48203</td>\n",
       "      <td>16</td>\n",
       "      <td>13:21:51</td>\n",
       "      <td>13:00:00</td>\n",
       "      <td>Slight</td>\n",
       "      <td>6.4</td>\n",
       "      <td>80</td>\n",
       "      <td>26.0</td>\n",
       "    </tr>\n",
       "    <tr>\n",
       "      <th>106871</th>\n",
       "      <td>4330249</td>\n",
       "      <td>18</td>\n",
       "      <td>421</td>\n",
       "      <td>25819</td>\n",
       "      <td>25819</td>\n",
       "      <td>25469</td>\n",
       "      <td>25480</td>\n",
       "      <td>7</td>\n",
       "      <td>07:04:29</td>\n",
       "      <td>07:00:00</td>\n",
       "      <td>None</td>\n",
       "      <td>5.9</td>\n",
       "      <td>72</td>\n",
       "      <td>42.0</td>\n",
       "    </tr>\n",
       "    <tr>\n",
       "      <th>106872</th>\n",
       "      <td>4338084</td>\n",
       "      <td>13</td>\n",
       "      <td>2721</td>\n",
       "      <td>85379</td>\n",
       "      <td>85379</td>\n",
       "      <td>85131</td>\n",
       "      <td>85131</td>\n",
       "      <td>25A</td>\n",
       "      <td>23:38:51</td>\n",
       "      <td>23:00:00</td>\n",
       "      <td>Moderate</td>\n",
       "      <td>7.4</td>\n",
       "      <td>95</td>\n",
       "      <td>76.0</td>\n",
       "    </tr>\n",
       "    <tr>\n",
       "      <th>106873</th>\n",
       "      <td>4332277</td>\n",
       "      <td>46</td>\n",
       "      <td>2019</td>\n",
       "      <td>71587</td>\n",
       "      <td>71587</td>\n",
       "      <td>71908</td>\n",
       "      <td>71908</td>\n",
       "      <td>46A</td>\n",
       "      <td>19:58:28</td>\n",
       "      <td>19:00:00</td>\n",
       "      <td>Slight</td>\n",
       "      <td>8.6</td>\n",
       "      <td>93</td>\n",
       "      <td>17.0</td>\n",
       "    </tr>\n",
       "  </tbody>\n",
       "</table>\n",
       "</div>"
      ],
      "text/plain": [
       "         tripid  progrnumber  stoppointid  plannedtime_arr  plannedtime_dep  \\\n",
       "106869  4340356            7         3418            68898            68898   \n",
       "106870  4339748           68         2966            48140            48140   \n",
       "106871  4330249           18          421            25819            25819   \n",
       "106872  4338084           13         2721            85379            85379   \n",
       "106873  4332277           46         2019            71587            71587   \n",
       "\n",
       "        actualtime_arr  actualtime_dep lineid actualtime      hour  \\\n",
       "106869           68888           68888    151   19:08:08  19:00:00   \n",
       "106870           48111           48203     16   13:21:51  13:00:00   \n",
       "106871           25469           25480      7   07:04:29  07:00:00   \n",
       "106872           85131           85131    25A   23:38:51  23:00:00   \n",
       "106873           71908           71908    46A   19:58:28  19:00:00   \n",
       "\n",
       "       Precipitation  Temperature  Relative Humidity  time_between_stops  \n",
       "106869        Slight          8.6                 93                77.0  \n",
       "106870        Slight          6.4                 80                26.0  \n",
       "106871          None          5.9                 72                42.0  \n",
       "106872      Moderate          7.4                 95                76.0  \n",
       "106873        Slight          8.6                 93                17.0  "
      ]
     },
     "execution_count": 79,
     "metadata": {},
     "output_type": "execute_result"
    }
   ],
   "source": [
    "#dftest = dftest.dropna()\n",
    "dftest.tail()"
   ]
  },
  {
   "cell_type": "code",
   "execution_count": 80,
   "metadata": {},
   "outputs": [
    {
     "data": {
      "text/plain": [
       "(104688, 14)"
      ]
     },
     "execution_count": 80,
     "metadata": {},
     "output_type": "execute_result"
    }
   ],
   "source": [
    "dftest = dftest[dftest.hour != '01:00:00']\n",
    "dftest.shape"
   ]
  },
  {
   "cell_type": "code",
   "execution_count": 81,
   "metadata": {},
   "outputs": [
    {
     "data": {
      "text/plain": [
       "0     67.500122\n",
       "1     65.255737\n",
       "2     64.473633\n",
       "3    105.183594\n",
       "4     93.909668\n",
       "5     71.961548\n",
       "6     81.252441\n",
       "7     97.190796\n",
       "8     56.902466\n",
       "9     68.292480\n",
       "dtype: float64"
      ]
     },
     "execution_count": 81,
     "metadata": {},
     "output_type": "execute_result"
    }
   ],
   "source": [
    "predict = lm.predict(dftest)\n",
    "predict.head(10)"
   ]
  },
  {
   "cell_type": "code",
   "execution_count": 82,
   "metadata": {},
   "outputs": [
    {
     "data": {
      "text/plain": [
       "0    134.0\n",
       "1     46.0\n",
       "2     38.0\n",
       "3     36.0\n",
       "4     24.0\n",
       "5    104.0\n",
       "6    106.0\n",
       "7    129.0\n",
       "8     80.0\n",
       "9     36.0\n",
       "Name: time_between_stops, dtype: float64"
      ]
     },
     "execution_count": 82,
     "metadata": {},
     "output_type": "execute_result"
    }
   ],
   "source": [
    "dftest['time_between_stops'][:10]"
   ]
  },
  {
   "cell_type": "code",
   "execution_count": 83,
   "metadata": {},
   "outputs": [
    {
     "name": "stdout",
     "output_type": "stream",
     "text": [
      "MSE: 5609.74\n",
      "MAE: 40.11631491861155\n",
      "MAPE: 91.0 %.\n",
      "Accuracy: 9.0 %.\n"
     ]
    }
   ],
   "source": [
    "predictions = lm.predict(dftest)\n",
    "errors = abs(predictions - dftest['time_between_stops'])            # absolute errors\n",
    "mae= np.mean(abs(errors))\n",
    "ape = (errors / dftest['time_between_stops']) * 100      # MAPE\n",
    "accuracy = abs(100 - np.mean(ape))\n",
    "\n",
    "print('MSE:', round(np.mean(errors**2), 2))  #MSE\n",
    "print('MAE:',mae)\n",
    "print('MAPE:',round(np.mean(ape),2), '%.')\n",
    "print('Accuracy:', round(accuracy, 2), '%.')"
   ]
  },
  {
   "cell_type": "code",
   "execution_count": 84,
   "metadata": {
    "collapsed": true
   },
   "outputs": [],
   "source": [
    "# # Print the Mean Squared Error of the model on the test set\n",
    "# mse = ((dftest['time_between_stops'] - lm.predict(dftest))** 2).mean()\n",
    "# print(\"\\nMean Squared Error:\\n\", mse)"
   ]
  },
  {
   "cell_type": "code",
   "execution_count": 85,
   "metadata": {
    "collapsed": true
   },
   "outputs": [],
   "source": [
    "# # Print the Mean Absolute Error of the model on the test set\n",
    "# mae = abs(dftest['time_between_stops'] - lm.predict(dftest)).mean()\n",
    "# print(\"\\nMean Absolute Error:\\n\", mae)"
   ]
  },
  {
   "cell_type": "code",
   "execution_count": 86,
   "metadata": {
    "collapsed": true
   },
   "outputs": [],
   "source": [
    "# mean_absolute_percentage_error(dftest['time_between_stops'],predict)"
   ]
  },
  {
   "cell_type": "markdown",
   "metadata": {},
   "source": [
    "### Cross-validation "
   ]
  },
  {
   "cell_type": "code",
   "execution_count": 87,
   "metadata": {
    "collapsed": true
   },
   "outputs": [],
   "source": [
    "#Split the dataset into 5 datasets for a 5-fold cross-validation\n",
    "\n",
    "CV1 = np.array_split(shuffle(df_6thFeb), 5, axis=0)\n",
    "test1 = CV1[0]\n",
    "test2 = CV1[1]\n",
    "test3 = CV1[2]\n",
    "test4 = CV1[3]\n",
    "test5 = CV1[4]\n",
    "\n",
    "train1 = pd.concat([CV1[1],CV1[2],CV1[3],CV1[4]], axis=0, join='outer', join_axes=None, ignore_index=False,\n",
    "          keys=None, levels=None, names=None, verify_integrity=False,\n",
    "          copy=True)\n",
    "train2 = pd.concat([CV1[0],CV1[2],CV1[3],CV1[4]], axis=0, join='outer', join_axes=None, ignore_index=False,\n",
    "          keys=None, levels=None, names=None, verify_integrity=False,\n",
    "          copy=True)\n",
    "train3 = pd.concat([CV1[1],CV1[0],CV1[3],CV1[4]], axis=0, join='outer', join_axes=None, ignore_index=False,\n",
    "          keys=None, levels=None, names=None, verify_integrity=False,\n",
    "          copy=True)\n",
    "train4 = pd.concat([CV1[1],CV1[2],CV1[0],CV1[4]], axis=0, join='outer', join_axes=None, ignore_index=False,\n",
    "          keys=None, levels=None, names=None, verify_integrity=False,\n",
    "          copy=True)\n",
    "train5 = pd.concat([CV1[1],CV1[2],CV1[3],CV1[0]], axis=0, join='outer', join_axes=None, ignore_index=False,\n",
    "          keys=None, levels=None, names=None, verify_integrity=False,\n",
    "          copy=True)"
   ]
  },
  {
   "cell_type": "code",
   "execution_count": 88,
   "metadata": {},
   "outputs": [
    {
     "name": "stderr",
     "output_type": "stream",
     "text": [
      "/home/student/miniconda3/envs/BigData/lib/python3.6/site-packages/pandas/core/generic.py:5430: SettingWithCopyWarning: \n",
      "A value is trying to be set on a copy of a slice from a DataFrame\n",
      "\n",
      "See the caveats in the documentation: http://pandas.pydata.org/pandas-docs/stable/indexing.html#indexing-view-versus-copy\n",
      "  self._update_inplace(new_data)\n"
     ]
    },
    {
     "name": "stdout",
     "output_type": "stream",
     "text": [
      "CV 1 Classification Measurements:\n",
      "\n",
      "\n",
      "Mean Squared Error:\n",
      " 7514.0070980611035\n",
      "\n",
      "Mean Absolute Error:\n",
      " 40.41981840931939 \n",
      "\n"
     ]
    },
    {
     "ename": "MemoryError",
     "evalue": "",
     "output_type": "error",
     "traceback": [
      "\u001b[0;31m---------------------------------------------------------------------------\u001b[0m",
      "\u001b[0;31mMemoryError\u001b[0m                               Traceback (most recent call last)",
      "\u001b[0;32m<ipython-input-88-c23bf34a4d24>\u001b[0m in \u001b[0;36m<module>\u001b[0;34m()\u001b[0m\n\u001b[1;32m     17\u001b[0m     \u001b[0mtrainCV\u001b[0m \u001b[0;34m=\u001b[0m \u001b[0mtrainCV\u001b[0m\u001b[0;34m[\u001b[0m\u001b[0mtrainCV\u001b[0m\u001b[0;34m[\u001b[0m\u001b[0;34m'time_between_stops'\u001b[0m\u001b[0;34m]\u001b[0m\u001b[0;34m<\u001b[0m\u001b[0;36m2000\u001b[0m\u001b[0;34m]\u001b[0m\u001b[0;34m\u001b[0m\u001b[0m\n\u001b[1;32m     18\u001b[0m \u001b[0;34m\u001b[0m\u001b[0m\n\u001b[0;32m---> 19\u001b[0;31m     \u001b[0mlmCV\u001b[0m \u001b[0;34m=\u001b[0m \u001b[0msm\u001b[0m\u001b[0;34m.\u001b[0m\u001b[0mols\u001b[0m\u001b[0;34m(\u001b[0m\u001b[0mformula\u001b[0m\u001b[0;34m=\u001b[0m\u001b[0;34m\"time_between_stops ~ hour + lineid + Precipitation\"\u001b[0m\u001b[0;34m,\u001b[0m \u001b[0mdata\u001b[0m\u001b[0;34m=\u001b[0m\u001b[0mtrainCV\u001b[0m\u001b[0;34m)\u001b[0m\u001b[0;34m.\u001b[0m\u001b[0mfit\u001b[0m\u001b[0;34m(\u001b[0m\u001b[0;34m)\u001b[0m\u001b[0;34m\u001b[0m\u001b[0m\n\u001b[0m\u001b[1;32m     20\u001b[0m     \u001b[0mtest_predict\u001b[0m \u001b[0;34m=\u001b[0m \u001b[0mlmCV\u001b[0m\u001b[0;34m.\u001b[0m\u001b[0mpredict\u001b[0m\u001b[0;34m(\u001b[0m\u001b[0mtestCV\u001b[0m\u001b[0;34m)\u001b[0m\u001b[0;34m\u001b[0m\u001b[0m\n\u001b[1;32m     21\u001b[0m \u001b[0;34m\u001b[0m\u001b[0m\n",
      "\u001b[0;32m~/miniconda3/envs/BigData/lib/python3.6/site-packages/statsmodels/regression/linear_model.py\u001b[0m in \u001b[0;36mfit\u001b[0;34m(self, method, cov_type, cov_kwds, use_t, **kwargs)\u001b[0m\n\u001b[1;32m    271\u001b[0m                     hasattr(self, 'rank')):\n\u001b[1;32m    272\u001b[0m \u001b[0;34m\u001b[0m\u001b[0m\n\u001b[0;32m--> 273\u001b[0;31m                 \u001b[0mself\u001b[0m\u001b[0;34m.\u001b[0m\u001b[0mpinv_wexog\u001b[0m\u001b[0;34m,\u001b[0m \u001b[0msingular_values\u001b[0m \u001b[0;34m=\u001b[0m \u001b[0mpinv_extended\u001b[0m\u001b[0;34m(\u001b[0m\u001b[0mself\u001b[0m\u001b[0;34m.\u001b[0m\u001b[0mwexog\u001b[0m\u001b[0;34m)\u001b[0m\u001b[0;34m\u001b[0m\u001b[0m\n\u001b[0m\u001b[1;32m    274\u001b[0m                 self.normalized_cov_params = np.dot(\n\u001b[1;32m    275\u001b[0m                     self.pinv_wexog, np.transpose(self.pinv_wexog))\n",
      "\u001b[0;32m~/miniconda3/envs/BigData/lib/python3.6/site-packages/statsmodels/tools/tools.py\u001b[0m in \u001b[0;36mpinv_extended\u001b[0;34m(X, rcond)\u001b[0m\n\u001b[1;32m    351\u001b[0m             \u001b[0ms\u001b[0m\u001b[0;34m[\u001b[0m\u001b[0mi\u001b[0m\u001b[0;34m]\u001b[0m \u001b[0;34m=\u001b[0m \u001b[0;36m0.\u001b[0m\u001b[0;34m\u001b[0m\u001b[0m\n\u001b[1;32m    352\u001b[0m     res = np.dot(np.transpose(vt), np.multiply(s[:, np.core.newaxis],\n\u001b[0;32m--> 353\u001b[0;31m                                                np.transpose(u)))\n\u001b[0m\u001b[1;32m    354\u001b[0m     \u001b[0;32mreturn\u001b[0m \u001b[0mres\u001b[0m\u001b[0;34m,\u001b[0m \u001b[0ms_orig\u001b[0m\u001b[0;34m\u001b[0m\u001b[0m\n\u001b[1;32m    355\u001b[0m \u001b[0;34m\u001b[0m\u001b[0m\n",
      "\u001b[0;31mMemoryError\u001b[0m: "
     ]
    }
   ],
   "source": [
    "#Set up two lists containing each training and each test set\n",
    "train_list = [train1, train2, train3, train4, train5]\n",
    "test_list = [test1, test2, test3, test4, test5]\n",
    "\n",
    "#Iterate through each list and make a new learning machine for each training set and then out\n",
    "#it to predict the results for the associated test set and print out the classification measures\n",
    "for i in range (0,5):\n",
    "    trainCV = train_list[i]\n",
    "    testCV = test_list[i]\n",
    "            \n",
    "    testCV = testCV[testCV.time_between_stops >= 0.1]\n",
    "    testCV.time_between_stops.fillna(testCV.time_between_stops.median(),inplace=True)\n",
    "    testCV = testCV[testCV['time_between_stops']<2000]\n",
    "    \n",
    "    trainCV = trainCV[trainCV.time_between_stops >= 0.1]\n",
    "    trainCV.time_between_stops.fillna(trainCV.time_between_stops.median(),inplace=True)\n",
    "    trainCV = trainCV[trainCV['time_between_stops']<2000]\n",
    "    \n",
    "    lmCV = sm.ols(formula=\"time_between_stops ~ hour + lineid + Precipitation\", data=trainCV).fit()\n",
    "    test_predict = lmCV.predict(testCV)\n",
    "    \n",
    "    print(\"CV\", i+1, \"Classification Measurements:\\n\")\n",
    "    mse = ((testCV['time_between_stops'] - lmCV.predict(testCV))** 2).mean()\n",
    "    print(\"\\nMean Squared Error:\\n\", mse)\n",
    "    mae = abs((testCV['time_between_stops'] - lmCV.predict(testCV))).mean()\n",
    "    print(\"\\nMean Absolute Error:\\n\", mae, \"\\n\")"
   ]
  },
  {
   "cell_type": "code",
   "execution_count": null,
   "metadata": {
    "collapsed": true
   },
   "outputs": [],
   "source": []
  }
 ],
 "metadata": {
  "kernelspec": {
   "display_name": "Python 3",
   "language": "python",
   "name": "python3"
  },
  "language_info": {
   "codemirror_mode": {
    "name": "ipython",
    "version": 3
   },
   "file_extension": ".py",
   "mimetype": "text/x-python",
   "name": "python",
   "nbconvert_exporter": "python",
   "pygments_lexer": "ipython3",
   "version": "3.6.3"
  }
 },
 "nbformat": 4,
 "nbformat_minor": 2
}
