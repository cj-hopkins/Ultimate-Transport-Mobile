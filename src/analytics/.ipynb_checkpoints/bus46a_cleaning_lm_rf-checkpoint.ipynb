{
 "cells": [
  {
   "cell_type": "code",
   "execution_count": 1,
   "metadata": {
    "scrolled": true
   },
   "outputs": [
    {
     "name": "stderr",
     "output_type": "stream",
     "text": [
      "/home/orla/anaconda3/envs/comp47350py36/lib/python3.6/site-packages/sklearn/cross_validation.py:41: DeprecationWarning: This module was deprecated in version 0.18 in favor of the model_selection module into which all the refactored classes and functions are moved. Also note that the interface of the new CV iterators are different from that of this module. This module will be removed in 0.20.\n",
      "  \"This module will be removed in 0.20.\", DeprecationWarning)\n"
     ]
    }
   ],
   "source": [
    "import pandas as pd\n",
    "import numpy as np \n",
    "import matplotlib.pyplot as plt\n",
    "import matplotlib.patches as mpatches\n",
    "import datetime\n",
    "from sklearn import metrics\n",
    "import statsmodels.formula.api as sm\n",
    "# from sklearn.cross_validation import cross_val_score #get deprecation warning \n",
    "from sklearn.linear_model import LogisticRegression\n",
    "from sklearn.linear_model import LinearRegression\n",
    "from sklearn.ensemble import RandomForestRegressor\n",
    "from sklearn.utils import check_array\n",
    "from sklearn.cross_validation import cross_val_score\n",
    "%matplotlib inline\n",
    "df = pd.read_csv('june_bus46A.csv',sep =',', header=None)  \n",
    "df_weather = pd.read_csv('relevant_weather.csv',sep=',')"
   ]
  },
  {
   "cell_type": "markdown",
   "metadata": {},
   "source": [
    "\n",
    "\n",
    "### Weather Data"
   ]
  },
  {
   "cell_type": "code",
   "execution_count": 2,
   "metadata": {},
   "outputs": [
    {
     "data": {
      "text/html": [
       "<div>\n",
       "<style scoped>\n",
       "    .dataframe tbody tr th:only-of-type {\n",
       "        vertical-align: middle;\n",
       "    }\n",
       "\n",
       "    .dataframe tbody tr th {\n",
       "        vertical-align: top;\n",
       "    }\n",
       "\n",
       "    .dataframe thead th {\n",
       "        text-align: right;\n",
       "    }\n",
       "</style>\n",
       "<table border=\"1\" class=\"dataframe\">\n",
       "  <thead>\n",
       "    <tr style=\"text-align: right;\">\n",
       "      <th></th>\n",
       "      <th>Unnamed: 0</th>\n",
       "      <th>date</th>\n",
       "      <th>ind</th>\n",
       "      <th>rain</th>\n",
       "      <th>ind.1</th>\n",
       "      <th>temp</th>\n",
       "      <th>ind.2</th>\n",
       "      <th>wetb</th>\n",
       "      <th>dewpt</th>\n",
       "      <th>vappr</th>\n",
       "      <th>rhum</th>\n",
       "      <th>msl</th>\n",
       "    </tr>\n",
       "  </thead>\n",
       "  <tbody>\n",
       "    <tr>\n",
       "      <th>0</th>\n",
       "      <td>73487</td>\n",
       "      <td>2016-01-01 00:00:00</td>\n",
       "      <td>0</td>\n",
       "      <td>0</td>\n",
       "      <td>0</td>\n",
       "      <td>1.2</td>\n",
       "      <td>0</td>\n",
       "      <td>0.7</td>\n",
       "      <td>-0.2</td>\n",
       "      <td>6.0</td>\n",
       "      <td>90</td>\n",
       "      <td>1016.2</td>\n",
       "    </tr>\n",
       "    <tr>\n",
       "      <th>1</th>\n",
       "      <td>73488</td>\n",
       "      <td>2016-01-01 01:00:00</td>\n",
       "      <td>0</td>\n",
       "      <td>0</td>\n",
       "      <td>0</td>\n",
       "      <td>1.5</td>\n",
       "      <td>0</td>\n",
       "      <td>0.8</td>\n",
       "      <td>-0.7</td>\n",
       "      <td>5.8</td>\n",
       "      <td>85</td>\n",
       "      <td>1016.2</td>\n",
       "    </tr>\n",
       "  </tbody>\n",
       "</table>\n",
       "</div>"
      ],
      "text/plain": [
       "   Unnamed: 0                 date  ind rain  ind.1  temp  ind.2  wetb  dewpt  \\\n",
       "0       73487  2016-01-01 00:00:00    0    0      0   1.2      0   0.7   -0.2   \n",
       "1       73488  2016-01-01 01:00:00    0    0      0   1.5      0   0.8   -0.7   \n",
       "\n",
       "   vappr  rhum     msl  \n",
       "0    6.0    90  1016.2  \n",
       "1    5.8    85  1016.2  "
      ]
     },
     "execution_count": 2,
     "metadata": {},
     "output_type": "execute_result"
    }
   ],
   "source": [
    "df_weather.head(2)"
   ]
  },
  {
   "cell_type": "markdown",
   "metadata": {},
   "source": [
    "### Rename columns of weather\n",
    "(to something more meaningful) "
   ]
  },
  {
   "cell_type": "code",
   "execution_count": 3,
   "metadata": {
    "collapsed": true
   },
   "outputs": [],
   "source": [
    "df_weather.columns =['ID','date_and_time','Ind_Rain','rain','Ind_Air_Temp','air_temp','Ind_WetB_Temp','Wet_Bulb_Temp','Dew_Point','Vapour_Pressure','rel_humidity','Mean_Sea_Level']"
   ]
  },
  {
   "cell_type": "code",
   "execution_count": 4,
   "metadata": {},
   "outputs": [
    {
     "data": {
      "text/plain": [
       "ID                   int64\n",
       "date_and_time       object\n",
       "Ind_Rain             int64\n",
       "rain                object\n",
       "Ind_Air_Temp         int64\n",
       "air_temp           float64\n",
       "Ind_WetB_Temp        int64\n",
       "Wet_Bulb_Temp      float64\n",
       "Dew_Point          float64\n",
       "Vapour_Pressure    float64\n",
       "rel_humidity         int64\n",
       "Mean_Sea_Level     float64\n",
       "dtype: object"
      ]
     },
     "execution_count": 4,
     "metadata": {},
     "output_type": "execute_result"
    }
   ],
   "source": [
    "df_weather.dtypes"
   ]
  },
  {
   "cell_type": "markdown",
   "metadata": {},
   "source": [
    "### Drop unnecessary columns from weather\n"
   ]
  },
  {
   "cell_type": "code",
   "execution_count": 5,
   "metadata": {
    "collapsed": true
   },
   "outputs": [],
   "source": [
    "df_weather = df_weather.drop('Ind_Rain',1)\n",
    "df_weather = df_weather.drop('Ind_Air_Temp',1)\n",
    "df_weather = df_weather.drop('Ind_WetB_Temp',1)"
   ]
  },
  {
   "cell_type": "code",
   "execution_count": 6,
   "metadata": {
    "collapsed": true
   },
   "outputs": [],
   "source": [
    "df_weather['date_and_time']= pd.to_datetime(df_weather['date_and_time'] )"
   ]
  },
  {
   "cell_type": "markdown",
   "metadata": {},
   "source": [
    "### Rain is a quantitative value - yet it is of type object - need to change it to a numeric type"
   ]
  },
  {
   "cell_type": "code",
   "execution_count": 7,
   "metadata": {
    "collapsed": true
   },
   "outputs": [],
   "source": [
    "df_weather.rain =df_weather.rain.astype('category')"
   ]
  },
  {
   "cell_type": "code",
   "execution_count": 8,
   "metadata": {},
   "outputs": [
    {
     "data": {
      "text/plain": [
       "count     17545\n",
       "unique       62\n",
       "top           0\n",
       "freq      15266\n",
       "Name: rain, dtype: object"
      ]
     },
     "execution_count": 8,
     "metadata": {},
     "output_type": "execute_result"
    }
   ],
   "source": [
    "df_weather.rain.describe()"
   ]
  },
  {
   "cell_type": "markdown",
   "metadata": {},
   "source": [
    "### Code (commented out) below shows that ' ' is a unique value"
   ]
  },
  {
   "cell_type": "code",
   "execution_count": 9,
   "metadata": {
    "collapsed": true
   },
   "outputs": [],
   "source": [
    "# sorted(pd.unique(df_weather.rain.ravel()))"
   ]
  },
  {
   "cell_type": "markdown",
   "metadata": {},
   "source": [
    "### Locate the rows with no recording for rain\n",
    "( as otherwise you can't use pd.to_numeric() )"
   ]
  },
  {
   "cell_type": "code",
   "execution_count": 10,
   "metadata": {},
   "outputs": [
    {
     "data": {
      "text/html": [
       "<div>\n",
       "<style scoped>\n",
       "    .dataframe tbody tr th:only-of-type {\n",
       "        vertical-align: middle;\n",
       "    }\n",
       "\n",
       "    .dataframe tbody tr th {\n",
       "        vertical-align: top;\n",
       "    }\n",
       "\n",
       "    .dataframe thead th {\n",
       "        text-align: right;\n",
       "    }\n",
       "</style>\n",
       "<table border=\"1\" class=\"dataframe\">\n",
       "  <thead>\n",
       "    <tr style=\"text-align: right;\">\n",
       "      <th></th>\n",
       "      <th>ID</th>\n",
       "      <th>date_and_time</th>\n",
       "      <th>rain</th>\n",
       "      <th>air_temp</th>\n",
       "      <th>Wet_Bulb_Temp</th>\n",
       "      <th>Dew_Point</th>\n",
       "      <th>Vapour_Pressure</th>\n",
       "      <th>rel_humidity</th>\n",
       "      <th>Mean_Sea_Level</th>\n",
       "    </tr>\n",
       "  </thead>\n",
       "  <tbody>\n",
       "    <tr>\n",
       "      <th>11194</th>\n",
       "      <td>84681</td>\n",
       "      <td>2017-04-11 10:00:00</td>\n",
       "      <td></td>\n",
       "      <td>11.0</td>\n",
       "      <td>8.4</td>\n",
       "      <td>5.3</td>\n",
       "      <td>8.9</td>\n",
       "      <td>68</td>\n",
       "      <td>1028.8</td>\n",
       "    </tr>\n",
       "    <tr>\n",
       "      <th>11195</th>\n",
       "      <td>84682</td>\n",
       "      <td>2017-04-11 11:00:00</td>\n",
       "      <td></td>\n",
       "      <td>10.7</td>\n",
       "      <td>7.9</td>\n",
       "      <td>4.6</td>\n",
       "      <td>8.5</td>\n",
       "      <td>65</td>\n",
       "      <td>1028.7</td>\n",
       "    </tr>\n",
       "  </tbody>\n",
       "</table>\n",
       "</div>"
      ],
      "text/plain": [
       "          ID       date_and_time rain  air_temp  Wet_Bulb_Temp  Dew_Point  \\\n",
       "11194  84681 2017-04-11 10:00:00           11.0            8.4        5.3   \n",
       "11195  84682 2017-04-11 11:00:00           10.7            7.9        4.6   \n",
       "\n",
       "       Vapour_Pressure  rel_humidity  Mean_Sea_Level  \n",
       "11194              8.9            68          1028.8  \n",
       "11195              8.5            65          1028.7  "
      ]
     },
     "execution_count": 10,
     "metadata": {},
     "output_type": "execute_result"
    }
   ],
   "source": [
    "df_weather.loc[df_weather['rain']==' ']"
   ]
  },
  {
   "cell_type": "markdown",
   "metadata": {},
   "source": [
    "### Replace missing values with 0 and convert to numeric type"
   ]
  },
  {
   "cell_type": "code",
   "execution_count": 11,
   "metadata": {
    "collapsed": true
   },
   "outputs": [],
   "source": [
    "df_weather.rain = df_weather.rain.replace(' ', '0')\n",
    "df_weather.rain =pd.to_numeric(df_weather.rain)"
   ]
  },
  {
   "cell_type": "markdown",
   "metadata": {},
   "source": [
    "### Extract only the columns we require from weather"
   ]
  },
  {
   "cell_type": "code",
   "execution_count": 12,
   "metadata": {},
   "outputs": [
    {
     "data": {
      "text/html": [
       "<div>\n",
       "<style scoped>\n",
       "    .dataframe tbody tr th:only-of-type {\n",
       "        vertical-align: middle;\n",
       "    }\n",
       "\n",
       "    .dataframe tbody tr th {\n",
       "        vertical-align: top;\n",
       "    }\n",
       "\n",
       "    .dataframe thead th {\n",
       "        text-align: right;\n",
       "    }\n",
       "</style>\n",
       "<table border=\"1\" class=\"dataframe\">\n",
       "  <thead>\n",
       "    <tr style=\"text-align: right;\">\n",
       "      <th></th>\n",
       "      <th>date_and_time</th>\n",
       "      <th>rain</th>\n",
       "      <th>air_temp</th>\n",
       "      <th>rel_humidity</th>\n",
       "    </tr>\n",
       "  </thead>\n",
       "  <tbody>\n",
       "    <tr>\n",
       "      <th>0</th>\n",
       "      <td>2016-01-01 00:00:00</td>\n",
       "      <td>0.0</td>\n",
       "      <td>1.2</td>\n",
       "      <td>90</td>\n",
       "    </tr>\n",
       "    <tr>\n",
       "      <th>1</th>\n",
       "      <td>2016-01-01 01:00:00</td>\n",
       "      <td>0.0</td>\n",
       "      <td>1.5</td>\n",
       "      <td>85</td>\n",
       "    </tr>\n",
       "    <tr>\n",
       "      <th>2</th>\n",
       "      <td>2016-01-01 02:00:00</td>\n",
       "      <td>0.0</td>\n",
       "      <td>-0.2</td>\n",
       "      <td>92</td>\n",
       "    </tr>\n",
       "  </tbody>\n",
       "</table>\n",
       "</div>"
      ],
      "text/plain": [
       "        date_and_time  rain  air_temp  rel_humidity\n",
       "0 2016-01-01 00:00:00   0.0       1.2            90\n",
       "1 2016-01-01 01:00:00   0.0       1.5            85\n",
       "2 2016-01-01 02:00:00   0.0      -0.2            92"
      ]
     },
     "execution_count": 12,
     "metadata": {},
     "output_type": "execute_result"
    }
   ],
   "source": [
    "df_weather_small = df_weather [['date_and_time','rain','air_temp','rel_humidity']]\n",
    "df_weather_small.head(3)"
   ]
  },
  {
   "cell_type": "markdown",
   "metadata": {},
   "source": [
    "### 46a for 1 month Dublin Bus Data \n",
    "#### Number of rows and columns"
   ]
  },
  {
   "cell_type": "code",
   "execution_count": 13,
   "metadata": {},
   "outputs": [
    {
     "data": {
      "text/plain": [
       "(149439, 12)"
      ]
     },
     "execution_count": 13,
     "metadata": {},
     "output_type": "execute_result"
    }
   ],
   "source": [
    "df.shape"
   ]
  },
  {
   "cell_type": "code",
   "execution_count": 14,
   "metadata": {},
   "outputs": [
    {
     "data": {
      "text/html": [
       "<div>\n",
       "<style scoped>\n",
       "    .dataframe tbody tr th:only-of-type {\n",
       "        vertical-align: middle;\n",
       "    }\n",
       "\n",
       "    .dataframe tbody tr th {\n",
       "        vertical-align: top;\n",
       "    }\n",
       "\n",
       "    .dataframe thead th {\n",
       "        text-align: right;\n",
       "    }\n",
       "</style>\n",
       "<table border=\"1\" class=\"dataframe\">\n",
       "  <thead>\n",
       "    <tr style=\"text-align: right;\">\n",
       "      <th></th>\n",
       "      <th>0</th>\n",
       "      <th>1</th>\n",
       "      <th>2</th>\n",
       "      <th>3</th>\n",
       "      <th>4</th>\n",
       "      <th>5</th>\n",
       "      <th>6</th>\n",
       "      <th>7</th>\n",
       "      <th>8</th>\n",
       "      <th>9</th>\n",
       "      <th>10</th>\n",
       "      <th>11</th>\n",
       "    </tr>\n",
       "  </thead>\n",
       "  <tbody>\n",
       "    <tr>\n",
       "      <th>149437</th>\n",
       "      <td>DB</td>\n",
       "      <td>30-JUN-17 00:00:00</td>\n",
       "      <td>5116056</td>\n",
       "      <td>30</td>\n",
       "      <td>7586</td>\n",
       "      <td>31957</td>\n",
       "      <td>31957</td>\n",
       "      <td>32147</td>\n",
       "      <td>32172</td>\n",
       "      <td>1000233</td>\n",
       "      <td>07-JUL-17 16:06:49</td>\n",
       "      <td>NaN</td>\n",
       "    </tr>\n",
       "    <tr>\n",
       "      <th>149438</th>\n",
       "      <td>DB</td>\n",
       "      <td>30-JUN-17 00:00:00</td>\n",
       "      <td>5116056</td>\n",
       "      <td>31</td>\n",
       "      <td>7587</td>\n",
       "      <td>32184</td>\n",
       "      <td>32184</td>\n",
       "      <td>32269</td>\n",
       "      <td>32288</td>\n",
       "      <td>1000233</td>\n",
       "      <td>07-JUL-17 16:06:49</td>\n",
       "      <td>NaN</td>\n",
       "    </tr>\n",
       "  </tbody>\n",
       "</table>\n",
       "</div>"
      ],
      "text/plain": [
       "        0                   1        2   3     4      5      6      7      8   \\\n",
       "149437  DB  30-JUN-17 00:00:00  5116056  30  7586  31957  31957  32147  32172   \n",
       "149438  DB  30-JUN-17 00:00:00  5116056  31  7587  32184  32184  32269  32288   \n",
       "\n",
       "             9                   10  11  \n",
       "149437  1000233  07-JUL-17 16:06:49 NaN  \n",
       "149438  1000233  07-JUL-17 16:06:49 NaN  "
      ]
     },
     "execution_count": 14,
     "metadata": {},
     "output_type": "execute_result"
    }
   ],
   "source": [
    "df.tail(2)"
   ]
  },
  {
   "cell_type": "markdown",
   "metadata": {},
   "source": [
    "### Add titles to the bus dataframe"
   ]
  },
  {
   "cell_type": "code",
   "execution_count": 15,
   "metadata": {
    "collapsed": true
   },
   "outputs": [],
   "source": [
    "col_names = ['datasource','dayofservice','tripid','progrnumber','stoppointid' ,'plannedtime_arr' ,\n",
    "                    'plannedtime_dep' ,'actualtime_arr' ,'actualtime_dep' ,'vehicleid' ,'lastupdate' ,'note' ]\n",
    "df.columns = col_names"
   ]
  },
  {
   "cell_type": "markdown",
   "metadata": {},
   "source": [
    "### Check for duplicates "
   ]
  },
  {
   "cell_type": "code",
   "execution_count": 16,
   "metadata": {},
   "outputs": [
    {
     "data": {
      "text/html": [
       "<div>\n",
       "<style scoped>\n",
       "    .dataframe tbody tr th:only-of-type {\n",
       "        vertical-align: middle;\n",
       "    }\n",
       "\n",
       "    .dataframe tbody tr th {\n",
       "        vertical-align: top;\n",
       "    }\n",
       "\n",
       "    .dataframe thead th {\n",
       "        text-align: right;\n",
       "    }\n",
       "</style>\n",
       "<table border=\"1\" class=\"dataframe\">\n",
       "  <thead>\n",
       "    <tr style=\"text-align: right;\">\n",
       "      <th></th>\n",
       "      <th>datasource</th>\n",
       "      <th>dayofservice</th>\n",
       "      <th>tripid</th>\n",
       "      <th>progrnumber</th>\n",
       "      <th>stoppointid</th>\n",
       "      <th>plannedtime_arr</th>\n",
       "      <th>plannedtime_dep</th>\n",
       "      <th>actualtime_arr</th>\n",
       "      <th>actualtime_dep</th>\n",
       "      <th>vehicleid</th>\n",
       "      <th>lastupdate</th>\n",
       "      <th>note</th>\n",
       "    </tr>\n",
       "  </thead>\n",
       "  <tbody>\n",
       "  </tbody>\n",
       "</table>\n",
       "</div>"
      ],
      "text/plain": [
       "Empty DataFrame\n",
       "Columns: [datasource, dayofservice, tripid, progrnumber, stoppointid, plannedtime_arr, plannedtime_dep, actualtime_arr, actualtime_dep, vehicleid, lastupdate, note]\n",
       "Index: []"
      ]
     },
     "execution_count": 16,
     "metadata": {},
     "output_type": "execute_result"
    }
   ],
   "source": [
    "df[df.duplicated()]  "
   ]
  },
  {
   "cell_type": "code",
   "execution_count": 17,
   "metadata": {},
   "outputs": [
    {
     "data": {
      "text/plain": [
       "datasource          object\n",
       "dayofservice        object\n",
       "tripid               int64\n",
       "progrnumber          int64\n",
       "stoppointid          int64\n",
       "plannedtime_arr      int64\n",
       "plannedtime_dep      int64\n",
       "actualtime_arr       int64\n",
       "actualtime_dep       int64\n",
       "vehicleid            int64\n",
       "lastupdate          object\n",
       "note               float64\n",
       "dtype: object"
      ]
     },
     "execution_count": 17,
     "metadata": {},
     "output_type": "execute_result"
    }
   ],
   "source": [
    "df.dtypes"
   ]
  },
  {
   "cell_type": "markdown",
   "metadata": {},
   "source": [
    "### Convert object types to type category"
   ]
  },
  {
   "cell_type": "code",
   "execution_count": 18,
   "metadata": {},
   "outputs": [
    {
     "data": {
      "text/plain": [
       "datasource         category\n",
       "dayofservice       category\n",
       "tripid                int64\n",
       "progrnumber           int64\n",
       "stoppointid           int64\n",
       "plannedtime_arr       int64\n",
       "plannedtime_dep       int64\n",
       "actualtime_arr        int64\n",
       "actualtime_dep        int64\n",
       "vehicleid             int64\n",
       "lastupdate         category\n",
       "note                float64\n",
       "dtype: object"
      ]
     },
     "execution_count": 18,
     "metadata": {},
     "output_type": "execute_result"
    }
   ],
   "source": [
    "object_columns = df.select_dtypes(['object']).columns\n",
    "for column in object_columns:\n",
    "    df[column] = df[column].astype('category')\n",
    "df.dtypes   "
   ]
  },
  {
   "cell_type": "code",
   "execution_count": 19,
   "metadata": {
    "collapsed": true
   },
   "outputs": [],
   "source": [
    "df.tripid = df.tripid.astype('category')\n",
    "df.vehicleid = df.vehicleid.astype('category')\n",
    "df.stoppointid = df.stoppointid.astype('category')\n",
    "df.progrnumber = df.progrnumber.astype('category')"
   ]
  },
  {
   "cell_type": "markdown",
   "metadata": {},
   "source": [
    "### Descriptive statistics of categorical features "
   ]
  },
  {
   "cell_type": "code",
   "execution_count": 20,
   "metadata": {},
   "outputs": [
    {
     "data": {
      "text/html": [
       "<div>\n",
       "<style scoped>\n",
       "    .dataframe tbody tr th:only-of-type {\n",
       "        vertical-align: middle;\n",
       "    }\n",
       "\n",
       "    .dataframe tbody tr th {\n",
       "        vertical-align: top;\n",
       "    }\n",
       "\n",
       "    .dataframe thead th {\n",
       "        text-align: right;\n",
       "    }\n",
       "</style>\n",
       "<table border=\"1\" class=\"dataframe\">\n",
       "  <thead>\n",
       "    <tr style=\"text-align: right;\">\n",
       "      <th></th>\n",
       "      <th>count</th>\n",
       "      <th>unique</th>\n",
       "      <th>top</th>\n",
       "      <th>freq</th>\n",
       "    </tr>\n",
       "  </thead>\n",
       "  <tbody>\n",
       "    <tr>\n",
       "      <th>datasource</th>\n",
       "      <td>149439</td>\n",
       "      <td>1</td>\n",
       "      <td>DB</td>\n",
       "      <td>149439</td>\n",
       "    </tr>\n",
       "    <tr>\n",
       "      <th>dayofservice</th>\n",
       "      <td>149439</td>\n",
       "      <td>20</td>\n",
       "      <td>07-JUN-17 00:00:00</td>\n",
       "      <td>14746</td>\n",
       "    </tr>\n",
       "    <tr>\n",
       "      <th>tripid</th>\n",
       "      <td>149439</td>\n",
       "      <td>1157</td>\n",
       "      <td>5018147</td>\n",
       "      <td>338</td>\n",
       "    </tr>\n",
       "    <tr>\n",
       "      <th>progrnumber</th>\n",
       "      <td>149439</td>\n",
       "      <td>66</td>\n",
       "      <td>11</td>\n",
       "      <td>2554</td>\n",
       "    </tr>\n",
       "    <tr>\n",
       "      <th>stoppointid</th>\n",
       "      <td>149439</td>\n",
       "      <td>126</td>\n",
       "      <td>2039</td>\n",
       "      <td>2576</td>\n",
       "    </tr>\n",
       "    <tr>\n",
       "      <th>vehicleid</th>\n",
       "      <td>149439</td>\n",
       "      <td>144</td>\n",
       "      <td>1000562</td>\n",
       "      <td>4571</td>\n",
       "    </tr>\n",
       "    <tr>\n",
       "      <th>lastupdate</th>\n",
       "      <td>149439</td>\n",
       "      <td>20</td>\n",
       "      <td>30-JUN-17 21:00:29</td>\n",
       "      <td>14746</td>\n",
       "    </tr>\n",
       "  </tbody>\n",
       "</table>\n",
       "</div>"
      ],
      "text/plain": [
       "               count unique                 top    freq\n",
       "datasource    149439      1                  DB  149439\n",
       "dayofservice  149439     20  07-JUN-17 00:00:00   14746\n",
       "tripid        149439   1157             5018147     338\n",
       "progrnumber   149439     66                  11    2554\n",
       "stoppointid   149439    126                2039    2576\n",
       "vehicleid     149439    144             1000562    4571\n",
       "lastupdate    149439     20  30-JUN-17 21:00:29   14746"
      ]
     },
     "execution_count": 20,
     "metadata": {},
     "output_type": "execute_result"
    }
   ],
   "source": [
    "df.select_dtypes(['category']).describe().T"
   ]
  },
  {
   "cell_type": "markdown",
   "metadata": {},
   "source": [
    "### Descriptive statistics of numerical features"
   ]
  },
  {
   "cell_type": "code",
   "execution_count": 21,
   "metadata": {},
   "outputs": [
    {
     "data": {
      "text/html": [
       "<div>\n",
       "<style scoped>\n",
       "    .dataframe tbody tr th:only-of-type {\n",
       "        vertical-align: middle;\n",
       "    }\n",
       "\n",
       "    .dataframe tbody tr th {\n",
       "        vertical-align: top;\n",
       "    }\n",
       "\n",
       "    .dataframe thead th {\n",
       "        text-align: right;\n",
       "    }\n",
       "</style>\n",
       "<table border=\"1\" class=\"dataframe\">\n",
       "  <thead>\n",
       "    <tr style=\"text-align: right;\">\n",
       "      <th></th>\n",
       "      <th>count</th>\n",
       "      <th>mean</th>\n",
       "      <th>std</th>\n",
       "      <th>min</th>\n",
       "      <th>25%</th>\n",
       "      <th>50%</th>\n",
       "      <th>75%</th>\n",
       "      <th>max</th>\n",
       "    </tr>\n",
       "  </thead>\n",
       "  <tbody>\n",
       "    <tr>\n",
       "      <th>plannedtime_arr</th>\n",
       "      <td>149439.0</td>\n",
       "      <td>53037.084998</td>\n",
       "      <td>16991.091972</td>\n",
       "      <td>18900.0</td>\n",
       "      <td>38462.0</td>\n",
       "      <td>52650.0</td>\n",
       "      <td>66911.0</td>\n",
       "      <td>87326.0</td>\n",
       "    </tr>\n",
       "    <tr>\n",
       "      <th>plannedtime_dep</th>\n",
       "      <td>149439.0</td>\n",
       "      <td>53037.084998</td>\n",
       "      <td>16991.091972</td>\n",
       "      <td>18900.0</td>\n",
       "      <td>38462.0</td>\n",
       "      <td>52650.0</td>\n",
       "      <td>66911.0</td>\n",
       "      <td>87326.0</td>\n",
       "    </tr>\n",
       "    <tr>\n",
       "      <th>actualtime_arr</th>\n",
       "      <td>149439.0</td>\n",
       "      <td>53300.849785</td>\n",
       "      <td>17053.807006</td>\n",
       "      <td>18896.0</td>\n",
       "      <td>38680.0</td>\n",
       "      <td>53012.0</td>\n",
       "      <td>67430.0</td>\n",
       "      <td>88086.0</td>\n",
       "    </tr>\n",
       "    <tr>\n",
       "      <th>actualtime_dep</th>\n",
       "      <td>149439.0</td>\n",
       "      <td>53316.186578</td>\n",
       "      <td>17053.084951</td>\n",
       "      <td>18896.0</td>\n",
       "      <td>38694.0</td>\n",
       "      <td>53022.0</td>\n",
       "      <td>67447.0</td>\n",
       "      <td>88086.0</td>\n",
       "    </tr>\n",
       "    <tr>\n",
       "      <th>note</th>\n",
       "      <td>0.0</td>\n",
       "      <td>NaN</td>\n",
       "      <td>NaN</td>\n",
       "      <td>NaN</td>\n",
       "      <td>NaN</td>\n",
       "      <td>NaN</td>\n",
       "      <td>NaN</td>\n",
       "      <td>NaN</td>\n",
       "    </tr>\n",
       "  </tbody>\n",
       "</table>\n",
       "</div>"
      ],
      "text/plain": [
       "                    count          mean           std      min      25%  \\\n",
       "plannedtime_arr  149439.0  53037.084998  16991.091972  18900.0  38462.0   \n",
       "plannedtime_dep  149439.0  53037.084998  16991.091972  18900.0  38462.0   \n",
       "actualtime_arr   149439.0  53300.849785  17053.807006  18896.0  38680.0   \n",
       "actualtime_dep   149439.0  53316.186578  17053.084951  18896.0  38694.0   \n",
       "note                  0.0           NaN           NaN      NaN      NaN   \n",
       "\n",
       "                     50%      75%      max  \n",
       "plannedtime_arr  52650.0  66911.0  87326.0  \n",
       "plannedtime_dep  52650.0  66911.0  87326.0  \n",
       "actualtime_arr   53012.0  67430.0  88086.0  \n",
       "actualtime_dep   53022.0  67447.0  88086.0  \n",
       "note                 NaN      NaN      NaN  "
      ]
     },
     "execution_count": 21,
     "metadata": {},
     "output_type": "execute_result"
    }
   ],
   "source": [
    "df.select_dtypes(['int64', 'float64']).describe().T"
   ]
  },
  {
   "cell_type": "code",
   "execution_count": 22,
   "metadata": {},
   "outputs": [
    {
     "data": {
      "text/plain": [
       "datasource              0\n",
       "dayofservice            0\n",
       "tripid                  0\n",
       "progrnumber             0\n",
       "stoppointid             0\n",
       "plannedtime_arr         0\n",
       "plannedtime_dep         0\n",
       "actualtime_arr          0\n",
       "actualtime_dep          0\n",
       "vehicleid               0\n",
       "lastupdate              0\n",
       "note               149439\n",
       "dtype: int64"
      ]
     },
     "execution_count": 22,
     "metadata": {},
     "output_type": "execute_result"
    }
   ],
   "source": [
    "df.isnull().sum()"
   ]
  },
  {
   "cell_type": "markdown",
   "metadata": {},
   "source": [
    "#### Number of trips this month is shown above. Graph below of actual Vs predicted times"
   ]
  },
  {
   "cell_type": "code",
   "execution_count": 23,
   "metadata": {
    "collapsed": true
   },
   "outputs": [],
   "source": [
    "# df.plot(kind='scatter', x='plannedtime_arr', y='actualtime_arr')\n",
    "# df.plot(kind='scatter',x='plannedtime_dep',y='actualtime_dep')"
   ]
  },
  {
   "cell_type": "code",
   "execution_count": 24,
   "metadata": {
    "collapsed": true
   },
   "outputs": [],
   "source": [
    "# fig, axarr = plt.subplots(1, 2, figsize=(10, 10))\n",
    "# plt.figure()\n",
    "# flierprops = dict(marker='o', markerfacecolor='green', markersize=6, linestyle='none')\n",
    "# df.boxplot(column=['plannedtime_arr'],  flierprops=flierprops, figsize=(10,7))\n",
    "# df.boxplot(column=['plannedtime_dep'], flierprops=flierprops, figsize=(10,7))"
   ]
  },
  {
   "cell_type": "markdown",
   "metadata": {},
   "source": [
    "### Convert 'dayofservice' from object to type datetime\n",
    "\n",
    "### And drop constant columns"
   ]
  },
  {
   "cell_type": "code",
   "execution_count": 25,
   "metadata": {
    "collapsed": true
   },
   "outputs": [],
   "source": [
    "df['dayofservice'] = pd.to_datetime(df['dayofservice'], format='%d-%b-%y 00:00:00')\n",
    "df.drop(['datasource','note','lastupdate'], axis=1, inplace=True)"
   ]
  },
  {
   "cell_type": "markdown",
   "metadata": {},
   "source": [
    "### Number of unique trips for this month"
   ]
  },
  {
   "cell_type": "code",
   "execution_count": 26,
   "metadata": {},
   "outputs": [
    {
     "data": {
      "text/plain": [
       "1157"
      ]
     },
     "execution_count": 26,
     "metadata": {},
     "output_type": "execute_result"
    }
   ],
   "source": [
    "df.tripid.nunique()"
   ]
  },
  {
   "cell_type": "markdown",
   "metadata": {},
   "source": [
    "### Number of entries for a given tripid"
   ]
  },
  {
   "cell_type": "code",
   "execution_count": 27,
   "metadata": {},
   "outputs": [
    {
     "name": "stdout",
     "output_type": "stream",
     "text": [
      "#rows for trip id: 5002789 = 304\n",
      "Number of days that had that tripid in June for 46a: 5 \n",
      "\n",
      "\n",
      "#rows for trip id: 5002790= 278\n",
      "Number of days that had that tripid in June for 46a: 5 \n",
      "\n",
      "\n",
      "Dates that trip id: 5002790 took place: \n",
      "\n",
      " ['2017-06-01T00:00:00.000000000' '2017-06-02T00:00:00.000000000'\n",
      " '2017-06-07T00:00:00.000000000' '2017-06-08T00:00:00.000000000'\n",
      " '2017-06-09T00:00:00.000000000']\n"
     ]
    }
   ],
   "source": [
    "df_one_trip = df[df.tripid ==5002789]\n",
    "print('#rows for trip id: 5002789 =',df_one_trip.shape[0]) #num rows this trip id appears that month\n",
    "print('Number of days that had that tripid in June for 46a:',df_one_trip.dayofservice.nunique(),'\\n\\n')  \n",
    "\n",
    "### Verify that other tripid's follow this pattern\n",
    "df_another_trip = df[df.tripid ==5002790]\n",
    "print('#rows for trip id: 5002790=',df_another_trip.shape[0]) \n",
    "print('Number of days that had that tripid in June for 46a:',df_another_trip.dayofservice.nunique(),'\\n\\n' )\n",
    "#looks like a trip that leaves at a certain time on a given day has a unique trip id \n",
    "# eg a bus that leaves dunlaoighaire at 9 am on a monday will have a trip id that repeats every week \n",
    "\n",
    "print('Dates that trip id: 5002790 took place: \\n\\n',df_another_trip.dayofservice.unique())\n",
    "# maybe this is not the case as these days correspond to a thurs,fri, wed, thurs,fri"
   ]
  },
  {
   "cell_type": "code",
   "execution_count": 28,
   "metadata": {
    "collapsed": true
   },
   "outputs": [],
   "source": [
    "unique_vals = df.stoppointid.unique()  #these stop points do actually corrrespond to stops on 46a"
   ]
  },
  {
   "cell_type": "markdown",
   "metadata": {},
   "source": [
    "### Sort  by 'dayofservice' and 'progrnumber' "
   ]
  },
  {
   "cell_type": "code",
   "execution_count": 29,
   "metadata": {
    "collapsed": true
   },
   "outputs": [],
   "source": [
    "df_sorted =df.sort_values(['dayofservice','tripid','progrnumber'], ascending =[True,True,True])"
   ]
  },
  {
   "cell_type": "code",
   "execution_count": 30,
   "metadata": {
    "collapsed": true
   },
   "outputs": [],
   "source": [
    "# df_sorted[55:65]  # 01-JUN-17, tripid=5002790:  starts from 807 so going from Phoenix park to DunLaoghaire"
   ]
  },
  {
   "cell_type": "markdown",
   "metadata": {},
   "source": [
    "### Convert plannedtime_arr & other cols from secons past midnight to human readable date"
   ]
  },
  {
   "cell_type": "code",
   "execution_count": 31,
   "metadata": {
    "collapsed": true
   },
   "outputs": [],
   "source": [
    "df_sorted['actualtime_arr_h'] = pd.to_datetime(df_sorted['actualtime_arr'],unit='s').dt.time\n",
    "df_sorted['actualtime_dep_h'] = pd.to_datetime(df_sorted['actualtime_dep'],unit='s').dt.time\n",
    "df_sorted['plannedtime_arr_h'] = pd.to_datetime(df_sorted['plannedtime_arr'],unit='s').dt.time\n",
    "df_sorted['plannedtime_dep_h'] = pd.to_datetime(df_sorted['plannedtime_dep'],unit='s').dt.time\n",
    "\n",
    "#-------------------- Get day of the week and hour of current trip\n",
    "df_sorted['day_of_week_code'] =df_sorted.dayofservice.dt.dayofweek\n",
    "df_sorted['day_of_week'] =df_sorted.dayofservice.dt.weekday_name\n",
    "df_sorted['hour'] = pd.to_datetime(df_sorted['plannedtime_dep'],unit='s').dt.hour\n",
    "\n",
    "#------------------   Create 2 new features ( weekday and time_interval) \n",
    "\n",
    "df_sorted['weekday'] = df_sorted['day_of_week_code']<5\n",
    "df_sorted['time_interval'] = pd.cut(df_sorted['hour'], [4,7, 9, 12,16,18,23], labels=['before_8am','8am-10am','10am-1pm','1pm-5pm','5pm-7pm','after_7pm'])"
   ]
  },
  {
   "cell_type": "code",
   "execution_count": 32,
   "metadata": {},
   "outputs": [
    {
     "data": {
      "text/html": [
       "<div>\n",
       "<style scoped>\n",
       "    .dataframe tbody tr th:only-of-type {\n",
       "        vertical-align: middle;\n",
       "    }\n",
       "\n",
       "    .dataframe tbody tr th {\n",
       "        vertical-align: top;\n",
       "    }\n",
       "\n",
       "    .dataframe thead th {\n",
       "        text-align: right;\n",
       "    }\n",
       "</style>\n",
       "<table border=\"1\" class=\"dataframe\">\n",
       "  <thead>\n",
       "    <tr style=\"text-align: right;\">\n",
       "      <th></th>\n",
       "      <th>plannedtime_dep_h</th>\n",
       "      <th>hour</th>\n",
       "      <th>time_interval</th>\n",
       "    </tr>\n",
       "  </thead>\n",
       "  <tbody>\n",
       "    <tr>\n",
       "      <th>225</th>\n",
       "      <td>13:00:21</td>\n",
       "      <td>13</td>\n",
       "      <td>1pm-5pm</td>\n",
       "    </tr>\n",
       "  </tbody>\n",
       "</table>\n",
       "</div>"
      ],
      "text/plain": [
       "    plannedtime_dep_h  hour time_interval\n",
       "225          13:00:21    13       1pm-5pm"
      ]
     },
     "execution_count": 32,
     "metadata": {},
     "output_type": "execute_result"
    }
   ],
   "source": [
    "### Verify that the time intervals are correct by testing with different hours\n",
    "df_sorted.loc[df_sorted.hour==13][['plannedtime_dep_h','hour','time_interval']].head(1)"
   ]
  },
  {
   "cell_type": "markdown",
   "metadata": {},
   "source": [
    "### Need to deal with 0 (after midnight) separately as cut requires the bin intervals to increase monotonically \n",
    "( If you do not deal with after midnight separately then these values beccome NaN's in the time interval ) "
   ]
  },
  {
   "cell_type": "code",
   "execution_count": 33,
   "metadata": {
    "collapsed": true
   },
   "outputs": [],
   "source": [
    "df_sorted.time_interval.fillna('after_7pm', inplace=True)"
   ]
  },
  {
   "cell_type": "code",
   "execution_count": 34,
   "metadata": {},
   "outputs": [
    {
     "data": {
      "text/html": [
       "<div>\n",
       "<style scoped>\n",
       "    .dataframe tbody tr th:only-of-type {\n",
       "        vertical-align: middle;\n",
       "    }\n",
       "\n",
       "    .dataframe tbody tr th {\n",
       "        vertical-align: top;\n",
       "    }\n",
       "\n",
       "    .dataframe thead th {\n",
       "        text-align: right;\n",
       "    }\n",
       "</style>\n",
       "<table border=\"1\" class=\"dataframe\">\n",
       "  <thead>\n",
       "    <tr style=\"text-align: right;\">\n",
       "      <th></th>\n",
       "      <th>plannedtime_dep_h</th>\n",
       "      <th>hour</th>\n",
       "      <th>time_interval</th>\n",
       "    </tr>\n",
       "  </thead>\n",
       "  <tbody>\n",
       "    <tr>\n",
       "      <th>4396</th>\n",
       "      <td>00:00:54</td>\n",
       "      <td>0</td>\n",
       "      <td>after_7pm</td>\n",
       "    </tr>\n",
       "  </tbody>\n",
       "</table>\n",
       "</div>"
      ],
      "text/plain": [
       "     plannedtime_dep_h  hour time_interval\n",
       "4396          00:00:54     0     after_7pm"
      ]
     },
     "execution_count": 34,
     "metadata": {},
     "output_type": "execute_result"
    }
   ],
   "source": [
    "df_sorted.loc[df_sorted.hour==0][['plannedtime_dep_h','hour','time_interval']].head(1)"
   ]
  },
  {
   "cell_type": "markdown",
   "metadata": {},
   "source": [
    "### Make a datetime object of date and hour (to have in common with df_weather for join) "
   ]
  },
  {
   "cell_type": "code",
   "execution_count": 35,
   "metadata": {
    "collapsed": true
   },
   "outputs": [],
   "source": [
    "df_sorted['hour_of_service']=pd.to_datetime(df_sorted.dayofservice) + pd.to_timedelta(df_sorted.hour, unit='h')\n",
    "#-----------------------------\n",
    "### Set index of weather and sorted_trip dataframes to be current hour\n",
    "df_sorted.set_index(df_sorted['hour_of_service'], inplace=True)\n",
    "df_weather_small.set_index(df_weather_small['date_and_time'], inplace=True)\n",
    "#-----------------------------\n",
    "### join weather and sorted_trip (based on index) \n",
    "df_joined = pd.concat([df_sorted,df_weather_small], join_axes=[df_sorted.index],axis=1)"
   ]
  },
  {
   "cell_type": "markdown",
   "metadata": {},
   "source": [
    "### Can see that negative values occur for time 0"
   ]
  },
  {
   "cell_type": "code",
   "execution_count": 36,
   "metadata": {},
   "outputs": [
    {
     "data": {
      "text/plain": [
       "array([], dtype=int64)"
      ]
     },
     "execution_count": 36,
     "metadata": {},
     "output_type": "execute_result"
    }
   ],
   "source": [
    "df_sorted[df_sorted.isnull().any(axis=1)].hour.unique()"
   ]
  },
  {
   "cell_type": "markdown",
   "metadata": {},
   "source": [
    "### Drop date columns that were used in the join"
   ]
  },
  {
   "cell_type": "code",
   "execution_count": 37,
   "metadata": {
    "collapsed": true
   },
   "outputs": [],
   "source": [
    "df_joined.drop(['hour_of_service','date_and_time'], axis=1,inplace=True)"
   ]
  },
  {
   "cell_type": "code",
   "execution_count": 38,
   "metadata": {},
   "outputs": [
    {
     "name": "stdout",
     "output_type": "stream",
     "text": [
      "Columns dropped\n"
     ]
    }
   ],
   "source": [
    "if ('hour_of_service' and 'date_and_time') not in df_joined.columns:\n",
    "    print('Columns dropped')"
   ]
  },
  {
   "cell_type": "markdown",
   "metadata": {},
   "source": [
    "### Multi-indexed key"
   ]
  },
  {
   "cell_type": "code",
   "execution_count": 39,
   "metadata": {
    "collapsed": true
   },
   "outputs": [],
   "source": [
    "df_joined.reset_index()\n",
    "df_joined.set_index(['dayofservice', 'tripid'], inplace=True)"
   ]
  },
  {
   "cell_type": "markdown",
   "metadata": {},
   "source": [
    "### -------------------------------"
   ]
  },
  {
   "cell_type": "markdown",
   "metadata": {},
   "source": [
    "### Extract df where progrnumber =1 as this will be needed for normalization \n",
    "In the example below we will need to subtract 26400 from all rows where dayofservice == '2017-06-01' in order to plot journey time on y-axis and stop number on x-axis (i.e. we need journey time to begin at 0)  "
   ]
  },
  {
   "cell_type": "code",
   "execution_count": 40,
   "metadata": {
    "collapsed": true
   },
   "outputs": [],
   "source": [
    "start_planned_arr_time = pd.to_numeric(df_joined.loc[df_joined.progrnumber==1].plannedtime_arr)\n",
    "start_planned_dep_time = pd.to_numeric(df_joined.loc[df_joined.progrnumber==1].plannedtime_dep)\n",
    "start_actual_arr_time = pd.to_numeric(df_joined.loc[df_joined.progrnumber==1].actualtime_arr)\n",
    "start_actual_dep_time = pd.to_numeric(df_joined.loc[df_joined.progrnumber==1].actualtime_dep)\n",
    "# print(start_planned_arr_time,start_planned_dep_time, start_actual_arr_time , start_actual_dep_time)"
   ]
  },
  {
   "cell_type": "markdown",
   "metadata": {},
   "source": [
    "### Normalisation of the arrival time (i.e. start at 0) \n",
    "(Need to do this for the 4 columns actualtime_arr, actualtime_dep, plannedtime_arr, plannedtime_dep"
   ]
  },
  {
   "cell_type": "code",
   "execution_count": 41,
   "metadata": {},
   "outputs": [
    {
     "data": {
      "text/html": [
       "<div>\n",
       "<style scoped>\n",
       "    .dataframe tbody tr th:only-of-type {\n",
       "        vertical-align: middle;\n",
       "    }\n",
       "\n",
       "    .dataframe tbody tr th {\n",
       "        vertical-align: top;\n",
       "    }\n",
       "\n",
       "    .dataframe thead th {\n",
       "        text-align: right;\n",
       "    }\n",
       "</style>\n",
       "<table border=\"1\" class=\"dataframe\">\n",
       "  <thead>\n",
       "    <tr style=\"text-align: right;\">\n",
       "      <th></th>\n",
       "      <th></th>\n",
       "      <th>plannedtime_arr_norm</th>\n",
       "      <th>plannedtime_dep_norm</th>\n",
       "      <th>actualtime_arr_norm</th>\n",
       "      <th>actualtime_dep_norm</th>\n",
       "    </tr>\n",
       "    <tr>\n",
       "      <th>dayofservice</th>\n",
       "      <th>tripid</th>\n",
       "      <th></th>\n",
       "      <th></th>\n",
       "      <th></th>\n",
       "      <th></th>\n",
       "    </tr>\n",
       "  </thead>\n",
       "  <tbody>\n",
       "    <tr>\n",
       "      <th rowspan=\"2\" valign=\"top\">2017-06-01</th>\n",
       "      <th>5002789</th>\n",
       "      <td>0.0</td>\n",
       "      <td>0.0</td>\n",
       "      <td>0.0</td>\n",
       "      <td>0.0</td>\n",
       "    </tr>\n",
       "    <tr>\n",
       "      <th>5002789</th>\n",
       "      <td>39.0</td>\n",
       "      <td>39.0</td>\n",
       "      <td>50.0</td>\n",
       "      <td>66.0</td>\n",
       "    </tr>\n",
       "  </tbody>\n",
       "</table>\n",
       "</div>"
      ],
      "text/plain": [
       "                      plannedtime_arr_norm  plannedtime_dep_norm  \\\n",
       "dayofservice tripid                                                \n",
       "2017-06-01   5002789                   0.0                   0.0   \n",
       "             5002789                  39.0                  39.0   \n",
       "\n",
       "                      actualtime_arr_norm  actualtime_dep_norm  \n",
       "dayofservice tripid                                             \n",
       "2017-06-01   5002789                  0.0                  0.0  \n",
       "             5002789                 50.0                 66.0  "
      ]
     },
     "execution_count": 41,
     "metadata": {},
     "output_type": "execute_result"
    }
   ],
   "source": [
    "df1=(df_joined['plannedtime_arr']-start_planned_arr_time).to_frame()\n",
    "df2=(df_joined['plannedtime_dep']-start_planned_dep_time).to_frame()\n",
    "df3=(df_joined['actualtime_arr']-start_actual_arr_time).to_frame()\n",
    "df4=(df_joined['actualtime_dep']-start_actual_dep_time).to_frame()\n",
    "df5=pd.concat([df1,df2,df3,df4],axis=1)\n",
    "df5.rename(columns={'plannedtime_arr':'plannedtime_arr_norm','plannedtime_dep':'plannedtime_dep_norm',  'actualtime_dep':'actualtime_dep_norm','actualtime_arr':'actualtime_arr_norm'}, inplace=True)\n",
    "df5.head(2)"
   ]
  },
  {
   "cell_type": "code",
   "execution_count": 42,
   "metadata": {
    "collapsed": true
   },
   "outputs": [],
   "source": [
    "# df_joined['tripid'].diff()[df_joined['tripid'].diff() != 0].index.values"
   ]
  },
  {
   "cell_type": "markdown",
   "metadata": {},
   "source": [
    "### Add the normalized column to the dataframe"
   ]
  },
  {
   "cell_type": "code",
   "execution_count": 43,
   "metadata": {
    "collapsed": true
   },
   "outputs": [],
   "source": [
    "df_joined = pd.concat([df_joined, df5], axis=1)"
   ]
  },
  {
   "cell_type": "markdown",
   "metadata": {},
   "source": [
    "### Verify that it normalizes all trips (NOT just the first one!) "
   ]
  },
  {
   "cell_type": "code",
   "execution_count": 44,
   "metadata": {
    "collapsed": true
   },
   "outputs": [],
   "source": [
    "# df_joined[['plannedtime_arr_norm','plannedtime_dep_norm','actualtime_arr_norm','actualtime_dep_norm']][58:61] \n",
    "## Note below that we have 0 again to mark beginning of a new trip (which is what we want )\n",
    "# df_joined[['plannedtime_arr_norm','plannedtime_dep_norm','actualtime_arr_norm','actualtime_dep_norm']][1010:1013] \n",
    "# df_joined[['plannedtime_arr_norm','plannedtime_dep_norm','actualtime_arr_norm','actualtime_dep_norm']][11029:11032]"
   ]
  },
  {
   "cell_type": "code",
   "execution_count": 45,
   "metadata": {},
   "outputs": [
    {
     "data": {
      "text/html": [
       "<div>\n",
       "<style scoped>\n",
       "    .dataframe tbody tr th:only-of-type {\n",
       "        vertical-align: middle;\n",
       "    }\n",
       "\n",
       "    .dataframe tbody tr th {\n",
       "        vertical-align: top;\n",
       "    }\n",
       "\n",
       "    .dataframe thead th {\n",
       "        text-align: right;\n",
       "    }\n",
       "</style>\n",
       "<table border=\"1\" class=\"dataframe\">\n",
       "  <thead>\n",
       "    <tr style=\"text-align: right;\">\n",
       "      <th></th>\n",
       "      <th></th>\n",
       "      <th>plannedtime_arr_norm</th>\n",
       "      <th>plannedtime_dep_norm</th>\n",
       "      <th>actualtime_arr_norm</th>\n",
       "      <th>actualtime_dep_norm</th>\n",
       "    </tr>\n",
       "    <tr>\n",
       "      <th>dayofservice</th>\n",
       "      <th>tripid</th>\n",
       "      <th></th>\n",
       "      <th></th>\n",
       "      <th></th>\n",
       "      <th></th>\n",
       "    </tr>\n",
       "  </thead>\n",
       "  <tbody>\n",
       "    <tr>\n",
       "      <th rowspan=\"2\" valign=\"top\">2017-06-01</th>\n",
       "      <th>5002789</th>\n",
       "      <td>0.0</td>\n",
       "      <td>0.0</td>\n",
       "      <td>0.0</td>\n",
       "      <td>0.0</td>\n",
       "    </tr>\n",
       "    <tr>\n",
       "      <th>5002789</th>\n",
       "      <td>39.0</td>\n",
       "      <td>39.0</td>\n",
       "      <td>50.0</td>\n",
       "      <td>66.0</td>\n",
       "    </tr>\n",
       "  </tbody>\n",
       "</table>\n",
       "</div>"
      ],
      "text/plain": [
       "                      plannedtime_arr_norm  plannedtime_dep_norm  \\\n",
       "dayofservice tripid                                                \n",
       "2017-06-01   5002789                   0.0                   0.0   \n",
       "             5002789                  39.0                  39.0   \n",
       "\n",
       "                      actualtime_arr_norm  actualtime_dep_norm  \n",
       "dayofservice tripid                                             \n",
       "2017-06-01   5002789                  0.0                  0.0  \n",
       "             5002789                 50.0                 66.0  "
      ]
     },
     "execution_count": 45,
     "metadata": {},
     "output_type": "execute_result"
    }
   ],
   "source": [
    "cols_to_plot= ['plannedtime_arr_norm','plannedtime_dep_norm','actualtime_arr_norm','actualtime_dep_norm']\n",
    "df_to_plot=df_joined[cols_to_plot]\n",
    "df_to_plot.head(2)"
   ]
  },
  {
   "cell_type": "markdown",
   "metadata": {},
   "source": [
    "### Define time 'time_between_stops' as actual time to arrive at 1 stop to next "
   ]
  },
  {
   "cell_type": "code",
   "execution_count": 46,
   "metadata": {
    "collapsed": true
   },
   "outputs": [],
   "source": [
    "df_joined['time_between_stops'] = df_joined.groupby(level=['dayofservice','tripid'] )['actualtime_arr'].diff()\n",
    "# need :  groupby(level=0) to handle edge cases i.e. make sure you dont just sutract all rows regardless of tripid"
   ]
  },
  {
   "cell_type": "code",
   "execution_count": 47,
   "metadata": {},
   "outputs": [
    {
     "data": {
      "text/plain": [
       "progrnumber                 0\n",
       "stoppointid                 0\n",
       "plannedtime_arr             0\n",
       "plannedtime_dep             0\n",
       "actualtime_arr              0\n",
       "actualtime_dep              0\n",
       "vehicleid                   0\n",
       "actualtime_arr_h            0\n",
       "actualtime_dep_h            0\n",
       "plannedtime_arr_h           0\n",
       "plannedtime_dep_h           0\n",
       "day_of_week_code            0\n",
       "day_of_week                 0\n",
       "hour                        0\n",
       "weekday                     0\n",
       "time_interval               0\n",
       "rain                        0\n",
       "air_temp                    0\n",
       "rel_humidity                0\n",
       "plannedtime_arr_norm    11424\n",
       "plannedtime_dep_norm    11424\n",
       "actualtime_arr_norm     11424\n",
       "actualtime_dep_norm     11424\n",
       "time_between_stops       3031\n",
       "dtype: int64"
      ]
     },
     "execution_count": 47,
     "metadata": {},
     "output_type": "execute_result"
    }
   ],
   "source": [
    "df_joined.isnull().sum()"
   ]
  },
  {
   "cell_type": "markdown",
   "metadata": {},
   "source": [
    "#### We expect to see NaNs in the 'time_between_stops' field as this will occur at start of a tripid on a given day"
   ]
  },
  {
   "cell_type": "markdown",
   "metadata": {},
   "source": [
    "### Average time_between_stops by day "
   ]
  },
  {
   "cell_type": "code",
   "execution_count": 48,
   "metadata": {},
   "outputs": [
    {
     "data": {
      "text/plain": [
       "tripid\n",
       "5002789    61.844828\n",
       "5002790    90.520000\n",
       "5002791    88.442623\n",
       "5002792    92.300000\n",
       "5002793    82.847458\n",
       "Name: time_between_stops, dtype: float64"
      ]
     },
     "execution_count": 48,
     "metadata": {},
     "output_type": "execute_result"
    }
   ],
   "source": [
    "average_by_day_and_trip = df_joined['time_between_stops'].groupby(level=['dayofservice','tripid']).mean()\n",
    "average_by_day_and_trip['2017-06-01'].head(5)"
   ]
  },
  {
   "cell_type": "markdown",
   "metadata": {},
   "source": [
    "### Journey over time\n",
    "#### We are most interested in acualtime (i.e. red line below)"
   ]
  },
  {
   "cell_type": "code",
   "execution_count": 49,
   "metadata": {
    "collapsed": true
   },
   "outputs": [],
   "source": [
    "# plt.figure(); df_to_plot.plot(figsize=(20,5)); plt.legend(loc='best')"
   ]
  },
  {
   "cell_type": "markdown",
   "metadata": {},
   "source": [
    "### Dataframe of time between consecutive stops "
   ]
  },
  {
   "cell_type": "code",
   "execution_count": 50,
   "metadata": {
    "scrolled": true
   },
   "outputs": [
    {
     "data": {
      "text/html": [
       "<div>\n",
       "<style scoped>\n",
       "    .dataframe tbody tr th:only-of-type {\n",
       "        vertical-align: middle;\n",
       "    }\n",
       "\n",
       "    .dataframe tbody tr th {\n",
       "        vertical-align: top;\n",
       "    }\n",
       "\n",
       "    .dataframe thead th {\n",
       "        text-align: right;\n",
       "    }\n",
       "</style>\n",
       "<table border=\"1\" class=\"dataframe\">\n",
       "  <thead>\n",
       "    <tr style=\"text-align: right;\">\n",
       "      <th></th>\n",
       "      <th></th>\n",
       "      <th>plannedtime_arr_norm</th>\n",
       "      <th>plannedtime_dep_norm</th>\n",
       "      <th>actualtime_arr_norm</th>\n",
       "      <th>actualtime_dep_norm</th>\n",
       "    </tr>\n",
       "    <tr>\n",
       "      <th>dayofservice</th>\n",
       "      <th>tripid</th>\n",
       "      <th></th>\n",
       "      <th></th>\n",
       "      <th></th>\n",
       "      <th></th>\n",
       "    </tr>\n",
       "  </thead>\n",
       "  <tbody>\n",
       "    <tr>\n",
       "      <th rowspan=\"2\" valign=\"top\">2017-06-01</th>\n",
       "      <th>5002789</th>\n",
       "      <td>NaN</td>\n",
       "      <td>NaN</td>\n",
       "      <td>NaN</td>\n",
       "      <td>NaN</td>\n",
       "    </tr>\n",
       "    <tr>\n",
       "      <th>5002789</th>\n",
       "      <td>39.0</td>\n",
       "      <td>39.0</td>\n",
       "      <td>50.0</td>\n",
       "      <td>66.0</td>\n",
       "    </tr>\n",
       "  </tbody>\n",
       "</table>\n",
       "</div>"
      ],
      "text/plain": [
       "                      plannedtime_arr_norm  plannedtime_dep_norm  \\\n",
       "dayofservice tripid                                                \n",
       "2017-06-01   5002789                   NaN                   NaN   \n",
       "             5002789                  39.0                  39.0   \n",
       "\n",
       "                      actualtime_arr_norm  actualtime_dep_norm  \n",
       "dayofservice tripid                                             \n",
       "2017-06-01   5002789                  NaN                  NaN  \n",
       "             5002789                 50.0                 66.0  "
      ]
     },
     "execution_count": 50,
     "metadata": {},
     "output_type": "execute_result"
    }
   ],
   "source": [
    "differenced_df = df_to_plot.groupby(level=['dayofservice','tripid']).diff()\n",
    "differenced_df.head(2)"
   ]
  },
  {
   "cell_type": "code",
   "execution_count": 51,
   "metadata": {
    "collapsed": true,
    "scrolled": true
   },
   "outputs": [],
   "source": [
    "# plt.figure(); differenced_df.plot(figsize=(10,5)); plt.legend(loc='best')"
   ]
  },
  {
   "cell_type": "markdown",
   "metadata": {},
   "source": [
    "### Time to get to each stop "
   ]
  },
  {
   "cell_type": "code",
   "execution_count": 52,
   "metadata": {},
   "outputs": [
    {
     "data": {
      "text/plain": [
       "<matplotlib.axes._subplots.AxesSubplot at 0x7f8f6bd83390>"
      ]
     },
     "execution_count": 52,
     "metadata": {},
     "output_type": "execute_result"
    },
    {
     "data": {
      "image/png": "[encoded data removed]",
      "text/plain": [
       "<matplotlib.figure.Figure at 0x7f8f6bde03c8>"
      ]
     },
     "metadata": {},
     "output_type": "display_data"
    }
   ],
   "source": [
    "df_joined.time_between_stops.hist()"
   ]
  },
  {
   "cell_type": "markdown",
   "metadata": {},
   "source": [
    "### Replace NaN's with median (otherwise you can not calculate the MAPE )\n",
    "\n",
    "### Drop any rows where time_between stops > 30 minutes or less than 0 \n",
    "( You cant simply drop them as you need dataframes to be of same dimension for MAPE formula )"
   ]
  },
  {
   "cell_type": "code",
   "execution_count": 53,
   "metadata": {
    "collapsed": true
   },
   "outputs": [],
   "source": [
    "# df_joined.time_between_stops.dropna(inplace=True)\n",
    "df_joined.time_between_stops.fillna(df_joined.time_between_stops.median(),inplace=True)\n",
    "df_joined = df_joined[df_joined['time_between_stops']>0]\n",
    "df_joined = df_joined[df_joined['time_between_stops']<400]"
   ]
  },
  {
   "cell_type": "markdown",
   "metadata": {},
   "source": [
    "### Split the dataset into two datasets: 70% training and 30% test. Keep the test set aside\n",
    "\n",
    "### Also observe the baseline prediction"
   ]
  },
  {
   "cell_type": "code",
   "execution_count": 54,
   "metadata": {},
   "outputs": [
    {
     "name": "stdout",
     "output_type": "stream",
     "text": [
      "Number of rows in the data set: 147402 \n",
      "\n",
      "Training set size: 69.99972863326143 %\n",
      "\n",
      "baseline prediction (i.e. average of between stops)  = 73.03414471988168\n"
     ]
    }
   ],
   "source": [
    "n_rows = df_joined.shape[0]\n",
    "df_shuffled = df_joined.sample(frac=1)\n",
    "df_train = df_shuffled[:int(0.7 * n_rows)] \n",
    "df_test = df_shuffled[int(0.7 * n_rows):]\n",
    "\n",
    "print('Number of rows in the data set:',df_joined.shape[0],'\\n') \n",
    "print('Training set size:',(df_train.shape[0]/(df_train.shape[0] +df_test.shape[0]))*100 ,'%\\n')\n",
    "print('baseline prediction (i.e. average of between stops)  =', df_joined['time_between_stops'].mean())"
   ]
  },
  {
   "cell_type": "markdown",
   "metadata": {},
   "source": [
    "### Train a linear model "
   ]
  },
  {
   "cell_type": "code",
   "execution_count": 55,
   "metadata": {
    "collapsed": true
   },
   "outputs": [],
   "source": [
    "lm = sm.ols(formula=\"time_between_stops ~ rain+ air_temp+ C(weekday)+ C(time_interval) \", data=df_train).fit()"
   ]
  },
  {
   "cell_type": "code",
   "execution_count": 56,
   "metadata": {},
   "outputs": [
    {
     "name": "stdout",
     "output_type": "stream",
     "text": [
      "                            OLS Regression Results                            \n",
      "==============================================================================\n",
      "Dep. Variable:     time_between_stops   R-squared:                       0.014\n",
      "Model:                            OLS   Adj. R-squared:                  0.014\n",
      "Method:                 Least Squares   F-statistic:                     186.8\n",
      "Date:                Mon, 02 Jul 2018   Prob (F-statistic):          4.30e-315\n",
      "Time:                        17:17:16   Log-Likelihood:            -5.6353e+05\n",
      "No. Observations:              103181   AIC:                         1.127e+06\n",
      "Df Residuals:                  103172   BIC:                         1.127e+06\n",
      "Df Model:                           8                                         \n",
      "Covariance Type:            nonrobust                                         \n",
      "=================================================================================================\n",
      "                                    coef    std err          t      P>|t|      [0.025      0.975]\n",
      "-------------------------------------------------------------------------------------------------\n",
      "Intercept                        62.0980      1.185     52.417      0.000      59.776      64.420\n",
      "C(weekday)[T.True]                5.1275      0.510     10.053      0.000       4.128       6.127\n",
      "C(time_interval)[T.8am-10am]     13.3924      0.817     16.399      0.000      11.792      14.993\n",
      "C(time_interval)[T.10am-1pm]      9.5976      0.785     12.233      0.000       8.060      11.135\n",
      "C(time_interval)[T.1pm-5pm]      15.2086      0.773     19.684      0.000      13.694      16.723\n",
      "C(time_interval)[T.5pm-7pm]      18.0394      0.830     21.738      0.000      16.413      19.666\n",
      "C(time_interval)[T.after_7pm]     0.0868      0.747      0.116      0.907      -1.377       1.550\n",
      "rain                             -1.0808      0.506     -2.135      0.033      -2.073      -0.089\n",
      "air_temp                         -0.1785      0.051     -3.517      0.000      -0.278      -0.079\n",
      "==============================================================================\n",
      "Omnibus:                    44587.399   Durbin-Watson:                   2.013\n",
      "Prob(Omnibus):                  0.000   Jarque-Bera (JB):           215620.411\n",
      "Skew:                           2.100   Prob(JB):                         0.00\n",
      "Kurtosis:                       8.702   Cond. No.                         164.\n",
      "==============================================================================\n",
      "\n",
      "Warnings:\n",
      "[1] Standard Errors assume that the covariance matrix of the errors is correctly specified.\n"
     ]
    }
   ],
   "source": [
    "print(lm.summary())"
   ]
  },
  {
   "cell_type": "markdown",
   "metadata": {},
   "source": [
    "### Train a Random Forest model "
   ]
  },
  {
   "cell_type": "code",
   "execution_count": 58,
   "metadata": {},
   "outputs": [
    {
     "data": {
      "text/plain": [
       "RandomForestRegressor(bootstrap=True, criterion='mse', max_depth=None,\n",
       "           max_features='auto', max_leaf_nodes=None,\n",
       "           min_impurity_decrease=0.0, min_impurity_split=None,\n",
       "           min_samples_leaf=1, min_samples_split=2,\n",
       "           min_weight_fraction_leaf=0.0, n_estimators=1000, n_jobs=1,\n",
       "           oob_score=False, random_state=42, verbose=0, warm_start=False)"
      ]
     },
     "execution_count": 58,
     "metadata": {},
     "output_type": "execute_result"
    }
   ],
   "source": [
    "df_dummies_time = pd.get_dummies(df_joined[['time_interval']])   # 1 hot encoding  \n",
    "\n",
    "df_dummies_time.rename(columns={'time_interval_10am-1pm': '10am-1pm','time_interval_1pm-5pm': '1pm-5pm',\n",
    "                               'time_interval_5pm-7pm':'5pm-7pm','time_interval_8am-10am':'8am-10am',\n",
    "                               'time_interval_after_7pm':'after_7pm',\n",
    "                                'time_interval_before_8am':'before_8am'}, inplace=True)\n",
    "\n",
    "df_rf = pd.concat([df_joined, df_dummies_time[['10am-1pm', '1pm-5pm', '5pm-7pm', '8am-10am',\n",
    "                                               'before_8am' ]]], axis =1)\n",
    "\n",
    "n_rows_rf = df_rf.shape[0]\n",
    "\n",
    "df_train_rf = df_rf[:int(0.7 * n_rows)]     # split new df (with extra columns) into train and test sets\n",
    "df_test_rf = df_rf[int(0.7 * n_rows):]\n",
    "\n",
    "#Extract only the columns we are using as predictors \n",
    "X= df_train_rf[['rain','air_temp','weekday','10am-1pm', '1pm-5pm', '5pm-7pm', '8am-10am','before_8am']]\n",
    "X_train=df_train_rf[['rain','air_temp','weekday','10am-1pm', '1pm-5pm', '5pm-7pm', '8am-10am','before_8am']]\n",
    "X_test=df_test_rf[['rain','air_temp','weekday','10am-1pm', '1pm-5pm', '5pm-7pm', '8am-10am','before_8am']]\n",
    "\n",
    "y=df_rf['time_between_stops']\n",
    "y_train = df_train_rf['time_between_stops']     # extract the target feature \n",
    "y_test= df_test_rf['time_between_stops']\n",
    "\n",
    "rf = RandomForestRegressor(n_estimators = 1000, random_state = 42) # Instantiate model with 1000 decision trees\n",
    "rf.fit(X_train, y_train)    # Train the model on training data\n"
   ]
  },
  {
   "cell_type": "markdown",
   "metadata": {},
   "source": [
    "### Evaluation metrics of LM and RF "
   ]
  },
  {
   "cell_type": "code",
   "execution_count": 74,
   "metadata": {},
   "outputs": [
    {
     "name": "stdout",
     "output_type": "stream",
     "text": [
      "LINEAR REGRESSION\n",
      "Training set:\n",
      "MSE: 3246.5\n",
      "MAE: 40.271514287584644\n",
      "MAPE: 87.54 %\n",
      "Accuracy: 12.46 %\n",
      "\n",
      "Test set:\n",
      "MSE: 3260.19\n",
      "MAE: 40.300557111000764\n",
      "MAPE: 87.38 %\n",
      "Accuracy: 12.62 %\n",
      "\n",
      "RANDOM FOREST\n",
      "Training set:\n",
      "MSE: 3252.52\n",
      "MAE: 40.07171406371934\n",
      "MAPE: 87.11 %\n",
      "Accuracy: 12.89 %\n",
      "\n",
      "Test set:\n",
      "MSE: 3490.58\n",
      "MAE: 43.84053822194116\n",
      "MAPE: 98.92 %\n",
      "Accuracy: 1.08 %\n"
     ]
    }
   ],
   "source": [
    "def print_metrics(predictions,actual):   # Evaluation function\n",
    "    errors = abs(predictions - actual)   # absolute errors\n",
    "    mae= np.mean(abs(errors))\n",
    "    ape = abs(errors / actual) * 100      # MAPE\n",
    "    accuracy = 100 - np.mean(ape)\n",
    "    print('MSE:', round(np.mean(errors**2), 2))  #MSE\n",
    "    print('MAE:',mae)\n",
    "    print('MAPE:',round(np.mean(ape),2), '%')\n",
    "    print('Accuracy:', round(accuracy, 2), '%')\n",
    "    \n",
    "print ('LINEAR REGRESSION')\n",
    "print ('Training set:')\n",
    "print_metrics(lm.predict(df_train),df_train.time_between_stops )\n",
    "print ('\\nTest set:')\n",
    "print_metrics(lm.predict(df_test), df_test.time_between_stops)\n",
    "\n",
    "print ('\\nRANDOM FOREST')\n",
    "print ('Training set:')\n",
    "print_metrics(rf.predict(X_train),y_train )\n",
    "print ('\\nTest set:')\n",
    "print_metrics(rf.predict(X_test),y_test )\n",
    "\n",
    "def mean_absolute_percentage_error(y_true, y_pred): \n",
    "    y_true, y_pred = np.array(y_true), np.array(y_pred)\n",
    "    return np.mean(np.abs((y_true - y_pred) / y_true)) * 100"
   ]
  },
  {
   "cell_type": "code",
   "execution_count": 60,
   "metadata": {
    "collapsed": true
   },
   "outputs": [],
   "source": [
    "# scores = cross_val_score(RandomForestRegressor(n_estimators=100, max_features='auto', oob_score=True, random_state=1), X, y, scoring='accuracy', cv=3)\n",
    "# print(scores)\n",
    "# print(scores.mean())"
   ]
  },
  {
   "cell_type": "code",
   "execution_count": null,
   "metadata": {
    "collapsed": true
   },
   "outputs": [],
   "source": []
  },
  {
   "cell_type": "code",
   "execution_count": null,
   "metadata": {
    "collapsed": true
   },
   "outputs": [],
   "source": []
  },
  {
   "cell_type": "code",
   "execution_count": null,
   "metadata": {
    "collapsed": true
   },
   "outputs": [],
   "source": []
  }
 ],
 "metadata": {
  "kernelspec": {
   "display_name": "Python 3",
   "language": "python",
   "name": "python3"
  },
  "language_info": {
   "codemirror_mode": {
    "name": "ipython",
    "version": 3
   },
   "file_extension": ".py",
   "mimetype": "text/x-python",
   "name": "python",
   "nbconvert_exporter": "python",
   "pygments_lexer": "ipython3",
   "version": "3.6.3"
  }
 },
 "nbformat": 4,
 "nbformat_minor": 2
}
