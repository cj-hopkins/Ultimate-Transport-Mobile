{
 "cells": [
  {
   "cell_type": "code",
   "execution_count": 1,
   "metadata": {},
   "outputs": [
    {
     "name": "stderr",
     "output_type": "stream",
     "text": [
      "/Users/clawlor90/anaconda3/lib/python3.6/site-packages/sklearn/cross_validation.py:41: DeprecationWarning: This module was deprecated in version 0.18 in favor of the model_selection module into which all the refactored classes and functions are moved. Also note that the interface of the new CV iterators are different from that of this module. This module will be removed in 0.20.\n",
      "  \"This module will be removed in 0.20.\", DeprecationWarning)\n"
     ]
    }
   ],
   "source": [
    "import pandas as pd\n",
    "import numpy as np \n",
    "import matplotlib.pyplot as plt\n",
    "import matplotlib.patches as mpatches\n",
    "import datetime\n",
    "from sklearn import metrics\n",
    "import statsmodels.formula.api as sm\n",
    "# from sklearn.cross_validation import cross_val_score #get deprecation warning \n",
    "from sklearn.linear_model import LogisticRegression\n",
    "from sklearn.linear_model import LinearRegression\n",
    "%matplotlib inline\n",
    "import seaborn as sns\n",
    "from sklearn.utils import shuffle\n",
    "from sklearn.cross_validation import train_test_split\n",
    "from sklearn.cross_validation import cross_val_score,cross_val_predict\n",
    "from sklearn.model_selection import KFold,train_test_split\n",
    "from sklearn.tree import export_graphviz\n",
    "from sklearn.tree import DecisionTreeClassifier\n",
    "from sklearn.ensemble import RandomForestRegressor\n",
    "from sklearn import datasets\n",
    "from sklearn import svm\n",
    "from sklearn.datasets import make_friedman1\n",
    "from sklearn.ensemble import GradientBoostingRegressor\n",
    "from sklearn.metrics import mean_squared_error\n",
    "from sklearn.neural_network import MLPRegressor"
   ]
  },
  {
   "cell_type": "markdown",
   "metadata": {},
   "source": [
    "### Load in the full month of data "
   ]
  },
  {
   "cell_type": "code",
   "execution_count": 2,
   "metadata": {
    "collapsed": true
   },
   "outputs": [],
   "source": [
    "#df1 = pd.read_csv('../../../files/cleanedfeb17.csv', sep=\",\")"
   ]
  },
  {
   "cell_type": "code",
   "execution_count": 3,
   "metadata": {
    "collapsed": true
   },
   "outputs": [],
   "source": [
    "#df1.head()"
   ]
  },
  {
   "cell_type": "code",
   "execution_count": 4,
   "metadata": {
    "collapsed": true
   },
   "outputs": [],
   "source": [
    "#feb_week = df1[(df1['dayofservice'] == '05-FEB-17 00:00:00') | (df1['dayofservice'] == '06-FEB-17 00:00:00') | (df1['dayofservice'] == '07-FEB-17 00:00:00') | (df1['dayofservice'] == '08-FEB-17 00:00:00') | (df1['dayofservice'] == '09-FEB-17 00:00:00') | (df1['dayofservice'] == '10-FEB-17 00:00:00') | (df1['dayofservice'] == '11-FEB-17 00:00:00')]\n"
   ]
  },
  {
   "cell_type": "code",
   "execution_count": 5,
   "metadata": {
    "collapsed": true
   },
   "outputs": [],
   "source": [
    "# feb_week.to_csv('../../../files/febweek.csv',index=False)"
   ]
  },
  {
   "cell_type": "code",
   "execution_count": 6,
   "metadata": {},
   "outputs": [
    {
     "name": "stderr",
     "output_type": "stream",
     "text": [
      "/Users/clawlor90/anaconda3/lib/python3.6/site-packages/IPython/core/interactiveshell.py:2698: DtypeWarning: Columns (8) have mixed types. Specify dtype option on import or set low_memory=False.\n",
      "  interactivity=interactivity, compiler=compiler, result=result)\n"
     ]
    }
   ],
   "source": [
    "feb_week = pd.read_csv('../../../febweekfull.csv',sep=',')"
   ]
  },
  {
   "cell_type": "code",
   "execution_count": 7,
   "metadata": {},
   "outputs": [
    {
     "data": {
      "text/html": [
       "<div>\n",
       "<style>\n",
       "    .dataframe thead tr:only-child th {\n",
       "        text-align: right;\n",
       "    }\n",
       "\n",
       "    .dataframe thead th {\n",
       "        text-align: left;\n",
       "    }\n",
       "\n",
       "    .dataframe tbody tr th {\n",
       "        vertical-align: top;\n",
       "    }\n",
       "</style>\n",
       "<table border=\"1\" class=\"dataframe\">\n",
       "  <thead>\n",
       "    <tr style=\"text-align: right;\">\n",
       "      <th></th>\n",
       "      <th>dayofservice</th>\n",
       "      <th>tripid</th>\n",
       "      <th>progrnumber</th>\n",
       "      <th>stoppointid</th>\n",
       "      <th>plannedtime_arr</th>\n",
       "      <th>plannedtime_dep</th>\n",
       "      <th>actualtime_arr</th>\n",
       "      <th>actualtime_dep</th>\n",
       "      <th>lineid</th>\n",
       "      <th>actualtime</th>\n",
       "      <th>day_of_week</th>\n",
       "      <th>hour</th>\n",
       "      <th>Precipitation</th>\n",
       "      <th>Temperature</th>\n",
       "      <th>Relative Humidity</th>\n",
       "      <th>day_of_week_code</th>\n",
       "      <th>weekday</th>\n",
       "      <th>time_interval</th>\n",
       "    </tr>\n",
       "  </thead>\n",
       "  <tbody>\n",
       "    <tr>\n",
       "      <th>0</th>\n",
       "      <td>2017-02-05</td>\n",
       "      <td>4344622</td>\n",
       "      <td>3</td>\n",
       "      <td>229</td>\n",
       "      <td>36092</td>\n",
       "      <td>36092</td>\n",
       "      <td>35991</td>\n",
       "      <td>36012</td>\n",
       "      <td>1</td>\n",
       "      <td>09:59:51</td>\n",
       "      <td>Sunday</td>\n",
       "      <td>9</td>\n",
       "      <td>None</td>\n",
       "      <td>-2.8</td>\n",
       "      <td>95</td>\n",
       "      <td>6</td>\n",
       "      <td>False</td>\n",
       "      <td>8am-10am</td>\n",
       "    </tr>\n",
       "    <tr>\n",
       "      <th>1</th>\n",
       "      <td>2017-02-05</td>\n",
       "      <td>4344622</td>\n",
       "      <td>9</td>\n",
       "      <td>213</td>\n",
       "      <td>36423</td>\n",
       "      <td>36423</td>\n",
       "      <td>36249</td>\n",
       "      <td>36260</td>\n",
       "      <td>1</td>\n",
       "      <td>10:04:09</td>\n",
       "      <td>Sunday</td>\n",
       "      <td>10</td>\n",
       "      <td>None</td>\n",
       "      <td>0.8</td>\n",
       "      <td>97</td>\n",
       "      <td>6</td>\n",
       "      <td>False</td>\n",
       "      <td>10am-1pm</td>\n",
       "    </tr>\n",
       "    <tr>\n",
       "      <th>2</th>\n",
       "      <td>2017-02-05</td>\n",
       "      <td>4344622</td>\n",
       "      <td>17</td>\n",
       "      <td>47</td>\n",
       "      <td>36726</td>\n",
       "      <td>36726</td>\n",
       "      <td>36626</td>\n",
       "      <td>36626</td>\n",
       "      <td>1</td>\n",
       "      <td>10:10:26</td>\n",
       "      <td>Sunday</td>\n",
       "      <td>10</td>\n",
       "      <td>None</td>\n",
       "      <td>0.8</td>\n",
       "      <td>97</td>\n",
       "      <td>6</td>\n",
       "      <td>False</td>\n",
       "      <td>10am-1pm</td>\n",
       "    </tr>\n",
       "    <tr>\n",
       "      <th>3</th>\n",
       "      <td>2017-02-05</td>\n",
       "      <td>4344622</td>\n",
       "      <td>15</td>\n",
       "      <td>45</td>\n",
       "      <td>36614</td>\n",
       "      <td>36614</td>\n",
       "      <td>36499</td>\n",
       "      <td>36532</td>\n",
       "      <td>1</td>\n",
       "      <td>10:08:19</td>\n",
       "      <td>Sunday</td>\n",
       "      <td>10</td>\n",
       "      <td>None</td>\n",
       "      <td>0.8</td>\n",
       "      <td>97</td>\n",
       "      <td>6</td>\n",
       "      <td>False</td>\n",
       "      <td>10am-1pm</td>\n",
       "    </tr>\n",
       "    <tr>\n",
       "      <th>4</th>\n",
       "      <td>2017-02-05</td>\n",
       "      <td>4344622</td>\n",
       "      <td>23</td>\n",
       "      <td>271</td>\n",
       "      <td>37175</td>\n",
       "      <td>37175</td>\n",
       "      <td>37131</td>\n",
       "      <td>37224</td>\n",
       "      <td>1</td>\n",
       "      <td>10:18:51</td>\n",
       "      <td>Sunday</td>\n",
       "      <td>10</td>\n",
       "      <td>None</td>\n",
       "      <td>0.8</td>\n",
       "      <td>97</td>\n",
       "      <td>6</td>\n",
       "      <td>False</td>\n",
       "      <td>10am-1pm</td>\n",
       "    </tr>\n",
       "  </tbody>\n",
       "</table>\n",
       "</div>"
      ],
      "text/plain": [
       "  dayofservice   tripid  progrnumber  stoppointid  plannedtime_arr  \\\n",
       "0   2017-02-05  4344622            3          229            36092   \n",
       "1   2017-02-05  4344622            9          213            36423   \n",
       "2   2017-02-05  4344622           17           47            36726   \n",
       "3   2017-02-05  4344622           15           45            36614   \n",
       "4   2017-02-05  4344622           23          271            37175   \n",
       "\n",
       "   plannedtime_dep  actualtime_arr  actualtime_dep lineid actualtime  \\\n",
       "0            36092           35991           36012      1   09:59:51   \n",
       "1            36423           36249           36260      1   10:04:09   \n",
       "2            36726           36626           36626      1   10:10:26   \n",
       "3            36614           36499           36532      1   10:08:19   \n",
       "4            37175           37131           37224      1   10:18:51   \n",
       "\n",
       "  day_of_week  hour Precipitation  Temperature  Relative Humidity  \\\n",
       "0      Sunday     9          None         -2.8                 95   \n",
       "1      Sunday    10          None          0.8                 97   \n",
       "2      Sunday    10          None          0.8                 97   \n",
       "3      Sunday    10          None          0.8                 97   \n",
       "4      Sunday    10          None          0.8                 97   \n",
       "\n",
       "   day_of_week_code  weekday time_interval  \n",
       "0                 6    False      8am-10am  \n",
       "1                 6    False      10am-1pm  \n",
       "2                 6    False      10am-1pm  \n",
       "3                 6    False      10am-1pm  \n",
       "4                 6    False      10am-1pm  "
      ]
     },
     "execution_count": 7,
     "metadata": {},
     "output_type": "execute_result"
    }
   ],
   "source": [
    "feb_week.head()"
   ]
  },
  {
   "cell_type": "code",
   "execution_count": 8,
   "metadata": {},
   "outputs": [
    {
     "data": {
      "text/html": [
       "<div>\n",
       "<style>\n",
       "    .dataframe thead tr:only-child th {\n",
       "        text-align: right;\n",
       "    }\n",
       "\n",
       "    .dataframe thead th {\n",
       "        text-align: left;\n",
       "    }\n",
       "\n",
       "    .dataframe tbody tr th {\n",
       "        vertical-align: top;\n",
       "    }\n",
       "</style>\n",
       "<table border=\"1\" class=\"dataframe\">\n",
       "  <thead>\n",
       "    <tr style=\"text-align: right;\">\n",
       "      <th></th>\n",
       "      <th>dayofservice</th>\n",
       "      <th>tripid</th>\n",
       "      <th>progrnumber</th>\n",
       "      <th>stoppointid</th>\n",
       "      <th>plannedtime_arr</th>\n",
       "      <th>plannedtime_dep</th>\n",
       "      <th>actualtime_arr</th>\n",
       "      <th>actualtime_dep</th>\n",
       "      <th>lineid</th>\n",
       "      <th>actualtime</th>\n",
       "      <th>day_of_week</th>\n",
       "      <th>hour</th>\n",
       "      <th>Precipitation</th>\n",
       "      <th>Temperature</th>\n",
       "      <th>Relative Humidity</th>\n",
       "      <th>day_of_week_code</th>\n",
       "      <th>weekday</th>\n",
       "      <th>time_interval</th>\n",
       "    </tr>\n",
       "  </thead>\n",
       "  <tbody>\n",
       "    <tr>\n",
       "      <th>1663294</th>\n",
       "      <td>2017-02-11</td>\n",
       "      <td>4327281</td>\n",
       "      <td>12</td>\n",
       "      <td>2434</td>\n",
       "      <td>84062</td>\n",
       "      <td>84062</td>\n",
       "      <td>84075</td>\n",
       "      <td>84089</td>\n",
       "      <td>9</td>\n",
       "      <td>23:21:15</td>\n",
       "      <td>Saturday</td>\n",
       "      <td>23</td>\n",
       "      <td>Slight</td>\n",
       "      <td>5.0</td>\n",
       "      <td>85</td>\n",
       "      <td>5</td>\n",
       "      <td>False</td>\n",
       "      <td>after_7pm</td>\n",
       "    </tr>\n",
       "    <tr>\n",
       "      <th>1663295</th>\n",
       "      <td>2017-02-11</td>\n",
       "      <td>4327281</td>\n",
       "      <td>13</td>\n",
       "      <td>2435</td>\n",
       "      <td>84098</td>\n",
       "      <td>84098</td>\n",
       "      <td>84121</td>\n",
       "      <td>84121</td>\n",
       "      <td>9</td>\n",
       "      <td>23:22:01</td>\n",
       "      <td>Saturday</td>\n",
       "      <td>23</td>\n",
       "      <td>Slight</td>\n",
       "      <td>5.0</td>\n",
       "      <td>85</td>\n",
       "      <td>5</td>\n",
       "      <td>False</td>\n",
       "      <td>after_7pm</td>\n",
       "    </tr>\n",
       "    <tr>\n",
       "      <th>1663296</th>\n",
       "      <td>2017-02-11</td>\n",
       "      <td>4327281</td>\n",
       "      <td>14</td>\n",
       "      <td>2436</td>\n",
       "      <td>84114</td>\n",
       "      <td>84114</td>\n",
       "      <td>84133</td>\n",
       "      <td>84133</td>\n",
       "      <td>9</td>\n",
       "      <td>23:22:13</td>\n",
       "      <td>Saturday</td>\n",
       "      <td>23</td>\n",
       "      <td>Slight</td>\n",
       "      <td>5.0</td>\n",
       "      <td>85</td>\n",
       "      <td>5</td>\n",
       "      <td>False</td>\n",
       "      <td>after_7pm</td>\n",
       "    </tr>\n",
       "    <tr>\n",
       "      <th>1663297</th>\n",
       "      <td>2017-02-11</td>\n",
       "      <td>4327281</td>\n",
       "      <td>15</td>\n",
       "      <td>2437</td>\n",
       "      <td>84159</td>\n",
       "      <td>84159</td>\n",
       "      <td>84181</td>\n",
       "      <td>84197</td>\n",
       "      <td>9</td>\n",
       "      <td>23:23:01</td>\n",
       "      <td>Saturday</td>\n",
       "      <td>23</td>\n",
       "      <td>Slight</td>\n",
       "      <td>5.0</td>\n",
       "      <td>85</td>\n",
       "      <td>5</td>\n",
       "      <td>False</td>\n",
       "      <td>after_7pm</td>\n",
       "    </tr>\n",
       "    <tr>\n",
       "      <th>1663298</th>\n",
       "      <td>2017-02-11</td>\n",
       "      <td>4327281</td>\n",
       "      <td>3</td>\n",
       "      <td>2446</td>\n",
       "      <td>83762</td>\n",
       "      <td>83762</td>\n",
       "      <td>83737</td>\n",
       "      <td>83754</td>\n",
       "      <td>9</td>\n",
       "      <td>23:15:37</td>\n",
       "      <td>Saturday</td>\n",
       "      <td>23</td>\n",
       "      <td>Slight</td>\n",
       "      <td>5.0</td>\n",
       "      <td>85</td>\n",
       "      <td>5</td>\n",
       "      <td>False</td>\n",
       "      <td>after_7pm</td>\n",
       "    </tr>\n",
       "  </tbody>\n",
       "</table>\n",
       "</div>"
      ],
      "text/plain": [
       "        dayofservice   tripid  progrnumber  stoppointid  plannedtime_arr  \\\n",
       "1663294   2017-02-11  4327281           12         2434            84062   \n",
       "1663295   2017-02-11  4327281           13         2435            84098   \n",
       "1663296   2017-02-11  4327281           14         2436            84114   \n",
       "1663297   2017-02-11  4327281           15         2437            84159   \n",
       "1663298   2017-02-11  4327281            3         2446            83762   \n",
       "\n",
       "         plannedtime_dep  actualtime_arr  actualtime_dep lineid actualtime  \\\n",
       "1663294            84062           84075           84089      9   23:21:15   \n",
       "1663295            84098           84121           84121      9   23:22:01   \n",
       "1663296            84114           84133           84133      9   23:22:13   \n",
       "1663297            84159           84181           84197      9   23:23:01   \n",
       "1663298            83762           83737           83754      9   23:15:37   \n",
       "\n",
       "        day_of_week  hour Precipitation  Temperature  Relative Humidity  \\\n",
       "1663294    Saturday    23        Slight          5.0                 85   \n",
       "1663295    Saturday    23        Slight          5.0                 85   \n",
       "1663296    Saturday    23        Slight          5.0                 85   \n",
       "1663297    Saturday    23        Slight          5.0                 85   \n",
       "1663298    Saturday    23        Slight          5.0                 85   \n",
       "\n",
       "         day_of_week_code  weekday time_interval  \n",
       "1663294                 5    False     after_7pm  \n",
       "1663295                 5    False     after_7pm  \n",
       "1663296                 5    False     after_7pm  \n",
       "1663297                 5    False     after_7pm  \n",
       "1663298                 5    False     after_7pm  "
      ]
     },
     "execution_count": 8,
     "metadata": {},
     "output_type": "execute_result"
    }
   ],
   "source": [
    "feb_week.tail()"
   ]
  },
  {
   "cell_type": "markdown",
   "metadata": {},
   "source": [
    "### Sort columns out"
   ]
  },
  {
   "cell_type": "code",
   "execution_count": 9,
   "metadata": {
    "collapsed": true
   },
   "outputs": [],
   "source": [
    "feb_week['dayofservice'] = pd.to_datetime(feb_week['dayofservice'])\n",
    "feb_week['actualtime'] = pd.to_datetime(feb_week['actualtime_arr'],unit='s').dt.time"
   ]
  },
  {
   "cell_type": "code",
   "execution_count": 10,
   "metadata": {},
   "outputs": [
    {
     "data": {
      "text/plain": [
       "dayofservice         datetime64[ns]\n",
       "tripid                        int64\n",
       "progrnumber                   int64\n",
       "stoppointid                   int64\n",
       "plannedtime_arr               int64\n",
       "plannedtime_dep               int64\n",
       "actualtime_arr                int64\n",
       "actualtime_dep                int64\n",
       "lineid                       object\n",
       "actualtime                   object\n",
       "day_of_week                  object\n",
       "hour                          int64\n",
       "Precipitation                object\n",
       "Temperature                 float64\n",
       "Relative Humidity             int64\n",
       "day_of_week_code              int64\n",
       "weekday                        bool\n",
       "time_interval                object\n",
       "dtype: object"
      ]
     },
     "execution_count": 10,
     "metadata": {},
     "output_type": "execute_result"
    }
   ],
   "source": [
    "feb_week.dtypes"
   ]
  },
  {
   "cell_type": "markdown",
   "metadata": {},
   "source": [
    "### Create a column for the day of the week and the hour to which the data relates"
   ]
  },
  {
   "cell_type": "code",
   "execution_count": 11,
   "metadata": {},
   "outputs": [],
   "source": [
    "feb_week['day_of_week'] =feb_week.dayofservice.dt.weekday_name\n",
    "feb_week['hour'] = pd.to_datetime(feb_week['actualtime_arr'],unit='s').dt.hour"
   ]
  },
  {
   "cell_type": "code",
   "execution_count": 12,
   "metadata": {
    "collapsed": true
   },
   "outputs": [],
   "source": [
    "feb_week = feb_week.reset_index()"
   ]
  },
  {
   "cell_type": "code",
   "execution_count": 13,
   "metadata": {},
   "outputs": [
    {
     "data": {
      "text/html": [
       "<div>\n",
       "<style>\n",
       "    .dataframe thead tr:only-child th {\n",
       "        text-align: right;\n",
       "    }\n",
       "\n",
       "    .dataframe thead th {\n",
       "        text-align: left;\n",
       "    }\n",
       "\n",
       "    .dataframe tbody tr th {\n",
       "        vertical-align: top;\n",
       "    }\n",
       "</style>\n",
       "<table border=\"1\" class=\"dataframe\">\n",
       "  <thead>\n",
       "    <tr style=\"text-align: right;\">\n",
       "      <th></th>\n",
       "      <th>index</th>\n",
       "      <th>dayofservice</th>\n",
       "      <th>tripid</th>\n",
       "      <th>progrnumber</th>\n",
       "      <th>stoppointid</th>\n",
       "      <th>plannedtime_arr</th>\n",
       "      <th>plannedtime_dep</th>\n",
       "      <th>actualtime_arr</th>\n",
       "      <th>actualtime_dep</th>\n",
       "      <th>lineid</th>\n",
       "      <th>actualtime</th>\n",
       "      <th>day_of_week</th>\n",
       "      <th>hour</th>\n",
       "      <th>Precipitation</th>\n",
       "      <th>Temperature</th>\n",
       "      <th>Relative Humidity</th>\n",
       "      <th>day_of_week_code</th>\n",
       "      <th>weekday</th>\n",
       "      <th>time_interval</th>\n",
       "    </tr>\n",
       "  </thead>\n",
       "  <tbody>\n",
       "    <tr>\n",
       "      <th>0</th>\n",
       "      <td>0</td>\n",
       "      <td>2017-02-05</td>\n",
       "      <td>4344622</td>\n",
       "      <td>3</td>\n",
       "      <td>229</td>\n",
       "      <td>36092</td>\n",
       "      <td>36092</td>\n",
       "      <td>35991</td>\n",
       "      <td>36012</td>\n",
       "      <td>1</td>\n",
       "      <td>09:59:51</td>\n",
       "      <td>Sunday</td>\n",
       "      <td>9</td>\n",
       "      <td>None</td>\n",
       "      <td>-2.8</td>\n",
       "      <td>95</td>\n",
       "      <td>6</td>\n",
       "      <td>False</td>\n",
       "      <td>8am-10am</td>\n",
       "    </tr>\n",
       "  </tbody>\n",
       "</table>\n",
       "</div>"
      ],
      "text/plain": [
       "   index dayofservice   tripid  progrnumber  stoppointid  plannedtime_arr  \\\n",
       "0      0   2017-02-05  4344622            3          229            36092   \n",
       "\n",
       "   plannedtime_dep  actualtime_arr  actualtime_dep lineid actualtime  \\\n",
       "0            36092           35991           36012      1   09:59:51   \n",
       "\n",
       "  day_of_week  hour Precipitation  Temperature  Relative Humidity  \\\n",
       "0      Sunday     9          None         -2.8                 95   \n",
       "\n",
       "   day_of_week_code  weekday time_interval  \n",
       "0                 6    False      8am-10am  "
      ]
     },
     "execution_count": 13,
     "metadata": {},
     "output_type": "execute_result"
    }
   ],
   "source": [
    "feb_week.head(1)"
   ]
  },
  {
   "cell_type": "code",
   "execution_count": 14,
   "metadata": {
    "scrolled": true
   },
   "outputs": [
    {
     "data": {
      "text/plain": [
       "index                         int64\n",
       "dayofservice         datetime64[ns]\n",
       "tripid                        int64\n",
       "progrnumber                   int64\n",
       "stoppointid                   int64\n",
       "plannedtime_arr               int64\n",
       "plannedtime_dep               int64\n",
       "actualtime_arr                int64\n",
       "actualtime_dep                int64\n",
       "lineid                       object\n",
       "actualtime                   object\n",
       "day_of_week                  object\n",
       "hour                          int64\n",
       "Precipitation                object\n",
       "Temperature                 float64\n",
       "Relative Humidity             int64\n",
       "day_of_week_code              int64\n",
       "weekday                        bool\n",
       "time_interval                object\n",
       "dtype: object"
      ]
     },
     "execution_count": 14,
     "metadata": {},
     "output_type": "execute_result"
    }
   ],
   "source": [
    "feb_week.dtypes"
   ]
  },
  {
   "cell_type": "code",
   "execution_count": 15,
   "metadata": {},
   "outputs": [
    {
     "data": {
      "text/html": [
       "<div>\n",
       "<style>\n",
       "    .dataframe thead tr:only-child th {\n",
       "        text-align: right;\n",
       "    }\n",
       "\n",
       "    .dataframe thead th {\n",
       "        text-align: left;\n",
       "    }\n",
       "\n",
       "    .dataframe tbody tr th {\n",
       "        vertical-align: top;\n",
       "    }\n",
       "</style>\n",
       "<table border=\"1\" class=\"dataframe\">\n",
       "  <thead>\n",
       "    <tr style=\"text-align: right;\">\n",
       "      <th></th>\n",
       "      <th>index</th>\n",
       "      <th>dayofservice</th>\n",
       "      <th>tripid</th>\n",
       "      <th>progrnumber</th>\n",
       "      <th>stoppointid</th>\n",
       "      <th>plannedtime_arr</th>\n",
       "      <th>plannedtime_dep</th>\n",
       "      <th>actualtime_arr</th>\n",
       "      <th>actualtime_dep</th>\n",
       "      <th>lineid</th>\n",
       "      <th>actualtime</th>\n",
       "      <th>day_of_week</th>\n",
       "      <th>hour</th>\n",
       "      <th>Precipitation</th>\n",
       "      <th>Temperature</th>\n",
       "      <th>Relative Humidity</th>\n",
       "      <th>day_of_week_code</th>\n",
       "      <th>weekday</th>\n",
       "      <th>time_interval</th>\n",
       "    </tr>\n",
       "  </thead>\n",
       "  <tbody>\n",
       "    <tr>\n",
       "      <th>0</th>\n",
       "      <td>0</td>\n",
       "      <td>2017-02-05</td>\n",
       "      <td>4344622</td>\n",
       "      <td>3</td>\n",
       "      <td>229</td>\n",
       "      <td>36092</td>\n",
       "      <td>36092</td>\n",
       "      <td>35991</td>\n",
       "      <td>36012</td>\n",
       "      <td>1</td>\n",
       "      <td>09:59:51</td>\n",
       "      <td>Sunday</td>\n",
       "      <td>9</td>\n",
       "      <td>None</td>\n",
       "      <td>-2.8</td>\n",
       "      <td>95</td>\n",
       "      <td>6</td>\n",
       "      <td>False</td>\n",
       "      <td>8am-10am</td>\n",
       "    </tr>\n",
       "    <tr>\n",
       "      <th>1</th>\n",
       "      <td>1</td>\n",
       "      <td>2017-02-05</td>\n",
       "      <td>4344622</td>\n",
       "      <td>9</td>\n",
       "      <td>213</td>\n",
       "      <td>36423</td>\n",
       "      <td>36423</td>\n",
       "      <td>36249</td>\n",
       "      <td>36260</td>\n",
       "      <td>1</td>\n",
       "      <td>10:04:09</td>\n",
       "      <td>Sunday</td>\n",
       "      <td>10</td>\n",
       "      <td>None</td>\n",
       "      <td>0.8</td>\n",
       "      <td>97</td>\n",
       "      <td>6</td>\n",
       "      <td>False</td>\n",
       "      <td>10am-1pm</td>\n",
       "    </tr>\n",
       "    <tr>\n",
       "      <th>2</th>\n",
       "      <td>2</td>\n",
       "      <td>2017-02-05</td>\n",
       "      <td>4344622</td>\n",
       "      <td>17</td>\n",
       "      <td>47</td>\n",
       "      <td>36726</td>\n",
       "      <td>36726</td>\n",
       "      <td>36626</td>\n",
       "      <td>36626</td>\n",
       "      <td>1</td>\n",
       "      <td>10:10:26</td>\n",
       "      <td>Sunday</td>\n",
       "      <td>10</td>\n",
       "      <td>None</td>\n",
       "      <td>0.8</td>\n",
       "      <td>97</td>\n",
       "      <td>6</td>\n",
       "      <td>False</td>\n",
       "      <td>10am-1pm</td>\n",
       "    </tr>\n",
       "    <tr>\n",
       "      <th>3</th>\n",
       "      <td>3</td>\n",
       "      <td>2017-02-05</td>\n",
       "      <td>4344622</td>\n",
       "      <td>15</td>\n",
       "      <td>45</td>\n",
       "      <td>36614</td>\n",
       "      <td>36614</td>\n",
       "      <td>36499</td>\n",
       "      <td>36532</td>\n",
       "      <td>1</td>\n",
       "      <td>10:08:19</td>\n",
       "      <td>Sunday</td>\n",
       "      <td>10</td>\n",
       "      <td>None</td>\n",
       "      <td>0.8</td>\n",
       "      <td>97</td>\n",
       "      <td>6</td>\n",
       "      <td>False</td>\n",
       "      <td>10am-1pm</td>\n",
       "    </tr>\n",
       "    <tr>\n",
       "      <th>4</th>\n",
       "      <td>4</td>\n",
       "      <td>2017-02-05</td>\n",
       "      <td>4344622</td>\n",
       "      <td>23</td>\n",
       "      <td>271</td>\n",
       "      <td>37175</td>\n",
       "      <td>37175</td>\n",
       "      <td>37131</td>\n",
       "      <td>37224</td>\n",
       "      <td>1</td>\n",
       "      <td>10:18:51</td>\n",
       "      <td>Sunday</td>\n",
       "      <td>10</td>\n",
       "      <td>None</td>\n",
       "      <td>0.8</td>\n",
       "      <td>97</td>\n",
       "      <td>6</td>\n",
       "      <td>False</td>\n",
       "      <td>10am-1pm</td>\n",
       "    </tr>\n",
       "  </tbody>\n",
       "</table>\n",
       "</div>"
      ],
      "text/plain": [
       "   index dayofservice   tripid  progrnumber  stoppointid  plannedtime_arr  \\\n",
       "0      0   2017-02-05  4344622            3          229            36092   \n",
       "1      1   2017-02-05  4344622            9          213            36423   \n",
       "2      2   2017-02-05  4344622           17           47            36726   \n",
       "3      3   2017-02-05  4344622           15           45            36614   \n",
       "4      4   2017-02-05  4344622           23          271            37175   \n",
       "\n",
       "   plannedtime_dep  actualtime_arr  actualtime_dep lineid actualtime  \\\n",
       "0            36092           35991           36012      1   09:59:51   \n",
       "1            36423           36249           36260      1   10:04:09   \n",
       "2            36726           36626           36626      1   10:10:26   \n",
       "3            36614           36499           36532      1   10:08:19   \n",
       "4            37175           37131           37224      1   10:18:51   \n",
       "\n",
       "  day_of_week  hour Precipitation  Temperature  Relative Humidity  \\\n",
       "0      Sunday     9          None         -2.8                 95   \n",
       "1      Sunday    10          None          0.8                 97   \n",
       "2      Sunday    10          None          0.8                 97   \n",
       "3      Sunday    10          None          0.8                 97   \n",
       "4      Sunday    10          None          0.8                 97   \n",
       "\n",
       "   day_of_week_code  weekday time_interval  \n",
       "0                 6    False      8am-10am  \n",
       "1                 6    False      10am-1pm  \n",
       "2                 6    False      10am-1pm  \n",
       "3                 6    False      10am-1pm  \n",
       "4                 6    False      10am-1pm  "
      ]
     },
     "execution_count": 15,
     "metadata": {},
     "output_type": "execute_result"
    }
   ],
   "source": [
    "feb_week.head()"
   ]
  },
  {
   "cell_type": "code",
   "execution_count": 16,
   "metadata": {},
   "outputs": [
    {
     "data": {
      "text/plain": [
       "index                         int64\n",
       "dayofservice         datetime64[ns]\n",
       "tripid                        int64\n",
       "progrnumber                   int64\n",
       "stoppointid                   int64\n",
       "plannedtime_arr               int64\n",
       "plannedtime_dep               int64\n",
       "actualtime_arr                int64\n",
       "actualtime_dep                int64\n",
       "lineid                       object\n",
       "actualtime                   object\n",
       "day_of_week                  object\n",
       "hour                          int64\n",
       "Precipitation                object\n",
       "Temperature                 float64\n",
       "Relative Humidity             int64\n",
       "day_of_week_code              int64\n",
       "weekday                        bool\n",
       "time_interval                object\n",
       "dtype: object"
      ]
     },
     "execution_count": 16,
     "metadata": {},
     "output_type": "execute_result"
    }
   ],
   "source": [
    "feb_week.dtypes"
   ]
  },
  {
   "cell_type": "code",
   "execution_count": 17,
   "metadata": {},
   "outputs": [],
   "source": [
    "feb_week['day_of_week_code'] =feb_week.dayofservice.dt.dayofweek\n",
    "feb_week['weekday'] = feb_week['day_of_week_code']<5\n",
    "feb_week['time_interval'] = pd.cut(feb_week['hour'], [4,7, 9, 12,16,18,23], labels=['before_8am','8am-10am','10am-1pm','1pm-5pm','5pm-7pm','after_7pm'])"
   ]
  },
  {
   "cell_type": "code",
   "execution_count": 18,
   "metadata": {
    "collapsed": true
   },
   "outputs": [],
   "source": [
    "feb_week.set_index(['dayofservice'], inplace=True)\n",
    "feb_week = feb_week.sort_values(by=['tripid', 'progrnumber'], ascending=True)"
   ]
  },
  {
   "cell_type": "code",
   "execution_count": 19,
   "metadata": {},
   "outputs": [
    {
     "ename": "KeyboardInterrupt",
     "evalue": "",
     "output_type": "error",
     "traceback": [
      "\u001b[0;31m---------------------------------------------------------------------------\u001b[0m",
      "\u001b[0;31mTypeError\u001b[0m                                 Traceback (most recent call last)",
      "\u001b[0;32m~/anaconda3/lib/python3.6/site-packages/pandas/core/groupby.py\u001b[0m in \u001b[0;36mwrapper\u001b[0;34m(*args, **kwargs)\u001b[0m\n\u001b[1;32m    597\u001b[0m             \u001b[0;32mtry\u001b[0m\u001b[0;34m:\u001b[0m\u001b[0;34m\u001b[0m\u001b[0m\n\u001b[0;32m--> 598\u001b[0;31m                 \u001b[0;32mreturn\u001b[0m \u001b[0mself\u001b[0m\u001b[0;34m.\u001b[0m\u001b[0mapply\u001b[0m\u001b[0;34m(\u001b[0m\u001b[0mcurried_with_axis\u001b[0m\u001b[0;34m)\u001b[0m\u001b[0;34m\u001b[0m\u001b[0m\n\u001b[0m\u001b[1;32m    599\u001b[0m             \u001b[0;32mexcept\u001b[0m \u001b[0mException\u001b[0m\u001b[0;34m:\u001b[0m\u001b[0;34m\u001b[0m\u001b[0m\n",
      "\u001b[0;32m~/anaconda3/lib/python3.6/site-packages/pandas/core/groupby.py\u001b[0m in \u001b[0;36mapply\u001b[0;34m(self, func, *args, **kwargs)\u001b[0m\n\u001b[1;32m    715\u001b[0m         \u001b[0;32mwith\u001b[0m \u001b[0moption_context\u001b[0m\u001b[0;34m(\u001b[0m\u001b[0;34m'mode.chained_assignment'\u001b[0m\u001b[0;34m,\u001b[0m \u001b[0;32mNone\u001b[0m\u001b[0;34m)\u001b[0m\u001b[0;34m:\u001b[0m\u001b[0;34m\u001b[0m\u001b[0m\n\u001b[0;32m--> 716\u001b[0;31m             \u001b[0;32mreturn\u001b[0m \u001b[0mself\u001b[0m\u001b[0;34m.\u001b[0m\u001b[0m_python_apply_general\u001b[0m\u001b[0;34m(\u001b[0m\u001b[0mf\u001b[0m\u001b[0;34m)\u001b[0m\u001b[0;34m\u001b[0m\u001b[0m\n\u001b[0m\u001b[1;32m    717\u001b[0m \u001b[0;34m\u001b[0m\u001b[0m\n",
      "\u001b[0;32m~/anaconda3/lib/python3.6/site-packages/pandas/core/groupby.py\u001b[0m in \u001b[0;36m_python_apply_general\u001b[0;34m(self, f)\u001b[0m\n\u001b[1;32m    719\u001b[0m         keys, values, mutated = self.grouper.apply(f, self._selected_obj,\n\u001b[0;32m--> 720\u001b[0;31m                                                    self.axis)\n\u001b[0m\u001b[1;32m    721\u001b[0m \u001b[0;34m\u001b[0m\u001b[0m\n",
      "\u001b[0;32m~/anaconda3/lib/python3.6/site-packages/pandas/core/groupby.py\u001b[0m in \u001b[0;36mapply\u001b[0;34m(self, f, data, axis)\u001b[0m\n\u001b[1;32m   1801\u001b[0m             \u001b[0mgroup_axes\u001b[0m \u001b[0;34m=\u001b[0m \u001b[0m_get_axes\u001b[0m\u001b[0;34m(\u001b[0m\u001b[0mgroup\u001b[0m\u001b[0;34m)\u001b[0m\u001b[0;34m\u001b[0m\u001b[0m\n\u001b[0;32m-> 1802\u001b[0;31m             \u001b[0mres\u001b[0m \u001b[0;34m=\u001b[0m \u001b[0mf\u001b[0m\u001b[0;34m(\u001b[0m\u001b[0mgroup\u001b[0m\u001b[0;34m)\u001b[0m\u001b[0;34m\u001b[0m\u001b[0m\n\u001b[0m\u001b[1;32m   1803\u001b[0m             \u001b[0;32mif\u001b[0m \u001b[0;32mnot\u001b[0m \u001b[0m_is_indexed_like\u001b[0m\u001b[0;34m(\u001b[0m\u001b[0mres\u001b[0m\u001b[0;34m,\u001b[0m \u001b[0mgroup_axes\u001b[0m\u001b[0;34m)\u001b[0m\u001b[0;34m:\u001b[0m\u001b[0;34m\u001b[0m\u001b[0m\n",
      "\u001b[0;32m~/anaconda3/lib/python3.6/site-packages/pandas/core/groupby.py\u001b[0m in \u001b[0;36mcurried_with_axis\u001b[0;34m(x)\u001b[0m\n\u001b[1;32m    582\u001b[0m             \u001b[0;32mdef\u001b[0m \u001b[0mcurried_with_axis\u001b[0m\u001b[0;34m(\u001b[0m\u001b[0mx\u001b[0m\u001b[0;34m)\u001b[0m\u001b[0;34m:\u001b[0m\u001b[0;34m\u001b[0m\u001b[0m\n\u001b[0;32m--> 583\u001b[0;31m                 \u001b[0;32mreturn\u001b[0m \u001b[0mf\u001b[0m\u001b[0;34m(\u001b[0m\u001b[0mx\u001b[0m\u001b[0;34m,\u001b[0m \u001b[0;34m*\u001b[0m\u001b[0margs\u001b[0m\u001b[0;34m,\u001b[0m \u001b[0;34m**\u001b[0m\u001b[0mkwargs_with_axis\u001b[0m\u001b[0;34m)\u001b[0m\u001b[0;34m\u001b[0m\u001b[0m\n\u001b[0m\u001b[1;32m    584\u001b[0m \u001b[0;34m\u001b[0m\u001b[0m\n",
      "\u001b[0;31mTypeError\u001b[0m: diff() got an unexpected keyword argument 'axis'",
      "\nDuring handling of the above exception, another exception occurred:\n",
      "\u001b[0;31mKeyboardInterrupt\u001b[0m                         Traceback (most recent call last)",
      "\u001b[0;32m<ipython-input-19-ba50e389dcce>\u001b[0m in \u001b[0;36m<module>\u001b[0;34m()\u001b[0m\n\u001b[0;32m----> 1\u001b[0;31m \u001b[0mfeb_week\u001b[0m\u001b[0;34m[\u001b[0m\u001b[0;34m'time_between_stops'\u001b[0m\u001b[0;34m]\u001b[0m \u001b[0;34m=\u001b[0m \u001b[0mfeb_week\u001b[0m\u001b[0;34m.\u001b[0m\u001b[0mgroupby\u001b[0m\u001b[0;34m(\u001b[0m\u001b[0mlevel\u001b[0m\u001b[0;34m=\u001b[0m\u001b[0;36m0\u001b[0m\u001b[0;34m)\u001b[0m\u001b[0;34m[\u001b[0m\u001b[0;34m'actualtime_arr'\u001b[0m\u001b[0;34m]\u001b[0m\u001b[0;34m.\u001b[0m\u001b[0mdiff\u001b[0m\u001b[0;34m(\u001b[0m\u001b[0;34m)\u001b[0m\u001b[0;34m\u001b[0m\u001b[0m\n\u001b[0m",
      "\u001b[0;32m~/anaconda3/lib/python3.6/site-packages/pandas/core/groupby.py\u001b[0m in \u001b[0;36mwrapper\u001b[0;34m(*args, **kwargs)\u001b[0m\n\u001b[1;32m    599\u001b[0m             \u001b[0;32mexcept\u001b[0m \u001b[0mException\u001b[0m\u001b[0;34m:\u001b[0m\u001b[0;34m\u001b[0m\u001b[0m\n\u001b[1;32m    600\u001b[0m                 \u001b[0;32mtry\u001b[0m\u001b[0;34m:\u001b[0m\u001b[0;34m\u001b[0m\u001b[0m\n\u001b[0;32m--> 601\u001b[0;31m                     \u001b[0;32mreturn\u001b[0m \u001b[0mself\u001b[0m\u001b[0;34m.\u001b[0m\u001b[0mapply\u001b[0m\u001b[0;34m(\u001b[0m\u001b[0mcurried\u001b[0m\u001b[0;34m)\u001b[0m\u001b[0;34m\u001b[0m\u001b[0m\n\u001b[0m\u001b[1;32m    602\u001b[0m                 \u001b[0;32mexcept\u001b[0m \u001b[0mException\u001b[0m\u001b[0;34m:\u001b[0m\u001b[0;34m\u001b[0m\u001b[0m\n\u001b[1;32m    603\u001b[0m \u001b[0;34m\u001b[0m\u001b[0m\n",
      "\u001b[0;32m~/anaconda3/lib/python3.6/site-packages/pandas/core/groupby.py\u001b[0m in \u001b[0;36mapply\u001b[0;34m(self, func, *args, **kwargs)\u001b[0m\n\u001b[1;32m    714\u001b[0m         \u001b[0;31m# ignore SettingWithCopy here in case the user mutates\u001b[0m\u001b[0;34m\u001b[0m\u001b[0;34m\u001b[0m\u001b[0m\n\u001b[1;32m    715\u001b[0m         \u001b[0;32mwith\u001b[0m \u001b[0moption_context\u001b[0m\u001b[0;34m(\u001b[0m\u001b[0;34m'mode.chained_assignment'\u001b[0m\u001b[0;34m,\u001b[0m \u001b[0;32mNone\u001b[0m\u001b[0;34m)\u001b[0m\u001b[0;34m:\u001b[0m\u001b[0;34m\u001b[0m\u001b[0m\n\u001b[0;32m--> 716\u001b[0;31m             \u001b[0;32mreturn\u001b[0m \u001b[0mself\u001b[0m\u001b[0;34m.\u001b[0m\u001b[0m_python_apply_general\u001b[0m\u001b[0;34m(\u001b[0m\u001b[0mf\u001b[0m\u001b[0;34m)\u001b[0m\u001b[0;34m\u001b[0m\u001b[0m\n\u001b[0m\u001b[1;32m    717\u001b[0m \u001b[0;34m\u001b[0m\u001b[0m\n\u001b[1;32m    718\u001b[0m     \u001b[0;32mdef\u001b[0m \u001b[0m_python_apply_general\u001b[0m\u001b[0;34m(\u001b[0m\u001b[0mself\u001b[0m\u001b[0;34m,\u001b[0m \u001b[0mf\u001b[0m\u001b[0;34m)\u001b[0m\u001b[0;34m:\u001b[0m\u001b[0;34m\u001b[0m\u001b[0m\n",
      "\u001b[0;32m~/anaconda3/lib/python3.6/site-packages/pandas/core/groupby.py\u001b[0m in \u001b[0;36m_python_apply_general\u001b[0;34m(self, f)\u001b[0m\n\u001b[1;32m    723\u001b[0m             \u001b[0mkeys\u001b[0m\u001b[0;34m,\u001b[0m\u001b[0;34m\u001b[0m\u001b[0m\n\u001b[1;32m    724\u001b[0m             \u001b[0mvalues\u001b[0m\u001b[0;34m,\u001b[0m\u001b[0;34m\u001b[0m\u001b[0m\n\u001b[0;32m--> 725\u001b[0;31m             not_indexed_same=mutated or self.mutated)\n\u001b[0m\u001b[1;32m    726\u001b[0m \u001b[0;34m\u001b[0m\u001b[0m\n\u001b[1;32m    727\u001b[0m     \u001b[0;32mdef\u001b[0m \u001b[0m_iterate_slices\u001b[0m\u001b[0;34m(\u001b[0m\u001b[0mself\u001b[0m\u001b[0;34m)\u001b[0m\u001b[0;34m:\u001b[0m\u001b[0;34m\u001b[0m\u001b[0m\n",
      "\u001b[0;32m~/anaconda3/lib/python3.6/site-packages/pandas/core/groupby.py\u001b[0m in \u001b[0;36m_wrap_applied_output\u001b[0;34m(self, keys, values, not_indexed_same)\u001b[0m\n\u001b[1;32m   2998\u001b[0m         \u001b[0;32mif\u001b[0m \u001b[0misinstance\u001b[0m\u001b[0;34m(\u001b[0m\u001b[0mvalues\u001b[0m\u001b[0;34m[\u001b[0m\u001b[0;36m0\u001b[0m\u001b[0;34m]\u001b[0m\u001b[0;34m,\u001b[0m \u001b[0;34m(\u001b[0m\u001b[0mSeries\u001b[0m\u001b[0;34m,\u001b[0m \u001b[0mdict\u001b[0m\u001b[0;34m)\u001b[0m\u001b[0;34m)\u001b[0m\u001b[0;34m:\u001b[0m\u001b[0;34m\u001b[0m\u001b[0m\n\u001b[1;32m   2999\u001b[0m             return self._concat_objects(keys, values,\n\u001b[0;32m-> 3000\u001b[0;31m                                         not_indexed_same=not_indexed_same)\n\u001b[0m\u001b[1;32m   3001\u001b[0m         \u001b[0;32melif\u001b[0m \u001b[0misinstance\u001b[0m\u001b[0;34m(\u001b[0m\u001b[0mvalues\u001b[0m\u001b[0;34m[\u001b[0m\u001b[0;36m0\u001b[0m\u001b[0;34m]\u001b[0m\u001b[0;34m,\u001b[0m \u001b[0mDataFrame\u001b[0m\u001b[0;34m)\u001b[0m\u001b[0;34m:\u001b[0m\u001b[0;34m\u001b[0m\u001b[0m\n\u001b[1;32m   3002\u001b[0m             \u001b[0;31m# possible that Series -> DataFrame by applied function\u001b[0m\u001b[0;34m\u001b[0m\u001b[0;34m\u001b[0m\u001b[0m\n",
      "\u001b[0;32m~/anaconda3/lib/python3.6/site-packages/pandas/core/groupby.py\u001b[0m in \u001b[0;36m_concat_objects\u001b[0;34m(self, keys, values, not_indexed_same)\u001b[0m\n\u001b[1;32m    888\u001b[0m \u001b[0;34m\u001b[0m\u001b[0m\n\u001b[1;32m    889\u001b[0m             \u001b[0;32mif\u001b[0m \u001b[0misinstance\u001b[0m\u001b[0;34m(\u001b[0m\u001b[0mresult\u001b[0m\u001b[0;34m,\u001b[0m \u001b[0mSeries\u001b[0m\u001b[0;34m)\u001b[0m\u001b[0;34m:\u001b[0m\u001b[0;34m\u001b[0m\u001b[0m\n\u001b[0;32m--> 890\u001b[0;31m                 \u001b[0mresult\u001b[0m \u001b[0;34m=\u001b[0m \u001b[0mresult\u001b[0m\u001b[0;34m.\u001b[0m\u001b[0mreindex\u001b[0m\u001b[0;34m(\u001b[0m\u001b[0max\u001b[0m\u001b[0;34m)\u001b[0m\u001b[0;34m\u001b[0m\u001b[0m\n\u001b[0m\u001b[1;32m    891\u001b[0m             \u001b[0;32melse\u001b[0m\u001b[0;34m:\u001b[0m\u001b[0;34m\u001b[0m\u001b[0m\n\u001b[1;32m    892\u001b[0m \u001b[0;34m\u001b[0m\u001b[0m\n",
      "\u001b[0;32m~/anaconda3/lib/python3.6/site-packages/pandas/core/series.py\u001b[0m in \u001b[0;36mreindex\u001b[0;34m(self, index, **kwargs)\u001b[0m\n\u001b[1;32m   2424\u001b[0m     \u001b[0;34m@\u001b[0m\u001b[0mAppender\u001b[0m\u001b[0;34m(\u001b[0m\u001b[0mgeneric\u001b[0m\u001b[0;34m.\u001b[0m\u001b[0m_shared_docs\u001b[0m\u001b[0;34m[\u001b[0m\u001b[0;34m'reindex'\u001b[0m\u001b[0;34m]\u001b[0m \u001b[0;34m%\u001b[0m \u001b[0m_shared_doc_kwargs\u001b[0m\u001b[0;34m)\u001b[0m\u001b[0;34m\u001b[0m\u001b[0m\n\u001b[1;32m   2425\u001b[0m     \u001b[0;32mdef\u001b[0m \u001b[0mreindex\u001b[0m\u001b[0;34m(\u001b[0m\u001b[0mself\u001b[0m\u001b[0;34m,\u001b[0m \u001b[0mindex\u001b[0m\u001b[0;34m=\u001b[0m\u001b[0;32mNone\u001b[0m\u001b[0;34m,\u001b[0m \u001b[0;34m**\u001b[0m\u001b[0mkwargs\u001b[0m\u001b[0;34m)\u001b[0m\u001b[0;34m:\u001b[0m\u001b[0;34m\u001b[0m\u001b[0m\n\u001b[0;32m-> 2426\u001b[0;31m         \u001b[0;32mreturn\u001b[0m \u001b[0msuper\u001b[0m\u001b[0;34m(\u001b[0m\u001b[0mSeries\u001b[0m\u001b[0;34m,\u001b[0m \u001b[0mself\u001b[0m\u001b[0;34m)\u001b[0m\u001b[0;34m.\u001b[0m\u001b[0mreindex\u001b[0m\u001b[0;34m(\u001b[0m\u001b[0mindex\u001b[0m\u001b[0;34m=\u001b[0m\u001b[0mindex\u001b[0m\u001b[0;34m,\u001b[0m \u001b[0;34m**\u001b[0m\u001b[0mkwargs\u001b[0m\u001b[0;34m)\u001b[0m\u001b[0;34m\u001b[0m\u001b[0m\n\u001b[0m\u001b[1;32m   2427\u001b[0m \u001b[0;34m\u001b[0m\u001b[0m\n\u001b[1;32m   2428\u001b[0m     \u001b[0;34m@\u001b[0m\u001b[0mAppender\u001b[0m\u001b[0;34m(\u001b[0m\u001b[0mgeneric\u001b[0m\u001b[0;34m.\u001b[0m\u001b[0m_shared_docs\u001b[0m\u001b[0;34m[\u001b[0m\u001b[0;34m'fillna'\u001b[0m\u001b[0;34m]\u001b[0m \u001b[0;34m%\u001b[0m \u001b[0m_shared_doc_kwargs\u001b[0m\u001b[0;34m)\u001b[0m\u001b[0;34m\u001b[0m\u001b[0m\n",
      "\u001b[0;32m~/anaconda3/lib/python3.6/site-packages/pandas/core/generic.py\u001b[0m in \u001b[0;36mreindex\u001b[0;34m(self, *args, **kwargs)\u001b[0m\n\u001b[1;32m   2513\u001b[0m         \u001b[0;31m# perform the reindex on the axes\u001b[0m\u001b[0;34m\u001b[0m\u001b[0;34m\u001b[0m\u001b[0m\n\u001b[1;32m   2514\u001b[0m         return self._reindex_axes(axes, level, limit, tolerance, method,\n\u001b[0;32m-> 2515\u001b[0;31m                                   fill_value, copy).__finalize__(self)\n\u001b[0m\u001b[1;32m   2516\u001b[0m \u001b[0;34m\u001b[0m\u001b[0m\n\u001b[1;32m   2517\u001b[0m     def _reindex_axes(self, axes, level, limit, tolerance, method, fill_value,\n",
      "\u001b[0;32m~/anaconda3/lib/python3.6/site-packages/pandas/core/generic.py\u001b[0m in \u001b[0;36m_reindex_axes\u001b[0;34m(self, axes, level, limit, tolerance, method, fill_value, copy)\u001b[0m\n\u001b[1;32m   2526\u001b[0m             \u001b[0max\u001b[0m \u001b[0;34m=\u001b[0m \u001b[0mself\u001b[0m\u001b[0;34m.\u001b[0m\u001b[0m_get_axis\u001b[0m\u001b[0;34m(\u001b[0m\u001b[0ma\u001b[0m\u001b[0;34m)\u001b[0m\u001b[0;34m\u001b[0m\u001b[0m\n\u001b[1;32m   2527\u001b[0m             new_index, indexer = ax.reindex(labels, level=level, limit=limit,\n\u001b[0;32m-> 2528\u001b[0;31m                                             tolerance=tolerance, method=method)\n\u001b[0m\u001b[1;32m   2529\u001b[0m \u001b[0;34m\u001b[0m\u001b[0m\n\u001b[1;32m   2530\u001b[0m             \u001b[0maxis\u001b[0m \u001b[0;34m=\u001b[0m \u001b[0mself\u001b[0m\u001b[0;34m.\u001b[0m\u001b[0m_get_axis_number\u001b[0m\u001b[0;34m(\u001b[0m\u001b[0ma\u001b[0m\u001b[0;34m)\u001b[0m\u001b[0;34m\u001b[0m\u001b[0m\n",
      "\u001b[0;32m~/anaconda3/lib/python3.6/site-packages/pandas/core/indexes/base.py\u001b[0m in \u001b[0;36mreindex\u001b[0;34m(self, target, method, level, limit, tolerance)\u001b[0m\n\u001b[1;32m   2885\u001b[0m                         raise ValueError(\"cannot reindex a non-unique index \"\n\u001b[1;32m   2886\u001b[0m                                          \"with a method or limit\")\n\u001b[0;32m-> 2887\u001b[0;31m                     \u001b[0mindexer\u001b[0m\u001b[0;34m,\u001b[0m \u001b[0mmissing\u001b[0m \u001b[0;34m=\u001b[0m \u001b[0mself\u001b[0m\u001b[0;34m.\u001b[0m\u001b[0mget_indexer_non_unique\u001b[0m\u001b[0;34m(\u001b[0m\u001b[0mtarget\u001b[0m\u001b[0;34m)\u001b[0m\u001b[0;34m\u001b[0m\u001b[0m\n\u001b[0m\u001b[1;32m   2888\u001b[0m \u001b[0;34m\u001b[0m\u001b[0m\n\u001b[1;32m   2889\u001b[0m         \u001b[0;32mif\u001b[0m \u001b[0mpreserve_names\u001b[0m \u001b[0;32mand\u001b[0m \u001b[0mtarget\u001b[0m\u001b[0;34m.\u001b[0m\u001b[0mnlevels\u001b[0m \u001b[0;34m==\u001b[0m \u001b[0;36m1\u001b[0m \u001b[0;32mand\u001b[0m \u001b[0mtarget\u001b[0m\u001b[0;34m.\u001b[0m\u001b[0mname\u001b[0m \u001b[0;34m!=\u001b[0m \u001b[0mself\u001b[0m\u001b[0;34m.\u001b[0m\u001b[0mname\u001b[0m\u001b[0;34m:\u001b[0m\u001b[0;34m\u001b[0m\u001b[0m\n",
      "\u001b[0;32m~/anaconda3/lib/python3.6/site-packages/pandas/core/indexes/base.py\u001b[0m in \u001b[0;36mget_indexer_non_unique\u001b[0;34m(self, target)\u001b[0m\n\u001b[1;32m   2706\u001b[0m             \u001b[0mtgt_values\u001b[0m \u001b[0;34m=\u001b[0m \u001b[0mtarget\u001b[0m\u001b[0;34m.\u001b[0m\u001b[0m_values\u001b[0m\u001b[0;34m\u001b[0m\u001b[0m\n\u001b[1;32m   2707\u001b[0m \u001b[0;34m\u001b[0m\u001b[0m\n\u001b[0;32m-> 2708\u001b[0;31m         \u001b[0mindexer\u001b[0m\u001b[0;34m,\u001b[0m \u001b[0mmissing\u001b[0m \u001b[0;34m=\u001b[0m \u001b[0mself\u001b[0m\u001b[0;34m.\u001b[0m\u001b[0m_engine\u001b[0m\u001b[0;34m.\u001b[0m\u001b[0mget_indexer_non_unique\u001b[0m\u001b[0;34m(\u001b[0m\u001b[0mtgt_values\u001b[0m\u001b[0;34m)\u001b[0m\u001b[0;34m\u001b[0m\u001b[0m\n\u001b[0m\u001b[1;32m   2709\u001b[0m         \u001b[0;32mreturn\u001b[0m \u001b[0mIndex\u001b[0m\u001b[0;34m(\u001b[0m\u001b[0mindexer\u001b[0m\u001b[0;34m)\u001b[0m\u001b[0;34m,\u001b[0m \u001b[0mmissing\u001b[0m\u001b[0;34m\u001b[0m\u001b[0m\n\u001b[1;32m   2710\u001b[0m \u001b[0;34m\u001b[0m\u001b[0m\n",
      "\u001b[0;32mpandas/_libs/index.pyx\u001b[0m in \u001b[0;36mpandas._libs.index.IndexEngine.get_indexer_non_unique\u001b[0;34m()\u001b[0m\n",
      "\u001b[0;32m~/anaconda3/lib/python3.6/site-packages/numpy/core/fromnumeric.py\u001b[0m in \u001b[0;36mresize\u001b[0;34m(a, new_shape)\u001b[0m\n\u001b[1;32m   1134\u001b[0m         \u001b[0mextra\u001b[0m \u001b[0;34m=\u001b[0m \u001b[0mNa\u001b[0m\u001b[0;34m-\u001b[0m\u001b[0mextra\u001b[0m\u001b[0;34m\u001b[0m\u001b[0m\n\u001b[1;32m   1135\u001b[0m \u001b[0;34m\u001b[0m\u001b[0m\n\u001b[0;32m-> 1136\u001b[0;31m     \u001b[0ma\u001b[0m \u001b[0;34m=\u001b[0m \u001b[0mconcatenate\u001b[0m\u001b[0;34m(\u001b[0m\u001b[0;34m(\u001b[0m\u001b[0ma\u001b[0m\u001b[0;34m,\u001b[0m\u001b[0;34m)\u001b[0m\u001b[0;34m*\u001b[0m\u001b[0mn_copies\u001b[0m\u001b[0;34m)\u001b[0m\u001b[0;34m\u001b[0m\u001b[0m\n\u001b[0m\u001b[1;32m   1137\u001b[0m     \u001b[0;32mif\u001b[0m \u001b[0mextra\u001b[0m \u001b[0;34m>\u001b[0m \u001b[0;36m0\u001b[0m\u001b[0;34m:\u001b[0m\u001b[0;34m\u001b[0m\u001b[0m\n\u001b[1;32m   1138\u001b[0m         \u001b[0ma\u001b[0m \u001b[0;34m=\u001b[0m \u001b[0ma\u001b[0m\u001b[0;34m[\u001b[0m\u001b[0;34m:\u001b[0m\u001b[0;34m-\u001b[0m\u001b[0mextra\u001b[0m\u001b[0;34m]\u001b[0m\u001b[0;34m\u001b[0m\u001b[0m\n",
      "\u001b[0;31mKeyboardInterrupt\u001b[0m: "
     ]
    }
   ],
   "source": [
    "feb_week['time_between_stops'] = feb_week.groupby(level=0)['actualtime_arr'].diff()"
   ]
  },
  {
   "cell_type": "code",
   "execution_count": null,
   "metadata": {},
   "outputs": [],
   "source": [
    "feb_week[100:150]"
   ]
  },
  {
   "cell_type": "code",
   "execution_count": null,
   "metadata": {},
   "outputs": [],
   "source": [
    "feb_week.shape"
   ]
  },
  {
   "cell_type": "code",
   "execution_count": null,
   "metadata": {},
   "outputs": [],
   "source": [
    "feb_week.time_between_stops.clip_lower(5)\n",
    "feb_week.time_between_stops.clip_upper(2000)"
   ]
  },
  {
   "cell_type": "code",
   "execution_count": null,
   "metadata": {
    "collapsed": true
   },
   "outputs": [],
   "source": [
    "feb_week.time_between_stops.fillna(1,inplace=True)"
   ]
  },
  {
   "cell_type": "code",
   "execution_count": null,
   "metadata": {},
   "outputs": [],
   "source": [
    "feb_week.head()"
   ]
  },
  {
   "cell_type": "markdown",
   "metadata": {},
   "source": [
    "### Shuffle and split data to run models "
   ]
  },
  {
   "cell_type": "code",
   "execution_count": null,
   "metadata": {},
   "outputs": [],
   "source": [
    "#Split the dataset into two datasets: 70% training and 30% test.\n",
    "shuffled = shuffle(feb_week)\n",
    "\n",
    "y = feb_week[['time_between_stops']]\n",
    "X_train, X_test, y_train, y_test = train_test_split(shuffled, y.values.ravel(), test_size=0.3)\n",
    "\n",
    "#Extract only the columns we are using as predictors \n",
    "X= X_train[['Temperature', 'weekday']]\n",
    "X_train=X_train[['Temperature', 'weekday']]\n",
    "X_test=X_test[['Temperature','weekday']]"
   ]
  },
  {
   "cell_type": "markdown",
   "metadata": {},
   "source": [
    "### ANN Model"
   ]
  },
  {
   "cell_type": "code",
   "execution_count": null,
   "metadata": {},
   "outputs": [],
   "source": [
    "ann = MLPRegressor(solver='lbfgs', alpha=1e-5,  hidden_layer_sizes=(5, 2), random_state=1)\n",
    "ann.fit(X_train, y_train)\n",
    "print ('Training set:')\n",
    "print_metrics(ann.predict(X_train), y_train)\n",
    "print_metrics(ann.predict(X_test), y_test)\n",
    "print ('\\nTest set:')"
   ]
  },
  {
   "cell_type": "markdown",
   "metadata": {},
   "source": [
    "### Gradient Boosting Model"
   ]
  },
  {
   "cell_type": "code",
   "execution_count": null,
   "metadata": {
    "collapsed": true
   },
   "outputs": [],
   "source": [
    "est = GradientBoostingRegressor(n_estimators=100, learning_rate=0.1,max_depth=1, random_state=0, loss='ls').fit(X_train, y_train)\n",
    "est\n",
    "print ('Training set:')\n",
    "print_metrics(est.predict(X_train),y_train)\n",
    "print ('\\nTest set:')\n",
    "print_metrics(est.predict(X_test),y_test)"
   ]
  },
  {
   "cell_type": "code",
   "execution_count": null,
   "metadata": {
    "collapsed": true
   },
   "outputs": [],
   "source": [
    "params = {'n_estimators': 100, 'max_depth': 1,\n",
    "          'learning_rate': 0.1, 'loss': 'ls'}\n",
    "\n",
    "# compute test set deviance\n",
    "test_score = np.zeros((params['n_estimators'],), dtype=np.float64)\n",
    "\n",
    "for i, y_pred in enumerate(est.staged_predict(X_test)):\n",
    "    test_score[i] = est.loss_(y_test, y_pred)\n",
    "\n",
    "plt.figure(figsize=(12, 6))\n",
    "plt.subplot(1, 2, 1)\n",
    "plt.title('Deviance')\n",
    "plt.plot(np.arange(params['n_estimators']) + 1, est.train_score_, 'b-',\n",
    "         label='Training Set Deviance')\n",
    "plt.plot(np.arange(params['n_estimators']) + 1, test_score, 'r-',\n",
    "         label='Test Set Deviance')\n",
    "plt.legend(loc='upper right')\n",
    "plt.xlabel('Boosting Iterations')\n",
    "plt.ylabel('Deviance')\n",
    "\n",
    "# #############################################################################\n",
    "# Plot feature importance\n",
    "feature_importance = est.feature_importances_\n",
    "# make importances relative to max importance\n",
    "feature_importance = 100.0 * (feature_importance / feature_importance.max())\n",
    "sorted_idx = np.argsort(feature_importance)\n",
    "pos = np.arange(sorted_idx.shape[0]) + .5\n",
    "plt.subplot(1, 2, 2)\n",
    "plt.barh(pos, feature_importance[sorted_idx], align='center')\n",
    "plt.yticks(pos, df_rf.columns)\n",
    "plt.xlabel('Relative Importance')\n",
    "plt.title('Variable Importance')\n",
    "plt.show()"
   ]
  },
  {
   "cell_type": "markdown",
   "metadata": {},
   "source": [
    "### Random Forest Model"
   ]
  },
  {
   "cell_type": "code",
   "execution_count": null,
   "metadata": {
    "collapsed": true
   },
   "outputs": [],
   "source": [
    "rf = RandomForestRegressor(n_estimators = 1000, random_state = 42) # Instantiate model with 1000 decision trees\n",
    "rf.fit(X_train, y_train)    # Train the model on training data\n"
   ]
  },
  {
   "cell_type": "code",
   "execution_count": null,
   "metadata": {
    "collapsed": true
   },
   "outputs": [],
   "source": [
    "print ('Training set:')\n",
    "print_metrics(rf.predict(X_train),y_train )\n",
    "print ('\\nTest set:')\n",
    "print_metrics(rf.predict(X_test),y_test )"
   ]
  },
  {
   "cell_type": "code",
   "execution_count": null,
   "metadata": {
    "collapsed": true
   },
   "outputs": [],
   "source": []
  }
 ],
 "metadata": {
  "kernelspec": {
   "display_name": "Python 3",
   "language": "python",
   "name": "python3"
  },
  "language_info": {
   "codemirror_mode": {
    "name": "ipython",
    "version": 3
   },
   "file_extension": ".py",
   "mimetype": "text/x-python",
   "name": "python",
   "nbconvert_exporter": "python",
   "pygments_lexer": "ipython3",
   "version": "3.6.3"
  }
 },
 "nbformat": 4,
 "nbformat_minor": 2
}
